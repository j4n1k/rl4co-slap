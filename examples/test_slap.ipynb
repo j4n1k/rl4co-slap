{
 "cells": [
  {
   "cell_type": "code",
   "id": "initial_id",
   "metadata": {
    "collapsed": true,
    "ExecuteTime": {
     "end_time": "2024-07-29T12:38:19.818288Z",
     "start_time": "2024-07-29T12:38:15.004137Z"
    }
   },
   "source": [
    "%load_ext autoreload\n",
    "%autoreload 2\n",
    "\n",
    "import torch\n",
    "import torch.nn as nn\n",
    "from rl4co.envs import SLAPEnv\n",
    "from rl4co.envs.warehousing.slap.generator import SLAPGenerator\n",
    "from rl4co.models import AttentionModelPolicy, REINFORCE\n",
    "from rl4co.utils.trainer import RL4COTrainer"
   ],
   "outputs": [
    {
     "name": "stderr",
     "output_type": "stream",
     "text": [
      "C:\\Users\\zm0714\\Documents\\Projekte\\rl4co-slap\\venv\\Lib\\site-packages\\torchrl\\data\\replay_buffers\\samplers.py:37: UserWarning: Failed to import torchrl C++ binaries. Some modules (eg, prioritized replay buffers) may not work with your installation. If you installed TorchRL from PyPI, please report the bug on TorchRL github. If you installed TorchRL locally and/or in development mode, check that you have all the required compiling packages.\n",
      "  warnings.warn(EXTENSION_WARNING)\n",
      "C:\\Users\\zm0714\\Documents\\Projekte\\rl4co-slap\\venv\\Lib\\site-packages\\lightning\\fabric\\__init__.py:41: pkg_resources is deprecated as an API. See https://setuptools.pypa.io/en/latest/pkg_resources.html\n",
      "C:\\Users\\zm0714\\Documents\\Projekte\\rl4co-slap\\venv\\Lib\\site-packages\\lightning\\fabric\\__init__.py:41: Deprecated call to `pkg_resources.declare_namespace('lightning.fabric')`.\n",
      "Implementing implicit namespace packages (as specified in PEP 420) is preferred to `pkg_resources.declare_namespace`. See https://setuptools.pypa.io/en/latest/references/keywords.html#keyword-namespace-packages\n",
      "C:\\Users\\zm0714\\Documents\\Projekte\\rl4co-slap\\venv\\Lib\\site-packages\\pkg_resources\\__init__.py:2350: DeprecationWarning: Deprecated call to `pkg_resources.declare_namespace('lightning')`.\n",
      "Implementing implicit namespace packages (as specified in PEP 420) is preferred to `pkg_resources.declare_namespace`. See https://setuptools.pypa.io/en/latest/references/keywords.html#keyword-namespace-packages\n",
      "  declare_namespace(parent)\n",
      "C:\\Users\\zm0714\\Documents\\Projekte\\rl4co-slap\\venv\\Lib\\site-packages\\lightning\\pytorch\\__init__.py:37: Deprecated call to `pkg_resources.declare_namespace('lightning.pytorch')`.\n",
      "Implementing implicit namespace packages (as specified in PEP 420) is preferred to `pkg_resources.declare_namespace`. See https://setuptools.pypa.io/en/latest/references/keywords.html#keyword-namespace-packages\n",
      "C:\\Users\\zm0714\\Documents\\Projekte\\rl4co-slap\\venv\\Lib\\site-packages\\pkg_resources\\__init__.py:2350: DeprecationWarning: Deprecated call to `pkg_resources.declare_namespace('lightning')`.\n",
      "Implementing implicit namespace packages (as specified in PEP 420) is preferred to `pkg_resources.declare_namespace`. See https://setuptools.pypa.io/en/latest/references/keywords.html#keyword-namespace-packages\n",
      "  declare_namespace(parent)\n"
     ]
    }
   ],
   "execution_count": 1
  },
  {
   "metadata": {
    "ExecuteTime": {
     "end_time": "2024-07-29T12:38:31.606501Z",
     "start_time": "2024-07-29T12:38:31.512428Z"
    }
   },
   "cell_type": "code",
   "source": [
    "class SLAPInitEmbedding(nn.Module):\n",
    "    \"\"\"Initial embedding \n",
    "    Embed the following node features to the embedding space:\n",
    "        - locs: x, y coordinates of the nodes (cells)\n",
    "        - probe: index of the (single) probe cell. We embed the euclidean distance from the probe to all cells.\n",
    "    \"\"\"\n",
    "\n",
    "    def __init__(self, embed_dim, linear_bias=True):\n",
    "        super(SLAPInitEmbedding, self).__init__()\n",
    "        node_dim = 2  # x, y\n",
    "        self.init_embed = self.init_embed = nn.Linear(node_dim, embed_dim, linear_bias)  # locs\n",
    "        #self.init_embed_probe = nn.Linear(1, embed_dim // 2, linear_bias)  # probe\n",
    "\n",
    "    def forward(self, td):\n",
    "        # node_embeddings = self.init_embed(td[\"locs\"])\n",
    "        node_embeddings = self.init_embed(td[\"locs\"])        \n",
    "        # dist_embeddings = self.init_embed(\n",
    "        #     self._get_distance_matrix(td[\"locs\"]))\n",
    "        # print(dist_embeddings.shape)\n",
    "        # return torch.cat([node_embeddings, dist_embeddings], -1)\n",
    "        return node_embeddings\n",
    "    \n",
    "    @staticmethod\n",
    "    def _get_distance_matrix(locs: torch.Tensor):\n",
    "        \"\"\"Compute the Manhattan distance matrix for the given coordinates.\n",
    "\n",
    "        Args:\n",
    "            locs: Tensor of shape [..., n, dim]\n",
    "        \"\"\"\n",
    "        if locs.dtype != torch.float32 and locs.dtype != torch.float64:\n",
    "            locs = locs.to(torch.float32)\n",
    "\n",
    "            # Compute pairwise differences\n",
    "        diff = locs[..., :, None, :] - locs[..., None, :, :]\n",
    "\n",
    "        # Compute Manhattan distance\n",
    "        distance_matrix = torch.sum(torch.abs(diff), dim=-1)\n",
    "        return distance_matrix\n",
    "\n",
    "    "
   ],
   "id": "adba91e79727a62a",
   "outputs": [],
   "execution_count": 2
  },
  {
   "metadata": {
    "ExecuteTime": {
     "end_time": "2024-07-29T12:38:32.299368Z",
     "start_time": "2024-07-29T12:38:32.209059Z"
    }
   },
   "cell_type": "code",
   "source": [
    "from rl4co.models.nn.env_embeddings.context import EnvContext\n",
    "\n",
    "\n",
    "class SLAPContext(EnvContext):\n",
    "    \"\"\"Context embedding for the Decap Placement Problem (DPP), EDA (electronic design automation).\n",
    "    Project the following to the embedding space:\n",
    "        - current cell embedding\n",
    "    \"\"\"\n",
    "\n",
    "    def __init__(self, embed_dim):\n",
    "        super(SLAPContext, self).__init__(embed_dim)\n",
    "\n",
    "    def forward(self, embeddings, td):\n",
    "        \"\"\"Context cannot be defined by a single node embedding for DPP, hence 0.\n",
    "        We modify the dynamic embedding instead to capture placed items\n",
    "        \"\"\"\n",
    "        # cur_node_embedding = self._cur_node_embedding(embeddings, td).squeeze()\n",
    "        # print(cur_node_embedding)\n",
    "        # print(cur_node_embedding.shape)\n",
    "        # return self.project_context(cur_node_embedding)\n",
    "        return embeddings.new_zeros(embeddings.size(0), self.embed_dim)"
   ],
   "id": "2fc675529fc444ab",
   "outputs": [],
   "execution_count": 3
  },
  {
   "metadata": {
    "ExecuteTime": {
     "end_time": "2024-07-29T12:38:32.962184Z",
     "start_time": "2024-07-29T12:38:32.875525Z"
    }
   },
   "cell_type": "code",
   "source": [
    "class StaticEmbedding(nn.Module):\n",
    "    def __init__(self, *args, **kwargs):\n",
    "        super(StaticEmbedding, self).__init__()\n",
    "\n",
    "    def forward(self, td):\n",
    "        return 0, 0, 0"
   ],
   "id": "b5c43c1902d79ec9",
   "outputs": [],
   "execution_count": 4
  },
  {
   "metadata": {
    "ExecuteTime": {
     "end_time": "2024-07-29T12:38:33.648091Z",
     "start_time": "2024-07-29T12:38:33.537830Z"
    }
   },
   "cell_type": "code",
   "source": [
    "env = SLAPEnv(generator_params={'n_aisles': 10,\n",
    "                                'n_locs': 10})"
   ],
   "id": "4f3a45c512a65aac",
   "outputs": [],
   "execution_count": 5
  },
  {
   "metadata": {
    "ExecuteTime": {
     "end_time": "2024-07-29T12:38:34.355409Z",
     "start_time": "2024-07-29T12:38:34.225640Z"
    }
   },
   "cell_type": "code",
   "source": [
    "from rl4co.models import AttentionModel\n",
    "emb_dim = 128\n",
    "policy = AttentionModelPolicy(env_name=env.name, # this is actually not needed since we are initializing the embeddings!\n",
    "                              embed_dim=emb_dim,\n",
    "                              init_embedding=SLAPInitEmbedding(emb_dim),\n",
    "                              context_embedding=SLAPContext(emb_dim),\n",
    "                              dynamic_embedding=StaticEmbedding(emb_dim)\n",
    ")\n",
    "\n",
    "model = AttentionModel(env, \n",
    "                       policy=policy,\n",
    "                       baseline='rollout',\n",
    "                       train_data_size=100_000,\n",
    "                       val_data_size=10_000)"
   ],
   "id": "b61e11773ea1760b",
   "outputs": [
    {
     "name": "stderr",
     "output_type": "stream",
     "text": [
      "C:\\Users\\zm0714\\Documents\\Projekte\\rl4co-slap\\venv\\Lib\\site-packages\\lightning\\pytorch\\utilities\\parsing.py:208: Attribute 'env' is an instance of `nn.Module` and is already saved during checkpointing. It is recommended to ignore them using `self.save_hyperparameters(ignore=['env'])`.\n",
      "C:\\Users\\zm0714\\Documents\\Projekte\\rl4co-slap\\venv\\Lib\\site-packages\\lightning\\pytorch\\utilities\\parsing.py:208: Attribute 'policy' is an instance of `nn.Module` and is already saved during checkpointing. It is recommended to ignore them using `self.save_hyperparameters(ignore=['policy'])`.\n"
     ]
    }
   ],
   "execution_count": 6
  },
  {
   "metadata": {
    "ExecuteTime": {
     "end_time": "2024-07-29T12:38:35.847228Z",
     "start_time": "2024-07-29T12:38:35.742595Z"
    }
   },
   "cell_type": "code",
   "source": [
    "from rl4co.models.nn.mlp import MLP\n",
    "from rl4co.models import PPO\n",
    "\n",
    "# policy = MLP(input_dim=2, output_dim=1)\n",
    "# critic = MLP(input_dim=2, output_dim=1)\n",
    "model = PPO(env, policy)"
   ],
   "id": "a0405f5872d71de",
   "outputs": [],
   "execution_count": 7
  },
  {
   "metadata": {
    "ExecuteTime": {
     "end_time": "2024-07-29T12:38:38.114008Z",
     "start_time": "2024-07-29T12:38:37.845125Z"
    }
   },
   "cell_type": "code",
   "source": [
    "device = torch.device(\"cuda\" if torch.cuda.is_available() else \"cpu\")\n",
    "td_init = env.reset(batch_size=[2]).to(device)\n",
    "policy = model.policy.to(device)\n",
    "out = policy(td_init.clone(), env, phase=\"test\", decode_type=\"greedy\", return_actions=True)\n",
    "actions_untrained = out['actions'].cpu().detach()\n",
    "rewards_untrained = out['reward'].cpu().detach()\n",
    "\n",
    "for i in range(2):\n",
    "    print(f\"Problem {i+1} | Cost: {-rewards_untrained[i]:.3f}\")\n",
    "    env.render(td_init[i], actions=actions_untrained[i])"
   ],
   "id": "ada0c5996d6f94f9",
   "outputs": [
    {
     "name": "stdout",
     "output_type": "stream",
     "text": [
      "Problem 1 | Cost: 0.000\n"
     ]
    },
    {
     "data": {
      "text/plain": [
       "<Figure size 640x480 with 1 Axes>"
      ],
      "image/png": "[encoded data removed]"
     },
     "metadata": {},
     "output_type": "display_data"
    },
    {
     "name": "stdout",
     "output_type": "stream",
     "text": [
      "Problem 2 | Cost: 0.000\n"
     ]
    },
    {
     "data": {
      "text/plain": [
       "<Figure size 640x480 with 1 Axes>"
      ],
      "image/png": "[encoded data removed]"
     },
     "metadata": {},
     "output_type": "display_data"
    }
   ],
   "execution_count": 8
  },
  {
   "metadata": {},
   "cell_type": "code",
   "source": [
    "trainer = RL4COTrainer(max_epochs=1, devices=\"auto\")\n",
    "trainer.fit(model)"
   ],
   "id": "855c1f2d6c29ba28",
   "outputs": [],
   "execution_count": null
  },
  {
   "metadata": {
    "ExecuteTime": {
     "end_time": "2024-07-27T23:10:55.540164Z",
     "start_time": "2024-07-27T23:10:55.536216Z"
    }
   },
   "cell_type": "code",
   "source": "",
   "id": "b48fd42308b63c3b",
   "outputs": [],
   "execution_count": 15
  }
 ],
 "metadata": {
  "kernelspec": {
   "display_name": "Python 3",
   "language": "python",
   "name": "python3"
  },
  "language_info": {
   "codemirror_mode": {
    "name": "ipython",
    "version": 2
   },
   "file_extension": ".py",
   "mimetype": "text/x-python",
   "name": "python",
   "nbconvert_exporter": "python",
   "pygments_lexer": "ipython2",
   "version": "2.7.6"
  }
 },
 "nbformat": 4,
 "nbformat_minor": 5
}
