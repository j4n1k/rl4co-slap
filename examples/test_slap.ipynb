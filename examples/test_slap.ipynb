{
 "cells": [
  {
   "cell_type": "code",
   "id": "initial_id",
   "metadata": {
    "collapsed": true,
    "ExecuteTime": {
     "end_time": "2024-10-14T13:22:17.819018Z",
     "start_time": "2024-10-14T13:22:17.723503Z"
    }
   },
   "source": [
    "%load_ext autoreload\n",
    "%autoreload 2\n",
    "\n",
    "import torch\n",
    "import torch.nn as nn\n",
    "from rl4co.envs import SLAPEnv, RL4COEnvBase, OrderBatchingEnv\n",
    "from rl4co.envs.warehousing.slap.generator import SLAPGenerator\n",
    "from rl4co.models import AttentionModelPolicy, REINFORCE\n",
    "from rl4co.utils.trainer import RL4COTrainer\n",
    "from rl4co.utils.ops import gather_by_index\n"
   ],
   "outputs": [
    {
     "name": "stdout",
     "output_type": "stream",
     "text": [
      "The autoreload extension is already loaded. To reload it, use:\n",
      "  %reload_ext autoreload\n"
     ]
    }
   ],
   "execution_count": 6
  },
  {
   "metadata": {
    "ExecuteTime": {
     "end_time": "2024-10-14T13:22:24.513342Z",
     "start_time": "2024-10-14T13:22:24.413363Z"
    }
   },
   "cell_type": "code",
   "source": [
    "class SLAPInitEmbedding(nn.Module):\n",
    "    \"\"\"Initial embedding \n",
    "    Embed the following node features to the embedding space:\n",
    "        - locs: x, y coordinates of the nodes (cells)\n",
    "        - probe: index of the (single) probe cell. We embed the euclidean distance from the probe to all cells.\n",
    "    \"\"\"\n",
    "\n",
    "    def __init__(self, embed_dim, linear_bias=True):\n",
    "        super(SLAPInitEmbedding, self).__init__()\n",
    "        node_dim = 1  # x, y, dist_depot\n",
    "        self.init_embed = nn.Linear(node_dim, embed_dim, linear_bias)  # locs\n",
    "        # self.init_freq = nn.Linear(1, embed_dim, linear_bias)\n",
    "        self.init_embed_depot = nn.Linear(2, embed_dim, linear_bias)\n",
    "\n",
    "    def __forwards(self, td):\n",
    "        # node_embeddings = self.init_embed(td[\"locs\"])\n",
    "        # node_embeddings = self.init_embed(td[\"locs\"])     \n",
    "        depot = td[\"locs\"][:, :1, :]\n",
    "        storage_locs = td[\"locs\"][:, 1:, :]\n",
    "        dist_mat = self._get_distance_matrix(td[\"locs\"])\n",
    "        depot_idx = 0\n",
    "        depot_to_all_distances = dist_mat[:,depot_idx, :]\n",
    "        depot_to_all_distances = torch.cat([\n",
    "            depot_to_all_distances[:, :depot_idx],  # Distances before depot index\n",
    "            depot_to_all_distances[:, depot_idx + 1:]\n",
    "        ], dim=1)\n",
    "        node_embeddings = self.init_embed(\n",
    "            torch.cat((storage_locs, depot_to_all_distances[..., None]), -1)\n",
    "        )\n",
    "        depot_embedding = self.init_embed_depot(depot)\n",
    "        out = torch.cat((depot_embedding, node_embeddings), -2)\n",
    "        return out\n",
    "    \n",
    "    def _forward(self, td):\n",
    "        dist_mat = self._get_distance_matrix(td[\"locs\"])\n",
    "        depot_idx = 0\n",
    "        depot_to_all_distances = dist_mat[:,depot_idx, :]\n",
    "        node_embeddings = self.init_embed(\n",
    "            torch.cat((td[\"locs\"], depot_to_all_distances[..., None]), -1)\n",
    "        )\n",
    "        print(node_embeddings.shape)\n",
    "        return node_embeddings\n",
    "    \n",
    "    def forward(self, td):\n",
    "        dist_mat = self._get_distance_matrix(td[\"locs\"])\n",
    "        depot_idx = 0\n",
    "        depot_to_all_distances = dist_mat[:,depot_idx, :]\n",
    "        node_embeddings = self.init_embed(depot_to_all_distances[..., None])\n",
    "        return node_embeddings\n",
    "    \n",
    "    def _distance_depot(self, locs, depot):\n",
    "        pass\n",
    "        \n",
    "    @staticmethod\n",
    "    def _get_distance_matrix(locs: torch.Tensor):\n",
    "        \"\"\"Compute the Manhattan distance matrix for the given coordinates.\n",
    "\n",
    "        Args:\n",
    "            locs: Tensor of shape [..., n, dim]\n",
    "        \"\"\"\n",
    "        if locs.dtype != torch.float32 and locs.dtype != torch.float64:\n",
    "            locs = locs.to(torch.float32)\n",
    "\n",
    "            # Compute pairwise differences\n",
    "        diff = locs[..., :, None, :] - locs[..., None, :, :]\n",
    "\n",
    "        # Compute Manhattan distance\n",
    "        distance_matrix = torch.sum(torch.abs(diff), dim=-1)\n",
    "        return distance_matrix\n",
    "\n",
    "    "
   ],
   "id": "adba91e79727a62a",
   "outputs": [],
   "execution_count": 7
  },
  {
   "metadata": {
    "ExecuteTime": {
     "end_time": "2024-10-14T13:22:25.295607Z",
     "start_time": "2024-10-14T13:22:25.199628Z"
    }
   },
   "cell_type": "code",
   "source": [
    "from rl4co.models.nn.env_embeddings.context import EnvContext\n",
    "\n",
    "\n",
    "class SLAPContext(EnvContext):\n",
    "    \"\"\"Context embedding for the Decap Placement Problem (DPP), EDA (electronic design automation).\n",
    "    Project the following to the embedding space:\n",
    "        - current cell embedding\n",
    "    \"\"\"\n",
    "\n",
    "    def __init__(self, embed_dim):\n",
    "        super(SLAPContext, self).__init__(embed_dim)\n",
    "\n",
    "    def forward(self, embeddings, td):\n",
    "        \"\"\"Context cannot be defined by a single node embedding for DPP, hence 0.\n",
    "        We modify the dynamic embedding instead to capture placed items\n",
    "        \"\"\"\n",
    "        return embeddings.new_zeros(embeddings.size(0), self.embed_dim)"
   ],
   "id": "2fc675529fc444ab",
   "outputs": [],
   "execution_count": 8
  },
  {
   "metadata": {
    "ExecuteTime": {
     "end_time": "2024-10-14T13:22:25.672997Z",
     "start_time": "2024-10-14T13:22:25.572466Z"
    }
   },
   "cell_type": "code",
   "source": [
    "class StaticEmbedding(nn.Module):\n",
    "    def __init__(self, *args, **kwargs):\n",
    "        super(StaticEmbedding, self).__init__()\n",
    "\n",
    "    def forward(self, td):\n",
    "        return 0, 0, 0"
   ],
   "id": "b5c43c1902d79ec9",
   "outputs": [],
   "execution_count": 9
  },
  {
   "metadata": {
    "ExecuteTime": {
     "end_time": "2024-10-14T13:22:26.036784Z",
     "start_time": "2024-10-14T13:22:25.940205Z"
    }
   },
   "cell_type": "code",
   "source": [
    "class SLAPDynamicEmbedding(nn.Module):\n",
    "    \"\"\"Dynamic embedding for the Split Delivery Vehicle Routing Problem (SDVRP).\n",
    "    Embed the following node features to the embedding space:\n",
    "        - demand_with_depot: demand of the customers and the depot\n",
    "    The demand with depot is used to modify the query, key and value vectors of the attention mechanism\n",
    "    based on the current state of the environment (which is changing during the rollout).\n",
    "    \"\"\"\n",
    "\n",
    "    def __init__(self, embed_dim, linear_bias=False):\n",
    "        super(SLAPDynamicEmbedding, self).__init__()\n",
    "        self.projection = nn.Linear(1, 3 * embed_dim, bias=linear_bias)\n",
    "\n",
    "    def forward(self, td):\n",
    "        next_product = td[\"to_choose\"][0, 0].view(1).to(torch.int)\n",
    "        # next_product = next_product.to(torch.int)\n",
    "        # indices = torch.tensor([0])\n",
    "        batch_size = td[\"freq\"].shape[0]\n",
    "        next_product_freq = torch.index_select(td[\"freq\"], 1, next_product).view(batch_size,1)\n",
    "        # next_product_freq = td[\"freq\"][\n",
    "        #     torch.arange(td[\"freq\"].size(0)\n",
    "        #                  ).unsqueeze(0),\n",
    "        #     next_product].to(torch.int)\n",
    "        # print(td[\"freq\"].shape)\n",
    "        # print(next_product.shape)\n",
    "        # n_locs = td[\"depot_loc_dist\"].shape[1]\n",
    "        # val1 = next_product_freq[0, 0, 0].item()\n",
    "        # val2 = next_product_freq[0, 1, 0].item()\n",
    "        # first_row = torch.full((n_locs,), val1, dtype=torch.int32)  # Shape: [100]\n",
    "        # second_row = torch.full((n_locs,), val2, dtype=torch.int32)  # Shape: [100]\n",
    "\n",
    "        # final_tensor = torch.stack((first_row, second_row), dim=0)\n",
    "        # print(f\"{final_tensor.shape} / {td['depot_loc_dist'].shape}\")\n",
    "        ratio = td[\"depot_loc_dist\"] / next_product_freq\n",
    "        # print(ratio)\n",
    "        ratio[..., 0] = 0\n",
    "        glimpse_key_dynamic, glimpse_val_dynamic, logit_key_dynamic = self.projection(\n",
    "            ratio[..., None]\n",
    "        ).chunk(3, dim=-1)\n",
    "        return glimpse_key_dynamic, glimpse_val_dynamic, logit_key_dynamic\n",
    "    \n",
    "    @staticmethod\n",
    "    def _get_distance_matrix(locs: torch.Tensor):\n",
    "        \"\"\"Compute the Manhattan distance matrix for the given coordinates.\n",
    "\n",
    "        Args:\n",
    "            locs: Tensor of shape [..., n, dim]\n",
    "        \"\"\"\n",
    "        if locs.dtype != torch.float32 and locs.dtype != torch.float64:\n",
    "            locs = locs.to(torch.float32)\n",
    "\n",
    "            # Compute pairwise differences\n",
    "        diff = locs[..., :, None, :] - locs[..., None, :, :]\n",
    "\n",
    "        # Compute Manhattan distance\n",
    "        distance_matrix = torch.sum(torch.abs(diff), dim=-1)\n",
    "        return distance_matrix"
   ],
   "id": "401deab2f9a2a368",
   "outputs": [],
   "execution_count": 10
  },
  {
   "metadata": {
    "ExecuteTime": {
     "end_time": "2024-10-14T13:22:33.284191Z",
     "start_time": "2024-10-14T13:22:33.182036Z"
    }
   },
   "cell_type": "code",
   "source": "env = OrderBatchingEnv()",
   "id": "4949c9da2e113679",
   "outputs": [],
   "execution_count": 11
  },
  {
   "metadata": {
    "ExecuteTime": {
     "end_time": "2024-10-14T13:22:40.917545Z",
     "start_time": "2024-10-14T13:22:40.287997Z"
    }
   },
   "cell_type": "code",
   "source": "",
   "id": "ef6bdc3ebf392fa0",
   "outputs": [
    {
     "ename": "TypeError",
     "evalue": "OrderBatchingEnv.get_action_mask() missing 1 required positional argument: 'td'",
     "output_type": "error",
     "traceback": [
      "\u001B[1;31m---------------------------------------------------------------------------\u001B[0m",
      "\u001B[1;31mTypeError\u001B[0m                                 Traceback (most recent call last)",
      "Cell \u001B[1;32mIn[12], line 1\u001B[0m\n\u001B[1;32m----> 1\u001B[0m \u001B[43menv\u001B[49m\u001B[38;5;241;43m.\u001B[39;49m\u001B[43mget_action_mask\u001B[49m\u001B[43m(\u001B[49m\u001B[43m)\u001B[49m\n",
      "\u001B[1;31mTypeError\u001B[0m: OrderBatchingEnv.get_action_mask() missing 1 required positional argument: 'td'"
     ]
    }
   ],
   "execution_count": 12
  },
  {
   "metadata": {
    "ExecuteTime": {
     "end_time": "2024-10-14T08:01:58.712586Z",
     "start_time": "2024-10-14T08:01:58.466360Z"
    }
   },
   "cell_type": "code",
   "source": [
    "env = SLAPEnv(generator_params={'n_aisles': 10,\n",
    "                                'n_locs': 10})"
   ],
   "id": "4f3a45c512a65aac",
   "outputs": [],
   "execution_count": 6
  },
  {
   "metadata": {
    "ExecuteTime": {
     "end_time": "2024-10-14T08:01:58.916945Z",
     "start_time": "2024-10-14T08:01:58.712586Z"
    }
   },
   "cell_type": "code",
   "source": [
    "from rl4co.models import AttentionModel\n",
    "emb_dim = 128\n",
    "policy = AttentionModelPolicy(env_name=env.name, # this is actually not needed since we are initializing the embeddings!\n",
    "                              embed_dim=emb_dim,\n",
    "                              init_embedding=SLAPInitEmbedding(emb_dim),\n",
    "                              context_embedding=SLAPContext(emb_dim),\n",
    "                              dynamic_embedding=StaticEmbedding(emb_dim)\n",
    ")\n",
    "\n",
    "model = AttentionModel(env, \n",
    "                       policy=policy,\n",
    "                       baseline='rollout',\n",
    "                       train_data_size=20,\n",
    "                       val_data_size=20)"
   ],
   "id": "b61e11773ea1760b",
   "outputs": [
    {
     "name": "stderr",
     "output_type": "stream",
     "text": [
      "C:\\Users\\zm0714\\Documents\\Projekte\\rl4co-slap\\venv\\Lib\\site-packages\\lightning\\pytorch\\utilities\\parsing.py:208: Attribute 'env' is an instance of `nn.Module` and is already saved during checkpointing. It is recommended to ignore them using `self.save_hyperparameters(ignore=['env'])`.\n",
      "C:\\Users\\zm0714\\Documents\\Projekte\\rl4co-slap\\venv\\Lib\\site-packages\\lightning\\pytorch\\utilities\\parsing.py:208: Attribute 'policy' is an instance of `nn.Module` and is already saved during checkpointing. It is recommended to ignore them using `self.save_hyperparameters(ignore=['policy'])`.\n"
     ]
    }
   ],
   "execution_count": 7
  },
  {
   "metadata": {
    "ExecuteTime": {
     "end_time": "2024-10-14T08:02:08.315145Z",
     "start_time": "2024-10-14T08:02:07.607458Z"
    }
   },
   "cell_type": "code",
   "source": [
    "device = torch.device(\"cuda\" if torch.cuda.is_available() else \"cpu\")\n",
    "td_init = env.reset(batch_size=[3]).to(device)\n",
    "policy = model.policy.to(device)\n",
    "out = policy(td_init.clone(), env, phase=\"test\", decode_type=\"greedy\", return_actions=True)\n",
    "actions_untrained = out['actions'].cpu().detach()\n",
    "rewards_untrained = out['reward'].cpu().detach()\n",
    "\n",
    "for i in range(2):\n",
    "    print(f\"Problem {i+1} | Cost: {-rewards_untrained[i]:.3f}\")\n",
    "    env.render(td_init[i], actions=actions_untrained[i])"
   ],
   "id": "ada0c5996d6f94f9",
   "outputs": [
    {
     "name": "stdout",
     "output_type": "stream",
     "text": [
      "Problem 1 | Cost: 629.199\n"
     ]
    },
    {
     "ename": "IndexError",
     "evalue": "tensors used as indices must be long, int, byte or bool tensors",
     "output_type": "error",
     "traceback": [
      "\u001B[1;31m---------------------------------------------------------------------------\u001B[0m",
      "\u001B[1;31mIndexError\u001B[0m                                Traceback (most recent call last)",
      "Cell \u001B[1;32mIn[8], line 10\u001B[0m\n\u001B[0;32m      8\u001B[0m \u001B[38;5;28;01mfor\u001B[39;00m i \u001B[38;5;129;01min\u001B[39;00m \u001B[38;5;28mrange\u001B[39m(\u001B[38;5;241m2\u001B[39m):\n\u001B[0;32m      9\u001B[0m     \u001B[38;5;28mprint\u001B[39m(\u001B[38;5;124mf\u001B[39m\u001B[38;5;124m\"\u001B[39m\u001B[38;5;124mProblem \u001B[39m\u001B[38;5;132;01m{\u001B[39;00mi\u001B[38;5;241m+\u001B[39m\u001B[38;5;241m1\u001B[39m\u001B[38;5;132;01m}\u001B[39;00m\u001B[38;5;124m | Cost: \u001B[39m\u001B[38;5;132;01m{\u001B[39;00m\u001B[38;5;241m-\u001B[39mrewards_untrained[i]\u001B[38;5;132;01m:\u001B[39;00m\u001B[38;5;124m.3f\u001B[39m\u001B[38;5;132;01m}\u001B[39;00m\u001B[38;5;124m\"\u001B[39m)\n\u001B[1;32m---> 10\u001B[0m     \u001B[43menv\u001B[49m\u001B[38;5;241;43m.\u001B[39;49m\u001B[43mrender\u001B[49m\u001B[43m(\u001B[49m\u001B[43mtd_init\u001B[49m\u001B[43m[\u001B[49m\u001B[43mi\u001B[49m\u001B[43m]\u001B[49m\u001B[43m,\u001B[49m\u001B[43m \u001B[49m\u001B[43mactions\u001B[49m\u001B[38;5;241;43m=\u001B[39;49m\u001B[43mactions_untrained\u001B[49m\u001B[43m[\u001B[49m\u001B[43mi\u001B[49m\u001B[43m]\u001B[49m\u001B[43m)\u001B[49m\n",
      "File \u001B[1;32m~\\Documents\\Projekte\\rl4co-slap\\rl4co\\envs\\warehousing\\slap\\env.py:175\u001B[0m, in \u001B[0;36mSLAPEnv.render\u001B[1;34m(self, td, actions, ax)\u001B[0m\n\u001B[0;32m    170\u001B[0m ax\u001B[38;5;241m.\u001B[39mscatter(x_a, y_a, color\u001B[38;5;241m=\u001B[39m\u001B[38;5;124m'\u001B[39m\u001B[38;5;124mred\u001B[39m\u001B[38;5;124m'\u001B[39m, s\u001B[38;5;241m=\u001B[39m\u001B[38;5;241m100\u001B[39m, label\u001B[38;5;241m=\u001B[39m\u001B[38;5;124m'\u001B[39m\u001B[38;5;124mAssigned Products\u001B[39m\u001B[38;5;124m'\u001B[39m,\n\u001B[0;32m    171\u001B[0m             edgecolor\u001B[38;5;241m=\u001B[39m\u001B[38;5;124m'\u001B[39m\u001B[38;5;124mblack\u001B[39m\u001B[38;5;124m'\u001B[39m)\n\u001B[0;32m    172\u001B[0m \u001B[38;5;28;01mfor\u001B[39;00m i, idx \u001B[38;5;129;01min\u001B[39;00m \u001B[38;5;28menumerate\u001B[39m(assigned):\n\u001B[0;32m    173\u001B[0m     ax\u001B[38;5;241m.\u001B[39mannotate(\n\u001B[0;32m    174\u001B[0m         assigned[i],\n\u001B[1;32m--> 175\u001B[0m         (\u001B[43mx_a\u001B[49m\u001B[43m[\u001B[49m\u001B[43midx\u001B[49m\u001B[43m]\u001B[49m, y_a[idx]),\n\u001B[0;32m    176\u001B[0m         textcoords\u001B[38;5;241m=\u001B[39m\u001B[38;5;124m\"\u001B[39m\u001B[38;5;124moffset points\u001B[39m\u001B[38;5;124m\"\u001B[39m,\n\u001B[0;32m    177\u001B[0m         xytext\u001B[38;5;241m=\u001B[39m(\u001B[38;5;241m0\u001B[39m, \u001B[38;5;241m10\u001B[39m),\n\u001B[0;32m    178\u001B[0m         ha\u001B[38;5;241m=\u001B[39m\u001B[38;5;124m'\u001B[39m\u001B[38;5;124mcenter\u001B[39m\u001B[38;5;124m'\u001B[39m,\n\u001B[0;32m    179\u001B[0m         fontsize\u001B[38;5;241m=\u001B[39m\u001B[38;5;241m12\u001B[39m,\n\u001B[0;32m    180\u001B[0m         color\u001B[38;5;241m=\u001B[39m\u001B[38;5;124m'\u001B[39m\u001B[38;5;124mblack\u001B[39m\u001B[38;5;124m'\u001B[39m\n\u001B[0;32m    181\u001B[0m     )\n\u001B[0;32m    182\u001B[0m plt\u001B[38;5;241m.\u001B[39mshow()\n",
      "\u001B[1;31mIndexError\u001B[0m: tensors used as indices must be long, int, byte or bool tensors"
     ]
    },
    {
     "data": {
      "text/plain": [
       "<Figure size 640x480 with 1 Axes>"
      ],
      "image/png": "[encoded data removed]"
     },
     "metadata": {},
     "output_type": "display_data"
    }
   ],
   "execution_count": 8
  },
  {
   "metadata": {
    "ExecuteTime": {
     "end_time": "2024-10-12T22:35:17.451004Z",
     "start_time": "2024-10-12T22:33:41.780443Z"
    }
   },
   "cell_type": "code",
   "source": [
    "trainer = RL4COTrainer(max_epochs=100, devices=\"auto\")\n",
    "trainer.fit(model)"
   ],
   "id": "855c1f2d6c29ba28",
   "outputs": [
    {
     "name": "stderr",
     "output_type": "stream",
     "text": [
      "Using bfloat16 Automatic Mixed Precision (AMP)\n",
      "GPU available: False, used: False\n",
      "TPU available: False, using: 0 TPU cores\n",
      "HPU available: False, using: 0 HPUs\n",
      "val_file not set. Generating dataset instead\n",
      "test_file not set. Generating dataset instead\n",
      "\n",
      "  | Name     | Type                 | Params | Mode \n",
      "----------------------------------------------------------\n",
      "0 | env      | SLAPEnv              | 0      | train\n",
      "1 | policy   | AttentionModelPolicy | 693 K  | eval \n",
      "2 | baseline | WarmupBaseline       | 693 K  | train\n",
      "----------------------------------------------------------\n",
      "1.4 M     Trainable params\n",
      "0         Non-trainable params\n",
      "1.4 M     Total params\n",
      "5.550     Total estimated model params size (MB)\n"
     ]
    },
    {
     "data": {
      "text/plain": [
       "Sanity Checking: |          | 0/? [00:00<?, ?it/s]"
      ],
      "application/vnd.jupyter.widget-view+json": {
       "version_major": 2,
       "version_minor": 0,
       "model_id": "677039554ba943bc86140f33867503a8"
      }
     },
     "metadata": {},
     "output_type": "display_data"
    },
    {
     "data": {
      "text/plain": [
       "Training: |          | 0/? [00:00<?, ?it/s]"
      ],
      "application/vnd.jupyter.widget-view+json": {
       "version_major": 2,
       "version_minor": 0,
       "model_id": "886f08cf0fe447af84f58d3725ee729c"
      }
     },
     "metadata": {},
     "output_type": "display_data"
    },
    {
     "data": {
      "text/plain": [
       "Validation: |          | 0/? [00:00<?, ?it/s]"
      ],
      "application/vnd.jupyter.widget-view+json": {
       "version_major": 2,
       "version_minor": 0,
       "model_id": "fc1e4df669b946608ed1875b74b376d7"
      }
     },
     "metadata": {},
     "output_type": "display_data"
    },
    {
     "data": {
      "text/plain": [
       "Validation: |          | 0/? [00:00<?, ?it/s]"
      ],
      "application/vnd.jupyter.widget-view+json": {
       "version_major": 2,
       "version_minor": 0,
       "model_id": "a7d1d99bac5b4dbf8b79fa2b4cd8d2b4"
      }
     },
     "metadata": {},
     "output_type": "display_data"
    },
    {
     "data": {
      "text/plain": [
       "Validation: |          | 0/? [00:00<?, ?it/s]"
      ],
      "application/vnd.jupyter.widget-view+json": {
       "version_major": 2,
       "version_minor": 0,
       "model_id": "cec563082cfd457aae444e2f1c39ba4d"
      }
     },
     "metadata": {},
     "output_type": "display_data"
    },
    {
     "data": {
      "text/plain": [
       "Validation: |          | 0/? [00:00<?, ?it/s]"
      ],
      "application/vnd.jupyter.widget-view+json": {
       "version_major": 2,
       "version_minor": 0,
       "model_id": "b04e7c291e654236b4d399b0fe74fbb9"
      }
     },
     "metadata": {},
     "output_type": "display_data"
    },
    {
     "data": {
      "text/plain": [
       "Validation: |          | 0/? [00:00<?, ?it/s]"
      ],
      "application/vnd.jupyter.widget-view+json": {
       "version_major": 2,
       "version_minor": 0,
       "model_id": "9b356d4cbc4b48c295560a0710df9b50"
      }
     },
     "metadata": {},
     "output_type": "display_data"
    },
    {
     "data": {
      "text/plain": [
       "Validation: |          | 0/? [00:00<?, ?it/s]"
      ],
      "application/vnd.jupyter.widget-view+json": {
       "version_major": 2,
       "version_minor": 0,
       "model_id": "f4a03bca59c24a7d89996c39101935f7"
      }
     },
     "metadata": {},
     "output_type": "display_data"
    },
    {
     "data": {
      "text/plain": [
       "Validation: |          | 0/? [00:00<?, ?it/s]"
      ],
      "application/vnd.jupyter.widget-view+json": {
       "version_major": 2,
       "version_minor": 0,
       "model_id": "7a73f7fb248b4c7cb162642345721b5c"
      }
     },
     "metadata": {},
     "output_type": "display_data"
    },
    {
     "data": {
      "text/plain": [
       "Validation: |          | 0/? [00:00<?, ?it/s]"
      ],
      "application/vnd.jupyter.widget-view+json": {
       "version_major": 2,
       "version_minor": 0,
       "model_id": "bebe7e3a27fd465ca7f6f814347e6a21"
      }
     },
     "metadata": {},
     "output_type": "display_data"
    },
    {
     "data": {
      "text/plain": [
       "Validation: |          | 0/? [00:00<?, ?it/s]"
      ],
      "application/vnd.jupyter.widget-view+json": {
       "version_major": 2,
       "version_minor": 0,
       "model_id": "5f5c5994c0d647a091b9accaec2f500c"
      }
     },
     "metadata": {},
     "output_type": "display_data"
    },
    {
     "data": {
      "text/plain": [
       "Validation: |          | 0/? [00:00<?, ?it/s]"
      ],
      "application/vnd.jupyter.widget-view+json": {
       "version_major": 2,
       "version_minor": 0,
       "model_id": "6d4c13718a7140759fe252480709b87c"
      }
     },
     "metadata": {},
     "output_type": "display_data"
    },
    {
     "data": {
      "text/plain": [
       "Validation: |          | 0/? [00:00<?, ?it/s]"
      ],
      "application/vnd.jupyter.widget-view+json": {
       "version_major": 2,
       "version_minor": 0,
       "model_id": "1d04477f654c45ddbf8862755ca52d22"
      }
     },
     "metadata": {},
     "output_type": "display_data"
    },
    {
     "data": {
      "text/plain": [
       "Validation: |          | 0/? [00:00<?, ?it/s]"
      ],
      "application/vnd.jupyter.widget-view+json": {
       "version_major": 2,
       "version_minor": 0,
       "model_id": "85d6fcd42ce248ffac2eb9b26394f5a4"
      }
     },
     "metadata": {},
     "output_type": "display_data"
    },
    {
     "data": {
      "text/plain": [
       "Validation: |          | 0/? [00:00<?, ?it/s]"
      ],
      "application/vnd.jupyter.widget-view+json": {
       "version_major": 2,
       "version_minor": 0,
       "model_id": "e00af39268c04c3ba03e73002ea7a056"
      }
     },
     "metadata": {},
     "output_type": "display_data"
    },
    {
     "data": {
      "text/plain": [
       "Validation: |          | 0/? [00:00<?, ?it/s]"
      ],
      "application/vnd.jupyter.widget-view+json": {
       "version_major": 2,
       "version_minor": 0,
       "model_id": "e117a721a533406d9868238a742662d3"
      }
     },
     "metadata": {},
     "output_type": "display_data"
    },
    {
     "data": {
      "text/plain": [
       "Validation: |          | 0/? [00:00<?, ?it/s]"
      ],
      "application/vnd.jupyter.widget-view+json": {
       "version_major": 2,
       "version_minor": 0,
       "model_id": "823dcd778f5b482d8fb60736e09f8f1a"
      }
     },
     "metadata": {},
     "output_type": "display_data"
    },
    {
     "data": {
      "text/plain": [
       "Validation: |          | 0/? [00:00<?, ?it/s]"
      ],
      "application/vnd.jupyter.widget-view+json": {
       "version_major": 2,
       "version_minor": 0,
       "model_id": "e978dcdcf3c849b0a94152ce4c413059"
      }
     },
     "metadata": {},
     "output_type": "display_data"
    },
    {
     "data": {
      "text/plain": [
       "Validation: |          | 0/? [00:00<?, ?it/s]"
      ],
      "application/vnd.jupyter.widget-view+json": {
       "version_major": 2,
       "version_minor": 0,
       "model_id": "d9f63e76247e4c9f8c4c1a50f96f0e80"
      }
     },
     "metadata": {},
     "output_type": "display_data"
    },
    {
     "data": {
      "text/plain": [
       "Validation: |          | 0/? [00:00<?, ?it/s]"
      ],
      "application/vnd.jupyter.widget-view+json": {
       "version_major": 2,
       "version_minor": 0,
       "model_id": "648405a0a9f445d5a341684890da3570"
      }
     },
     "metadata": {},
     "output_type": "display_data"
    },
    {
     "data": {
      "text/plain": [
       "Validation: |          | 0/? [00:00<?, ?it/s]"
      ],
      "application/vnd.jupyter.widget-view+json": {
       "version_major": 2,
       "version_minor": 0,
       "model_id": "7d5bb2d8ce2c47cbb76d06b8c2b9b7c1"
      }
     },
     "metadata": {},
     "output_type": "display_data"
    },
    {
     "data": {
      "text/plain": [
       "Validation: |          | 0/? [00:00<?, ?it/s]"
      ],
      "application/vnd.jupyter.widget-view+json": {
       "version_major": 2,
       "version_minor": 0,
       "model_id": "c1a690ddaef54f5787699610df83821d"
      }
     },
     "metadata": {},
     "output_type": "display_data"
    },
    {
     "data": {
      "text/plain": [
       "Validation: |          | 0/? [00:00<?, ?it/s]"
      ],
      "application/vnd.jupyter.widget-view+json": {
       "version_major": 2,
       "version_minor": 0,
       "model_id": "09e08efccab04fd5bd0e12981af2e570"
      }
     },
     "metadata": {},
     "output_type": "display_data"
    },
    {
     "data": {
      "text/plain": [
       "Validation: |          | 0/? [00:00<?, ?it/s]"
      ],
      "application/vnd.jupyter.widget-view+json": {
       "version_major": 2,
       "version_minor": 0,
       "model_id": "0762715045644b9498fbf91d0134db21"
      }
     },
     "metadata": {},
     "output_type": "display_data"
    },
    {
     "data": {
      "text/plain": [
       "Validation: |          | 0/? [00:00<?, ?it/s]"
      ],
      "application/vnd.jupyter.widget-view+json": {
       "version_major": 2,
       "version_minor": 0,
       "model_id": "341abccf3cf249b89bcfa35f5ee62dfb"
      }
     },
     "metadata": {},
     "output_type": "display_data"
    },
    {
     "data": {
      "text/plain": [
       "Validation: |          | 0/? [00:00<?, ?it/s]"
      ],
      "application/vnd.jupyter.widget-view+json": {
       "version_major": 2,
       "version_minor": 0,
       "model_id": "bfbeac192c044fbc9f5fa628954fafa0"
      }
     },
     "metadata": {},
     "output_type": "display_data"
    },
    {
     "data": {
      "text/plain": [
       "Validation: |          | 0/? [00:00<?, ?it/s]"
      ],
      "application/vnd.jupyter.widget-view+json": {
       "version_major": 2,
       "version_minor": 0,
       "model_id": "46a348be27644e24bcb42826a2ab20bc"
      }
     },
     "metadata": {},
     "output_type": "display_data"
    },
    {
     "data": {
      "text/plain": [
       "Validation: |          | 0/? [00:00<?, ?it/s]"
      ],
      "application/vnd.jupyter.widget-view+json": {
       "version_major": 2,
       "version_minor": 0,
       "model_id": "5345ce59cdf54164a475739259ead627"
      }
     },
     "metadata": {},
     "output_type": "display_data"
    },
    {
     "data": {
      "text/plain": [
       "Validation: |          | 0/? [00:00<?, ?it/s]"
      ],
      "application/vnd.jupyter.widget-view+json": {
       "version_major": 2,
       "version_minor": 0,
       "model_id": "b45dc7c38a3c460a99f0d007e4342b94"
      }
     },
     "metadata": {},
     "output_type": "display_data"
    },
    {
     "data": {
      "text/plain": [
       "Validation: |          | 0/? [00:00<?, ?it/s]"
      ],
      "application/vnd.jupyter.widget-view+json": {
       "version_major": 2,
       "version_minor": 0,
       "model_id": "6418f3642aa24c2982564127df17c676"
      }
     },
     "metadata": {},
     "output_type": "display_data"
    },
    {
     "data": {
      "text/plain": [
       "Validation: |          | 0/? [00:00<?, ?it/s]"
      ],
      "application/vnd.jupyter.widget-view+json": {
       "version_major": 2,
       "version_minor": 0,
       "model_id": "104ac51ab9044104b3c947d1a4e29f4d"
      }
     },
     "metadata": {},
     "output_type": "display_data"
    },
    {
     "data": {
      "text/plain": [
       "Validation: |          | 0/? [00:00<?, ?it/s]"
      ],
      "application/vnd.jupyter.widget-view+json": {
       "version_major": 2,
       "version_minor": 0,
       "model_id": "a880acf80fde402cba8ab003d9446e5b"
      }
     },
     "metadata": {},
     "output_type": "display_data"
    },
    {
     "data": {
      "text/plain": [
       "Validation: |          | 0/? [00:00<?, ?it/s]"
      ],
      "application/vnd.jupyter.widget-view+json": {
       "version_major": 2,
       "version_minor": 0,
       "model_id": "0c589b47e7264a90947d13cacff226c2"
      }
     },
     "metadata": {},
     "output_type": "display_data"
    },
    {
     "data": {
      "text/plain": [
       "Validation: |          | 0/? [00:00<?, ?it/s]"
      ],
      "application/vnd.jupyter.widget-view+json": {
       "version_major": 2,
       "version_minor": 0,
       "model_id": "04bd285cb57b4de9baa6a6a4b3b0d4d5"
      }
     },
     "metadata": {},
     "output_type": "display_data"
    },
    {
     "data": {
      "text/plain": [
       "Validation: |          | 0/? [00:00<?, ?it/s]"
      ],
      "application/vnd.jupyter.widget-view+json": {
       "version_major": 2,
       "version_minor": 0,
       "model_id": "afe0c408f0db46b4aed8c860b59e3818"
      }
     },
     "metadata": {},
     "output_type": "display_data"
    },
    {
     "data": {
      "text/plain": [
       "Validation: |          | 0/? [00:00<?, ?it/s]"
      ],
      "application/vnd.jupyter.widget-view+json": {
       "version_major": 2,
       "version_minor": 0,
       "model_id": "357f0710389949e983b0f27ea6c93935"
      }
     },
     "metadata": {},
     "output_type": "display_data"
    },
    {
     "data": {
      "text/plain": [
       "Validation: |          | 0/? [00:00<?, ?it/s]"
      ],
      "application/vnd.jupyter.widget-view+json": {
       "version_major": 2,
       "version_minor": 0,
       "model_id": "66f29eb4420d47718a48e71f04d6e95a"
      }
     },
     "metadata": {},
     "output_type": "display_data"
    },
    {
     "data": {
      "text/plain": [
       "Validation: |          | 0/? [00:00<?, ?it/s]"
      ],
      "application/vnd.jupyter.widget-view+json": {
       "version_major": 2,
       "version_minor": 0,
       "model_id": "a9c4c26e3de5445897b159cec3f85d20"
      }
     },
     "metadata": {},
     "output_type": "display_data"
    },
    {
     "data": {
      "text/plain": [
       "Validation: |          | 0/? [00:00<?, ?it/s]"
      ],
      "application/vnd.jupyter.widget-view+json": {
       "version_major": 2,
       "version_minor": 0,
       "model_id": "e23debda0da741b283b23a1e706f444d"
      }
     },
     "metadata": {},
     "output_type": "display_data"
    },
    {
     "data": {
      "text/plain": [
       "Validation: |          | 0/? [00:00<?, ?it/s]"
      ],
      "application/vnd.jupyter.widget-view+json": {
       "version_major": 2,
       "version_minor": 0,
       "model_id": "85a5c1a1f02944fa9fc6ca26df92e3d8"
      }
     },
     "metadata": {},
     "output_type": "display_data"
    },
    {
     "data": {
      "text/plain": [
       "Validation: |          | 0/? [00:00<?, ?it/s]"
      ],
      "application/vnd.jupyter.widget-view+json": {
       "version_major": 2,
       "version_minor": 0,
       "model_id": "cbee79f5f86049db944487715afccbf2"
      }
     },
     "metadata": {},
     "output_type": "display_data"
    },
    {
     "data": {
      "text/plain": [
       "Validation: |          | 0/? [00:00<?, ?it/s]"
      ],
      "application/vnd.jupyter.widget-view+json": {
       "version_major": 2,
       "version_minor": 0,
       "model_id": "c404af5c5763422fac7e21344d6a29de"
      }
     },
     "metadata": {},
     "output_type": "display_data"
    },
    {
     "data": {
      "text/plain": [
       "Validation: |          | 0/? [00:00<?, ?it/s]"
      ],
      "application/vnd.jupyter.widget-view+json": {
       "version_major": 2,
       "version_minor": 0,
       "model_id": "f7d244250a8e480cb78e275b8514accf"
      }
     },
     "metadata": {},
     "output_type": "display_data"
    },
    {
     "data": {
      "text/plain": [
       "Validation: |          | 0/? [00:00<?, ?it/s]"
      ],
      "application/vnd.jupyter.widget-view+json": {
       "version_major": 2,
       "version_minor": 0,
       "model_id": "8772da526bb74af6895990fd4a169863"
      }
     },
     "metadata": {},
     "output_type": "display_data"
    },
    {
     "data": {
      "text/plain": [
       "Validation: |          | 0/? [00:00<?, ?it/s]"
      ],
      "application/vnd.jupyter.widget-view+json": {
       "version_major": 2,
       "version_minor": 0,
       "model_id": "93c77ecec0014d2bba3ebfb0882c5822"
      }
     },
     "metadata": {},
     "output_type": "display_data"
    },
    {
     "data": {
      "text/plain": [
       "Validation: |          | 0/? [00:00<?, ?it/s]"
      ],
      "application/vnd.jupyter.widget-view+json": {
       "version_major": 2,
       "version_minor": 0,
       "model_id": "482269ba9aaf49e4b7bf44bdd4c305d9"
      }
     },
     "metadata": {},
     "output_type": "display_data"
    },
    {
     "data": {
      "text/plain": [
       "Validation: |          | 0/? [00:00<?, ?it/s]"
      ],
      "application/vnd.jupyter.widget-view+json": {
       "version_major": 2,
       "version_minor": 0,
       "model_id": "6f5af50576994e19be5fa87e1ada4500"
      }
     },
     "metadata": {},
     "output_type": "display_data"
    },
    {
     "data": {
      "text/plain": [
       "Validation: |          | 0/? [00:00<?, ?it/s]"
      ],
      "application/vnd.jupyter.widget-view+json": {
       "version_major": 2,
       "version_minor": 0,
       "model_id": "ceb40c7cefe24883813882a53d42f08d"
      }
     },
     "metadata": {},
     "output_type": "display_data"
    },
    {
     "data": {
      "text/plain": [
       "Validation: |          | 0/? [00:00<?, ?it/s]"
      ],
      "application/vnd.jupyter.widget-view+json": {
       "version_major": 2,
       "version_minor": 0,
       "model_id": "9cb8508d3a604fe7972830d44911bf00"
      }
     },
     "metadata": {},
     "output_type": "display_data"
    },
    {
     "data": {
      "text/plain": [
       "Validation: |          | 0/? [00:00<?, ?it/s]"
      ],
      "application/vnd.jupyter.widget-view+json": {
       "version_major": 2,
       "version_minor": 0,
       "model_id": "2ab7062eb3fb4e7c8667fdc986b10100"
      }
     },
     "metadata": {},
     "output_type": "display_data"
    },
    {
     "data": {
      "text/plain": [
       "Validation: |          | 0/? [00:00<?, ?it/s]"
      ],
      "application/vnd.jupyter.widget-view+json": {
       "version_major": 2,
       "version_minor": 0,
       "model_id": "594abaa6509a469894d40eecad4edfc9"
      }
     },
     "metadata": {},
     "output_type": "display_data"
    },
    {
     "data": {
      "text/plain": [
       "Validation: |          | 0/? [00:00<?, ?it/s]"
      ],
      "application/vnd.jupyter.widget-view+json": {
       "version_major": 2,
       "version_minor": 0,
       "model_id": "cd818f9bdb6d4ed59f9a15950d6eef8a"
      }
     },
     "metadata": {},
     "output_type": "display_data"
    },
    {
     "data": {
      "text/plain": [
       "Validation: |          | 0/? [00:00<?, ?it/s]"
      ],
      "application/vnd.jupyter.widget-view+json": {
       "version_major": 2,
       "version_minor": 0,
       "model_id": "8435e30a995c468cb33e61e6216756ff"
      }
     },
     "metadata": {},
     "output_type": "display_data"
    },
    {
     "data": {
      "text/plain": [
       "Validation: |          | 0/? [00:00<?, ?it/s]"
      ],
      "application/vnd.jupyter.widget-view+json": {
       "version_major": 2,
       "version_minor": 0,
       "model_id": "1d974a441f8a4fc892c216089f84cb61"
      }
     },
     "metadata": {},
     "output_type": "display_data"
    },
    {
     "data": {
      "text/plain": [
       "Validation: |          | 0/? [00:00<?, ?it/s]"
      ],
      "application/vnd.jupyter.widget-view+json": {
       "version_major": 2,
       "version_minor": 0,
       "model_id": "9499c46599734fd38d3c3aa1caea6331"
      }
     },
     "metadata": {},
     "output_type": "display_data"
    },
    {
     "data": {
      "text/plain": [
       "Validation: |          | 0/? [00:00<?, ?it/s]"
      ],
      "application/vnd.jupyter.widget-view+json": {
       "version_major": 2,
       "version_minor": 0,
       "model_id": "865073bd1d514ed297fedf4b10dc9bde"
      }
     },
     "metadata": {},
     "output_type": "display_data"
    },
    {
     "data": {
      "text/plain": [
       "Validation: |          | 0/? [00:00<?, ?it/s]"
      ],
      "application/vnd.jupyter.widget-view+json": {
       "version_major": 2,
       "version_minor": 0,
       "model_id": "a3ea421269d245bf9a345c3175ff4f5f"
      }
     },
     "metadata": {},
     "output_type": "display_data"
    },
    {
     "data": {
      "text/plain": [
       "Validation: |          | 0/? [00:00<?, ?it/s]"
      ],
      "application/vnd.jupyter.widget-view+json": {
       "version_major": 2,
       "version_minor": 0,
       "model_id": "cf9ce5bd795e4dffb4bc39722aa110ac"
      }
     },
     "metadata": {},
     "output_type": "display_data"
    },
    {
     "data": {
      "text/plain": [
       "Validation: |          | 0/? [00:00<?, ?it/s]"
      ],
      "application/vnd.jupyter.widget-view+json": {
       "version_major": 2,
       "version_minor": 0,
       "model_id": "6fa9c982b67a4c5b90f1fdba27bb72c4"
      }
     },
     "metadata": {},
     "output_type": "display_data"
    },
    {
     "data": {
      "text/plain": [
       "Validation: |          | 0/? [00:00<?, ?it/s]"
      ],
      "application/vnd.jupyter.widget-view+json": {
       "version_major": 2,
       "version_minor": 0,
       "model_id": "e397c7a35f0c4a32ac9721658cd9430c"
      }
     },
     "metadata": {},
     "output_type": "display_data"
    },
    {
     "data": {
      "text/plain": [
       "Validation: |          | 0/? [00:00<?, ?it/s]"
      ],
      "application/vnd.jupyter.widget-view+json": {
       "version_major": 2,
       "version_minor": 0,
       "model_id": "26918d7232f7440d99ca8573c19e9c7e"
      }
     },
     "metadata": {},
     "output_type": "display_data"
    },
    {
     "data": {
      "text/plain": [
       "Validation: |          | 0/? [00:00<?, ?it/s]"
      ],
      "application/vnd.jupyter.widget-view+json": {
       "version_major": 2,
       "version_minor": 0,
       "model_id": "239e98115fac4608918f5824c2fa1212"
      }
     },
     "metadata": {},
     "output_type": "display_data"
    },
    {
     "data": {
      "text/plain": [
       "Validation: |          | 0/? [00:00<?, ?it/s]"
      ],
      "application/vnd.jupyter.widget-view+json": {
       "version_major": 2,
       "version_minor": 0,
       "model_id": "096cdb66dc0146ba809dd9179a42d034"
      }
     },
     "metadata": {},
     "output_type": "display_data"
    },
    {
     "data": {
      "text/plain": [
       "Validation: |          | 0/? [00:00<?, ?it/s]"
      ],
      "application/vnd.jupyter.widget-view+json": {
       "version_major": 2,
       "version_minor": 0,
       "model_id": "f397fea97f5246eea16bf0b4765fd71c"
      }
     },
     "metadata": {},
     "output_type": "display_data"
    },
    {
     "data": {
      "text/plain": [
       "Validation: |          | 0/? [00:00<?, ?it/s]"
      ],
      "application/vnd.jupyter.widget-view+json": {
       "version_major": 2,
       "version_minor": 0,
       "model_id": "3bfd3c1732de446d96f688450e4e4dae"
      }
     },
     "metadata": {},
     "output_type": "display_data"
    },
    {
     "data": {
      "text/plain": [
       "Validation: |          | 0/? [00:00<?, ?it/s]"
      ],
      "application/vnd.jupyter.widget-view+json": {
       "version_major": 2,
       "version_minor": 0,
       "model_id": "c36a781926bc4988a721eacc69e5b2f5"
      }
     },
     "metadata": {},
     "output_type": "display_data"
    },
    {
     "data": {
      "text/plain": [
       "Validation: |          | 0/? [00:00<?, ?it/s]"
      ],
      "application/vnd.jupyter.widget-view+json": {
       "version_major": 2,
       "version_minor": 0,
       "model_id": "f1c70cc98d9e4b6588ae27487c2b97f1"
      }
     },
     "metadata": {},
     "output_type": "display_data"
    },
    {
     "data": {
      "text/plain": [
       "Validation: |          | 0/? [00:00<?, ?it/s]"
      ],
      "application/vnd.jupyter.widget-view+json": {
       "version_major": 2,
       "version_minor": 0,
       "model_id": "03611b8c4c894be68197515a2d10798d"
      }
     },
     "metadata": {},
     "output_type": "display_data"
    },
    {
     "data": {
      "text/plain": [
       "Validation: |          | 0/? [00:00<?, ?it/s]"
      ],
      "application/vnd.jupyter.widget-view+json": {
       "version_major": 2,
       "version_minor": 0,
       "model_id": "7f53af132ffd47cca83f0116644eb3fa"
      }
     },
     "metadata": {},
     "output_type": "display_data"
    },
    {
     "data": {
      "text/plain": [
       "Validation: |          | 0/? [00:00<?, ?it/s]"
      ],
      "application/vnd.jupyter.widget-view+json": {
       "version_major": 2,
       "version_minor": 0,
       "model_id": "39dfbd8a2b5a4fc1b77c2b0b09b2fcc3"
      }
     },
     "metadata": {},
     "output_type": "display_data"
    },
    {
     "data": {
      "text/plain": [
       "Validation: |          | 0/? [00:00<?, ?it/s]"
      ],
      "application/vnd.jupyter.widget-view+json": {
       "version_major": 2,
       "version_minor": 0,
       "model_id": "5401d1c65ad64e8a8c27068873e063d5"
      }
     },
     "metadata": {},
     "output_type": "display_data"
    },
    {
     "data": {
      "text/plain": [
       "Validation: |          | 0/? [00:00<?, ?it/s]"
      ],
      "application/vnd.jupyter.widget-view+json": {
       "version_major": 2,
       "version_minor": 0,
       "model_id": "7f5c63be96824a3d9a1231f36e894010"
      }
     },
     "metadata": {},
     "output_type": "display_data"
    },
    {
     "data": {
      "text/plain": [
       "Validation: |          | 0/? [00:00<?, ?it/s]"
      ],
      "application/vnd.jupyter.widget-view+json": {
       "version_major": 2,
       "version_minor": 0,
       "model_id": "248713ce36a14bc58c04377f47733603"
      }
     },
     "metadata": {},
     "output_type": "display_data"
    },
    {
     "data": {
      "text/plain": [
       "Validation: |          | 0/? [00:00<?, ?it/s]"
      ],
      "application/vnd.jupyter.widget-view+json": {
       "version_major": 2,
       "version_minor": 0,
       "model_id": "c1652eebccc3442ea7d22a43f3931f44"
      }
     },
     "metadata": {},
     "output_type": "display_data"
    },
    {
     "data": {
      "text/plain": [
       "Validation: |          | 0/? [00:00<?, ?it/s]"
      ],
      "application/vnd.jupyter.widget-view+json": {
       "version_major": 2,
       "version_minor": 0,
       "model_id": "d8c1f1130fda499f904e243cd9c2376b"
      }
     },
     "metadata": {},
     "output_type": "display_data"
    },
    {
     "data": {
      "text/plain": [
       "Validation: |          | 0/? [00:00<?, ?it/s]"
      ],
      "application/vnd.jupyter.widget-view+json": {
       "version_major": 2,
       "version_minor": 0,
       "model_id": "4ee037b8e1a84423ae67e352572b702b"
      }
     },
     "metadata": {},
     "output_type": "display_data"
    },
    {
     "data": {
      "text/plain": [
       "Validation: |          | 0/? [00:00<?, ?it/s]"
      ],
      "application/vnd.jupyter.widget-view+json": {
       "version_major": 2,
       "version_minor": 0,
       "model_id": "ebd624eff8344065a181c1a84d383e02"
      }
     },
     "metadata": {},
     "output_type": "display_data"
    },
    {
     "data": {
      "text/plain": [
       "Validation: |          | 0/? [00:00<?, ?it/s]"
      ],
      "application/vnd.jupyter.widget-view+json": {
       "version_major": 2,
       "version_minor": 0,
       "model_id": "636ffe1411354284b769be884b934dde"
      }
     },
     "metadata": {},
     "output_type": "display_data"
    },
    {
     "data": {
      "text/plain": [
       "Validation: |          | 0/? [00:00<?, ?it/s]"
      ],
      "application/vnd.jupyter.widget-view+json": {
       "version_major": 2,
       "version_minor": 0,
       "model_id": "33a322d9523b4de6986c1c788b2d89fa"
      }
     },
     "metadata": {},
     "output_type": "display_data"
    },
    {
     "data": {
      "text/plain": [
       "Validation: |          | 0/? [00:00<?, ?it/s]"
      ],
      "application/vnd.jupyter.widget-view+json": {
       "version_major": 2,
       "version_minor": 0,
       "model_id": "faab054731314936a5b428e4a65f5140"
      }
     },
     "metadata": {},
     "output_type": "display_data"
    },
    {
     "data": {
      "text/plain": [
       "Validation: |          | 0/? [00:00<?, ?it/s]"
      ],
      "application/vnd.jupyter.widget-view+json": {
       "version_major": 2,
       "version_minor": 0,
       "model_id": "e18525618c214258a24bab382e724c08"
      }
     },
     "metadata": {},
     "output_type": "display_data"
    },
    {
     "data": {
      "text/plain": [
       "Validation: |          | 0/? [00:00<?, ?it/s]"
      ],
      "application/vnd.jupyter.widget-view+json": {
       "version_major": 2,
       "version_minor": 0,
       "model_id": "a4b8fdd7a808484cbcbcd975275245bc"
      }
     },
     "metadata": {},
     "output_type": "display_data"
    },
    {
     "data": {
      "text/plain": [
       "Validation: |          | 0/? [00:00<?, ?it/s]"
      ],
      "application/vnd.jupyter.widget-view+json": {
       "version_major": 2,
       "version_minor": 0,
       "model_id": "0696db3a7f92495b913809c084784f8a"
      }
     },
     "metadata": {},
     "output_type": "display_data"
    },
    {
     "data": {
      "text/plain": [
       "Validation: |          | 0/? [00:00<?, ?it/s]"
      ],
      "application/vnd.jupyter.widget-view+json": {
       "version_major": 2,
       "version_minor": 0,
       "model_id": "5413ae4040c14b58b768864216192d22"
      }
     },
     "metadata": {},
     "output_type": "display_data"
    },
    {
     "data": {
      "text/plain": [
       "Validation: |          | 0/? [00:00<?, ?it/s]"
      ],
      "application/vnd.jupyter.widget-view+json": {
       "version_major": 2,
       "version_minor": 0,
       "model_id": "d4563d56b91447a78da8f2f22ba3f8ae"
      }
     },
     "metadata": {},
     "output_type": "display_data"
    },
    {
     "data": {
      "text/plain": [
       "Validation: |          | 0/? [00:00<?, ?it/s]"
      ],
      "application/vnd.jupyter.widget-view+json": {
       "version_major": 2,
       "version_minor": 0,
       "model_id": "c1c65cfbf51f4aeb9ff15bbdc685d27c"
      }
     },
     "metadata": {},
     "output_type": "display_data"
    },
    {
     "data": {
      "text/plain": [
       "Validation: |          | 0/? [00:00<?, ?it/s]"
      ],
      "application/vnd.jupyter.widget-view+json": {
       "version_major": 2,
       "version_minor": 0,
       "model_id": "49d3adfa477049a3a71be36e2cff3773"
      }
     },
     "metadata": {},
     "output_type": "display_data"
    },
    {
     "data": {
      "text/plain": [
       "Validation: |          | 0/? [00:00<?, ?it/s]"
      ],
      "application/vnd.jupyter.widget-view+json": {
       "version_major": 2,
       "version_minor": 0,
       "model_id": "b5b04bf3a0ae4c97805e3e875a5a717c"
      }
     },
     "metadata": {},
     "output_type": "display_data"
    },
    {
     "data": {
      "text/plain": [
       "Validation: |          | 0/? [00:00<?, ?it/s]"
      ],
      "application/vnd.jupyter.widget-view+json": {
       "version_major": 2,
       "version_minor": 0,
       "model_id": "7ad0dec3e48644f187bae606b5d234bf"
      }
     },
     "metadata": {},
     "output_type": "display_data"
    },
    {
     "data": {
      "text/plain": [
       "Validation: |          | 0/? [00:00<?, ?it/s]"
      ],
      "application/vnd.jupyter.widget-view+json": {
       "version_major": 2,
       "version_minor": 0,
       "model_id": "0ac89d1464ea4b708bc95da96495da84"
      }
     },
     "metadata": {},
     "output_type": "display_data"
    },
    {
     "data": {
      "text/plain": [
       "Validation: |          | 0/? [00:00<?, ?it/s]"
      ],
      "application/vnd.jupyter.widget-view+json": {
       "version_major": 2,
       "version_minor": 0,
       "model_id": "0d7dabf2877e4e88bedbaa03faeae14d"
      }
     },
     "metadata": {},
     "output_type": "display_data"
    },
    {
     "data": {
      "text/plain": [
       "Validation: |          | 0/? [00:00<?, ?it/s]"
      ],
      "application/vnd.jupyter.widget-view+json": {
       "version_major": 2,
       "version_minor": 0,
       "model_id": "de954decb5984ba0a2544f33df515dcc"
      }
     },
     "metadata": {},
     "output_type": "display_data"
    },
    {
     "data": {
      "text/plain": [
       "Validation: |          | 0/? [00:00<?, ?it/s]"
      ],
      "application/vnd.jupyter.widget-view+json": {
       "version_major": 2,
       "version_minor": 0,
       "model_id": "05940123ca81488793e9c61a9acef606"
      }
     },
     "metadata": {},
     "output_type": "display_data"
    },
    {
     "data": {
      "text/plain": [
       "Validation: |          | 0/? [00:00<?, ?it/s]"
      ],
      "application/vnd.jupyter.widget-view+json": {
       "version_major": 2,
       "version_minor": 0,
       "model_id": "11c7880b3f3e4de0958938dfd1197b89"
      }
     },
     "metadata": {},
     "output_type": "display_data"
    },
    {
     "data": {
      "text/plain": [
       "Validation: |          | 0/? [00:00<?, ?it/s]"
      ],
      "application/vnd.jupyter.widget-view+json": {
       "version_major": 2,
       "version_minor": 0,
       "model_id": "c8b63870e55e421fa34459c7b6b3e51c"
      }
     },
     "metadata": {},
     "output_type": "display_data"
    },
    {
     "data": {
      "text/plain": [
       "Validation: |          | 0/? [00:00<?, ?it/s]"
      ],
      "application/vnd.jupyter.widget-view+json": {
       "version_major": 2,
       "version_minor": 0,
       "model_id": "095962e08a304560b246c93ab8cc58c2"
      }
     },
     "metadata": {},
     "output_type": "display_data"
    },
    {
     "data": {
      "text/plain": [
       "Validation: |          | 0/? [00:00<?, ?it/s]"
      ],
      "application/vnd.jupyter.widget-view+json": {
       "version_major": 2,
       "version_minor": 0,
       "model_id": "8e9ebaa418554b2ab8876f9eed848742"
      }
     },
     "metadata": {},
     "output_type": "display_data"
    },
    {
     "data": {
      "text/plain": [
       "Validation: |          | 0/? [00:00<?, ?it/s]"
      ],
      "application/vnd.jupyter.widget-view+json": {
       "version_major": 2,
       "version_minor": 0,
       "model_id": "8d89951aa6984916a96af6d230e8dbc2"
      }
     },
     "metadata": {},
     "output_type": "display_data"
    },
    {
     "data": {
      "text/plain": [
       "Validation: |          | 0/? [00:00<?, ?it/s]"
      ],
      "application/vnd.jupyter.widget-view+json": {
       "version_major": 2,
       "version_minor": 0,
       "model_id": "78311267f8fe4329ac72058e5844f692"
      }
     },
     "metadata": {},
     "output_type": "display_data"
    },
    {
     "data": {
      "text/plain": [
       "Validation: |          | 0/? [00:00<?, ?it/s]"
      ],
      "application/vnd.jupyter.widget-view+json": {
       "version_major": 2,
       "version_minor": 0,
       "model_id": "993ef27f878f4dc7888b668d4bb6a646"
      }
     },
     "metadata": {},
     "output_type": "display_data"
    },
    {
     "data": {
      "text/plain": [
       "Validation: |          | 0/? [00:00<?, ?it/s]"
      ],
      "application/vnd.jupyter.widget-view+json": {
       "version_major": 2,
       "version_minor": 0,
       "model_id": "4c6e67a450ce40c98eb8decb2a50e8a1"
      }
     },
     "metadata": {},
     "output_type": "display_data"
    },
    {
     "data": {
      "text/plain": [
       "Validation: |          | 0/? [00:00<?, ?it/s]"
      ],
      "application/vnd.jupyter.widget-view+json": {
       "version_major": 2,
       "version_minor": 0,
       "model_id": "bce12ea78c394fadb0f25f49f6923225"
      }
     },
     "metadata": {},
     "output_type": "display_data"
    },
    {
     "name": "stderr",
     "output_type": "stream",
     "text": [
      "`Trainer.fit` stopped: `max_epochs=100` reached.\n"
     ]
    }
   ],
   "execution_count": 12
  },
  {
   "metadata": {
    "ExecuteTime": {
     "end_time": "2024-08-12T08:55:09.065651Z",
     "start_time": "2024-08-12T08:55:08.983735Z"
    }
   },
   "cell_type": "code",
   "source": [
    "import torch\n",
    "from torchrl.data.tensor_specs import DiscreteTensorSpec, BinaryDiscreteTensorSpec, UnboundedContinuousTensorSpec, CompositeSpec\n",
    "from torchrl.envs.transforms import ActionMask, TransformedEnv\n",
    "from torchrl.envs.common import EnvBase\n",
    "from rl4co.models.nn.mlp import MLP\n",
    "\n",
    "from typing import Tuple, Any, Optional, Union\n",
    "from tensordict import TensorDict\n",
    "from rl4co.models.common.constructive.base import NoEncoder\n",
    "from rl4co.models import ConstructivePolicy"
   ],
   "id": "7c1a79a9ae1314ff",
   "outputs": [],
   "execution_count": 113
  },
  {
   "metadata": {
    "ExecuteTime": {
     "end_time": "2024-08-12T08:55:09.724499Z",
     "start_time": "2024-08-12T08:55:09.641388Z"
    }
   },
   "cell_type": "code",
   "source": "mlp = MLP(input_dim=100, output_dim=100)",
   "id": "e12baee51cf5328d",
   "outputs": [],
   "execution_count": 114
  },
  {
   "metadata": {
    "ExecuteTime": {
     "end_time": "2024-08-12T08:55:10.140559Z",
     "start_time": "2024-08-12T08:55:10.053081Z"
    }
   },
   "cell_type": "code",
   "source": "td_init",
   "id": "a3c1b2ffb431922",
   "outputs": [
    {
     "data": {
      "text/plain": [
       "TensorDict(\n",
       "    fields={\n",
       "        action_mask: Tensor(shape=torch.Size([3, 100]), device=cpu, dtype=torch.bool, is_shared=False),\n",
       "        assignment: Tensor(shape=torch.Size([3, 20]), device=cpu, dtype=torch.int32, is_shared=False),\n",
       "        depot_loc_dist: Tensor(shape=torch.Size([3, 100]), device=cpu, dtype=torch.float32, is_shared=False),\n",
       "        dist_mat: Tensor(shape=torch.Size([3, 100, 100]), device=cpu, dtype=torch.float32, is_shared=False),\n",
       "        done: Tensor(shape=torch.Size([3, 1]), device=cpu, dtype=torch.bool, is_shared=False),\n",
       "        freq: Tensor(shape=torch.Size([3, 20, 1]), device=cpu, dtype=torch.float32, is_shared=False),\n",
       "        i: Tensor(shape=torch.Size([3, 1]), device=cpu, dtype=torch.int64, is_shared=False),\n",
       "        locs: Tensor(shape=torch.Size([3, 100, 2]), device=cpu, dtype=torch.float32, is_shared=False),\n",
       "        picklist: Tensor(shape=torch.Size([3, 20, 5]), device=cpu, dtype=torch.int64, is_shared=False),\n",
       "        ratio: Tensor(shape=torch.Size([3, 100]), device=cpu, dtype=torch.float32, is_shared=False),\n",
       "        reward: Tensor(shape=torch.Size([3, 1]), device=cpu, dtype=torch.float32, is_shared=False),\n",
       "        terminated: Tensor(shape=torch.Size([3, 1]), device=cpu, dtype=torch.bool, is_shared=False),\n",
       "        to_choose: Tensor(shape=torch.Size([3, 20]), device=cpu, dtype=torch.float32, is_shared=False)},\n",
       "    batch_size=torch.Size([3]),\n",
       "    device=cpu,\n",
       "    is_shared=False)"
      ]
     },
     "execution_count": 115,
     "metadata": {},
     "output_type": "execute_result"
    }
   ],
   "execution_count": 115
  },
  {
   "metadata": {
    "ExecuteTime": {
     "end_time": "2024-08-12T08:55:11.823036Z",
     "start_time": "2024-08-12T08:55:11.728292Z"
    }
   },
   "cell_type": "code",
   "source": [
    "from rl4co.utils.ops import calculate_entropy\n",
    "from rl4co.envs import get_env\n",
    "from rl4co.utils.decoding import DecodingStrategy, get_decoding_strategy, log, get_log_likelihood\n",
    "\n",
    "\n",
    "class MLPPolicy(ConstructivePolicy):\n",
    "    \"\"\"Template class for an autoregressive policy, simple wrapper around\n",
    "    :class:`rl4co.models.common.constructive.base.ConstructivePolicy`.\n",
    "\n",
    "    Note:\n",
    "        While a decoder is required, an encoder is optional and will be initialized to\n",
    "        :class:`rl4co.models.common.constructive.autoregressive.encoder.NoEncoder`.\n",
    "        This can be used in decoder-only models in which at each step actions do not depend on\n",
    "        previously encoded states.\n",
    "    \"\"\"\n",
    "\n",
    "    def __init__(\n",
    "        self,\n",
    "        encoder,\n",
    "        decoder: MLP,\n",
    "        env_name: str = \"tsp\",\n",
    "        temperature: float = 1.0,\n",
    "        tanh_clipping: float = 0,\n",
    "        mask_logits: bool = True,\n",
    "        train_decode_type: str = \"sampling\",\n",
    "        val_decode_type: str = \"greedy\",\n",
    "        test_decode_type: str = \"greedy\",\n",
    "        **unused_kw,\n",
    "    ):\n",
    "        # We raise an error for the user if no decoder was provided\n",
    "        if decoder is None:\n",
    "            raise ValueError(\"MLPPolicy requires a decoder to be provided.\")\n",
    "\n",
    "        super(MLPPolicy, self).__init__(\n",
    "            encoder=encoder,\n",
    "            decoder=decoder,\n",
    "            env_name=env_name,\n",
    "            temperature=temperature,\n",
    "            tanh_clipping=tanh_clipping,\n",
    "            mask_logits=mask_logits,\n",
    "            train_decode_type=train_decode_type,\n",
    "            val_decode_type=val_decode_type,\n",
    "            test_decode_type=test_decode_type,\n",
    "            **unused_kw,\n",
    "        )\n",
    "    \n",
    "    def pre_decoder_hook(\n",
    "        self, td: TensorDict, env=None, hidden: Any = None, num_starts: int = 0\n",
    "    ) -> Tuple[TensorDict, Any]:\n",
    "        hidden = (hidden,) if not isinstance(hidden, tuple) else hidden\n",
    "\n",
    "        # if num_starts > 1:\n",
    "        #     # NOTE: when using pomo, we need this\n",
    "        #     hidden = tuple(map(lambda x: batchify(x, num_starts), hidden))\n",
    "\n",
    "        return td, env, hidden\n",
    "    \n",
    "    def forward(\n",
    "        self,\n",
    "        td: TensorDict,\n",
    "        env = None,\n",
    "        phase: str = \"train\",\n",
    "        calc_reward: bool = True,\n",
    "        return_actions: bool = False,\n",
    "        return_entropy: bool = False,\n",
    "        return_hidden: bool = False,\n",
    "        return_init_embeds: bool = False,\n",
    "        return_sum_log_likelihood: bool = True,\n",
    "        actions=None,\n",
    "        max_steps=1_000_000,\n",
    "        **decoding_kwargs,\n",
    "    ) -> dict:\n",
    "        # logits = self.decoder(td[\"depot_loc_dist\"])\n",
    "        mask = td[\"action_mask\"]\n",
    "        hidden, init_embeds = self.encoder(td)\n",
    "        self.num_starts = 0\n",
    "\n",
    "        # Instantiate environment if needed\n",
    "        # if isinstance(env, str) or env is None:\n",
    "        #     env_name = self.env_name if env is None else env\n",
    "        #     log.info(f\"Instantiated environment not provided; instantiating {env_name}\")\n",
    "        #     env = get_env(env_name)\n",
    "\n",
    "        # Get decode type depending on phase and whether actions are passed for evaluation\n",
    "        decode_type = decoding_kwargs.pop(\"decode_type\", None)\n",
    "        if actions is not None:\n",
    "            decode_type = \"evaluate\"\n",
    "        elif decode_type is None:\n",
    "            decode_type = getattr(self, f\"{phase}_decode_type\")\n",
    "\n",
    "        # Setup decoding strategy\n",
    "        # we pop arguments that are not part of the decoding strategy\n",
    "        decode_strategy: DecodingStrategy = get_decoding_strategy(\n",
    "            decode_type,\n",
    "            temperature=decoding_kwargs.pop(\"temperature\", self.temperature),\n",
    "            tanh_clipping=decoding_kwargs.pop(\"tanh_clipping\", self.tanh_clipping),\n",
    "            mask_logits=decoding_kwargs.pop(\"mask_logits\", self.mask_logits),\n",
    "            store_all_logp=decoding_kwargs.pop(\"store_all_logp\", return_entropy),\n",
    "            **decoding_kwargs,\n",
    "        )\n",
    "\n",
    "        # Pre-decoding hook: used for the initial step(s) of the decoding strategy\n",
    "\n",
    "        # Additionally call a decoder hook if needed before main decoding\n",
    "\n",
    "        # Main decoding: loop until all sequences are done\n",
    "        step = 0\n",
    "        while not td[\"done\"].all():\n",
    "            logits = self.decoder(td[\"depot_loc_dist\"])\n",
    "            td = decode_strategy.step(\n",
    "                logits,\n",
    "                mask,\n",
    "                td,\n",
    "                action=actions[..., step] if actions is not None else None,\n",
    "            )\n",
    "            td = env.step(td)[\"next\"]\n",
    "            step += 1\n",
    "            if step > max_steps:\n",
    "                log.error(\n",
    "                    f\"Exceeded maximum number of steps ({max_steps}) duing decoding\"\n",
    "                )\n",
    "                break\n",
    "        # Post-decoding hook: used for the final step(s) of the decoding strategy\n",
    "        decode_strategy.num_starts = 0\n",
    "        logprobs, actions, td, env = decode_strategy.post_decoder_hook(td, env)\n",
    "\n",
    "        # Output dictionary construction\n",
    "        if calc_reward:\n",
    "            td.set(\"reward\", env.get_reward(td, actions))\n",
    "\n",
    "        outdict = {\n",
    "            \"reward\": td[\"reward\"],\n",
    "            \"log_likelihood\": get_log_likelihood(\n",
    "                logprobs, actions, td.get(\"mask\", None), return_sum_log_likelihood\n",
    "            ),\n",
    "        }\n",
    "\n",
    "        if return_actions:\n",
    "            outdict[\"actions\"] = actions\n",
    "        if return_entropy:\n",
    "            outdict[\"entropy\"] = calculate_entropy(logprobs)\n",
    "        if return_hidden:\n",
    "            outdict[\"hidden\"] = hidden\n",
    "        if return_init_embeds:\n",
    "            outdict[\"init_embeds\"] = init_embeds\n",
    "\n",
    "        return outdict\n",
    "\n",
    "    "
   ],
   "id": "219224e0f3b3210c",
   "outputs": [],
   "execution_count": 116
  },
  {
   "metadata": {
    "ExecuteTime": {
     "end_time": "2024-08-12T11:29:08.954446Z",
     "start_time": "2024-08-12T11:29:08.865277Z"
    }
   },
   "cell_type": "code",
   "source": [
    "# Import necessary packages\n",
    "import torch.nn as nn\n",
    "from torch import Tensor\n",
    "from tensordict import TensorDict\n",
    "from typing import Tuple, Union\n",
    "from rl4co.models.nn.env_embeddings import env_init_embedding\n",
    "\n",
    "\n",
    "class BaseEncoder(nn.Module):\n",
    "    def __init__(\n",
    "            self,\n",
    "            env_name: str,\n",
    "            embed_dim: int,\n",
    "            init_embedding: nn.Module = None,\n",
    "        ):\n",
    "        super(BaseEncoder, self).__init__()\n",
    "        self.env_name = env_name\n",
    "        \n",
    "        # Init embedding for each environment\n",
    "        self.init_embedding = (\n",
    "            env_init_embedding(self.env_name, {\"embed_dim\": embed_dim})\n",
    "            if init_embedding is None\n",
    "            else init_embedding\n",
    "        )\n",
    "\n",
    "    def forward(\n",
    "        self, td: TensorDict, mask: Union[Tensor, None] = None\n",
    "    ) -> Tuple[Tensor, Tensor]:\n",
    "        \"\"\"\n",
    "        Args:\n",
    "            td: Input TensorDict containing the environment state\n",
    "            mask: Mask to apply to the attention\n",
    "\n",
    "        Returns:\n",
    "            h: Latent representation of the input\n",
    "            init_h: Initial embedding of the input\n",
    "        \"\"\"\n",
    "        init_h = self.init_embedding(td)\n",
    "        h = None\n",
    "        return init_h, h"
   ],
   "id": "4713a59f5e722ceb",
   "outputs": [],
   "execution_count": 207
  },
  {
   "metadata": {
    "ExecuteTime": {
     "end_time": "2024-08-12T11:29:09.316554Z",
     "start_time": "2024-08-12T11:29:09.228715Z"
    }
   },
   "cell_type": "code",
   "source": [
    "emb_dim = 128\n",
    "base_encoder = BaseEncoder(\"slap\", emb_dim, init_embedding=SLAPInitEmbedding(emb_dim))"
   ],
   "id": "2cbe41ed0362970c",
   "outputs": [],
   "execution_count": 208
  },
  {
   "metadata": {
    "ExecuteTime": {
     "end_time": "2024-08-12T11:29:09.651423Z",
     "start_time": "2024-08-12T11:29:09.558086Z"
    }
   },
   "cell_type": "code",
   "source": [
    "from torch import Tensor\n",
    "from rl4co.models.rl.common.critic import CriticNetwork\n",
    "\n",
    "\n",
    "class PPOCriticNetwork(nn.Module):\n",
    "    \"\"\"Create a critic network given an encoder (e.g. as the one in the policy network)\n",
    "    with a value head to transform the embeddings to a scalar value.\n",
    "\n",
    "    Args:\n",
    "        encoder: Encoder module to encode the input\n",
    "        value_head: Value head to transform the embeddings to a scalar value\n",
    "        embed_dim: Dimension of the embeddings of the value head\n",
    "        hidden_dim: Dimension of the hidden layer of the value head\n",
    "    \"\"\"\n",
    "\n",
    "    def __init__(\n",
    "        self,\n",
    "        value_head: Optional[nn.Module] = None,\n",
    "        embed_dim: int = 128,\n",
    "        hidden_dim: int = 100,\n",
    "    ):\n",
    "        super(PPOCriticNetwork, self).__init__()\n",
    "        self.encoder = nn.Sequential(\n",
    "                nn.Linear(100, hidden_dim), nn.ReLU(), nn.Linear(hidden_dim, embed_dim)\n",
    "            )\n",
    "        if value_head is None:\n",
    "            # check if embed dim of encoder is different, if so, use it\n",
    "            value_head = nn.Sequential(\n",
    "                nn.Linear(embed_dim, hidden_dim), nn.ReLU(), nn.Linear(hidden_dim, 1)\n",
    "            )\n",
    "        self.value_head = value_head\n",
    "\n",
    "    def forward(self, x: Union[Tensor, TensorDict], hidden=None) -> Tensor:\n",
    "        \"\"\"Forward pass of the critic network: encode the imput in embedding space and return the value\n",
    "\n",
    "        Args:\n",
    "            x: Input containing the environment state. Can be a Tensor or a TensorDict\n",
    "\n",
    "        Returns:\n",
    "            Value of the input state\n",
    "        \"\"\"\n",
    "        h = self.encoder(x[\"depot_loc_dist\"])\n",
    "        return self.value_head(h).mean(1)  # [batch_size, N] -> [batch_size]"
   ],
   "id": "fa4309c2b72c4719",
   "outputs": [],
   "execution_count": 209
  },
  {
   "metadata": {
    "ExecuteTime": {
     "end_time": "2024-08-12T11:29:10.029492Z",
     "start_time": "2024-08-12T11:29:09.940906Z"
    }
   },
   "cell_type": "code",
   "source": "critic = PPOCriticNetwork()",
   "id": "6a6a98642983328a",
   "outputs": [],
   "execution_count": 210
  },
  {
   "metadata": {
    "ExecuteTime": {
     "end_time": "2024-08-12T11:29:14.070387Z",
     "start_time": "2024-08-12T11:29:13.983358Z"
    }
   },
   "cell_type": "code",
   "source": "mlppolicy = MLPPolicy(encoder=base_encoder, decoder=mlp)",
   "id": "8b6eeec3ad91501a",
   "outputs": [],
   "execution_count": 211
  },
  {
   "metadata": {
    "ExecuteTime": {
     "end_time": "2024-08-12T11:29:14.511250Z",
     "start_time": "2024-08-12T11:29:14.417955Z"
    }
   },
   "cell_type": "code",
   "source": [
    "from rl4co.models import PPO\n",
    "model = PPO(env, policy=mlppolicy, train_data_size=4,\n",
    "                       val_data_size=4)"
   ],
   "id": "a0405f5872d71de",
   "outputs": [],
   "execution_count": 212
  },
  {
   "metadata": {
    "ExecuteTime": {
     "end_time": "2024-08-12T11:29:17.682769Z",
     "start_time": "2024-08-12T11:29:17.591722Z"
    }
   },
   "cell_type": "code",
   "source": "model.critic.encoder(td_init)",
   "id": "ec624c1780e4375e",
   "outputs": [
    {
     "data": {
      "text/plain": [
       "(tensor([[[  0.4466,   0.2076,   0.5965,  ...,   0.8847,   0.1810,   0.5060],\n",
       "          [  0.4012,   0.8650,   0.5903,  ...,   0.1616,   1.0407,   1.0385],\n",
       "          [  0.3557,   1.5223,   0.5841,  ...,  -0.5616,   1.9004,   1.5710],\n",
       "          ...,\n",
       "          [ -0.8524,  19.0086,   0.4196,  ..., -19.7979,  24.7674,  15.7355],\n",
       "          [ -0.8978,  19.6660,   0.4134,  ..., -20.5211,  25.6271,  16.2680],\n",
       "          [ -0.9432,  20.3234,   0.4072,  ..., -21.2443,  26.4867,  16.8006]],\n",
       " \n",
       "         [[  0.4466,   0.2076,   0.5965,  ...,   0.8847,   0.1810,   0.5060],\n",
       "          [  0.4012,   0.8650,   0.5903,  ...,   0.1616,   1.0407,   1.0385],\n",
       "          [  0.3557,   1.5223,   0.5841,  ...,  -0.5616,   1.9004,   1.5710],\n",
       "          ...,\n",
       "          [ -0.8524,  19.0086,   0.4196,  ..., -19.7979,  24.7674,  15.7355],\n",
       "          [ -0.8978,  19.6660,   0.4134,  ..., -20.5211,  25.6271,  16.2680],\n",
       "          [ -0.9432,  20.3234,   0.4072,  ..., -21.2443,  26.4867,  16.8006]],\n",
       " \n",
       "         [[  0.4466,   0.2076,   0.5965,  ...,   0.8847,   0.1810,   0.5060],\n",
       "          [  0.4012,   0.8650,   0.5903,  ...,   0.1616,   1.0407,   1.0385],\n",
       "          [  0.3557,   1.5223,   0.5841,  ...,  -0.5616,   1.9004,   1.5710],\n",
       "          ...,\n",
       "          [ -0.8524,  19.0086,   0.4196,  ..., -19.7979,  24.7674,  15.7355],\n",
       "          [ -0.8978,  19.6660,   0.4134,  ..., -20.5211,  25.6271,  16.2680],\n",
       "          [ -0.9432,  20.3234,   0.4072,  ..., -21.2443,  26.4867,  16.8006]]],\n",
       "        grad_fn=<AddBackward0>),\n",
       " None)"
      ]
     },
     "execution_count": 213,
     "metadata": {},
     "output_type": "execute_result"
    }
   ],
   "execution_count": 213
  },
  {
   "metadata": {
    "ExecuteTime": {
     "end_time": "2024-08-12T11:29:18.873982Z",
     "start_time": "2024-08-12T11:29:18.784025Z"
    }
   },
   "cell_type": "code",
   "source": "h, _ = model.critic.encoder(td_init)  # [batch_size, N, embed_dim] -> [batch_size, N]",
   "id": "334e99dec89c3a51",
   "outputs": [],
   "execution_count": 214
  },
  {
   "metadata": {
    "ExecuteTime": {
     "end_time": "2024-08-12T11:29:26.694171Z",
     "start_time": "2024-08-12T11:29:26.598017Z"
    }
   },
   "cell_type": "code",
   "source": "model.critic.value_head(h).mean(1)\n",
   "id": "18663d9744b75144",
   "outputs": [
    {
     "data": {
      "text/plain": [
       "tensor([[-0.2937],\n",
       "        [-0.2937],\n",
       "        [-0.2937]], grad_fn=<MeanBackward1>)"
      ]
     },
     "execution_count": 216,
     "metadata": {},
     "output_type": "execute_result"
    }
   ],
   "execution_count": 216
  },
  {
   "metadata": {
    "ExecuteTime": {
     "end_time": "2024-08-12T11:29:42.239426Z",
     "start_time": "2024-08-12T11:29:29.555906Z"
    }
   },
   "cell_type": "code",
   "source": [
    "trainer = RL4COTrainer(max_epochs=10, devices=\"auto\")\n",
    "trainer.fit(model)"
   ],
   "id": "a3b176efb55019e1",
   "outputs": [
    {
     "name": "stderr",
     "output_type": "stream",
     "text": [
      "Using bfloat16 Automatic Mixed Precision (AMP)\n",
      "GPU available: False, used: False\n",
      "TPU available: False, using: 0 TPU cores\n",
      "HPU available: False, using: 0 HPUs\n",
      "Overriding gradient_clip_val to None for 'automatic_optimization=False' models\n",
      "val_file not set. Generating dataset instead\n",
      "test_file not set. Generating dataset instead\n",
      "\n",
      "  | Name   | Type          | Params | Mode \n",
      "-------------------------------------------------\n",
      "0 | env    | SLAPEnv       | 0      | train\n",
      "1 | policy | MLPPolicy     | 12.5 K | train\n",
      "2 | critic | CriticNetwork | 67.2 K | train\n",
      "-------------------------------------------------\n",
      "79.7 K    Trainable params\n",
      "0         Non-trainable params\n",
      "79.7 K    Total params\n",
      "0.319     Total estimated model params size (MB)\n"
     ]
    },
    {
     "data": {
      "text/plain": [
       "Sanity Checking: |          | 0/? [00:00<?, ?it/s]"
      ],
      "application/vnd.jupyter.widget-view+json": {
       "version_major": 2,
       "version_minor": 0,
       "model_id": "21f46cd15e7b4e6880fe32ee86f888d2"
      }
     },
     "metadata": {},
     "output_type": "display_data"
    },
    {
     "data": {
      "text/plain": [
       "Training: |          | 0/? [00:00<?, ?it/s]"
      ],
      "application/vnd.jupyter.widget-view+json": {
       "version_major": 2,
       "version_minor": 0,
       "model_id": "fd4148d55d364cd1889d1514d5d135c7"
      }
     },
     "metadata": {},
     "output_type": "display_data"
    },
    {
     "data": {
      "text/plain": [
       "Validation: |          | 0/? [00:00<?, ?it/s]"
      ],
      "application/vnd.jupyter.widget-view+json": {
       "version_major": 2,
       "version_minor": 0,
       "model_id": "e6c3135ce8924f7d9ab6b1e41461d26a"
      }
     },
     "metadata": {},
     "output_type": "display_data"
    },
    {
     "data": {
      "text/plain": [
       "Validation: |          | 0/? [00:00<?, ?it/s]"
      ],
      "application/vnd.jupyter.widget-view+json": {
       "version_major": 2,
       "version_minor": 0,
       "model_id": "30e0acf442694d9db79f380b5664c860"
      }
     },
     "metadata": {},
     "output_type": "display_data"
    },
    {
     "data": {
      "text/plain": [
       "Validation: |          | 0/? [00:00<?, ?it/s]"
      ],
      "application/vnd.jupyter.widget-view+json": {
       "version_major": 2,
       "version_minor": 0,
       "model_id": "c21add8b94fa431598b473bed7eae641"
      }
     },
     "metadata": {},
     "output_type": "display_data"
    },
    {
     "data": {
      "text/plain": [
       "Validation: |          | 0/? [00:00<?, ?it/s]"
      ],
      "application/vnd.jupyter.widget-view+json": {
       "version_major": 2,
       "version_minor": 0,
       "model_id": "dd92c178b8e449b9bbebb47e4f06f31d"
      }
     },
     "metadata": {},
     "output_type": "display_data"
    },
    {
     "data": {
      "text/plain": [
       "Validation: |          | 0/? [00:00<?, ?it/s]"
      ],
      "application/vnd.jupyter.widget-view+json": {
       "version_major": 2,
       "version_minor": 0,
       "model_id": "ef99db70a51e4d35858f55e35fa3edb2"
      }
     },
     "metadata": {},
     "output_type": "display_data"
    },
    {
     "data": {
      "text/plain": [
       "Validation: |          | 0/? [00:00<?, ?it/s]"
      ],
      "application/vnd.jupyter.widget-view+json": {
       "version_major": 2,
       "version_minor": 0,
       "model_id": "f52a7040363a4e4cb00ec083c7bbb252"
      }
     },
     "metadata": {},
     "output_type": "display_data"
    },
    {
     "data": {
      "text/plain": [
       "Validation: |          | 0/? [00:00<?, ?it/s]"
      ],
      "application/vnd.jupyter.widget-view+json": {
       "version_major": 2,
       "version_minor": 0,
       "model_id": "7a9ef685266a4029849ed158f294aa4c"
      }
     },
     "metadata": {},
     "output_type": "display_data"
    },
    {
     "data": {
      "text/plain": [
       "Validation: |          | 0/? [00:00<?, ?it/s]"
      ],
      "application/vnd.jupyter.widget-view+json": {
       "version_major": 2,
       "version_minor": 0,
       "model_id": "9af75404d3364558b599ab03c79a96d4"
      }
     },
     "metadata": {},
     "output_type": "display_data"
    },
    {
     "data": {
      "text/plain": [
       "Validation: |          | 0/? [00:00<?, ?it/s]"
      ],
      "application/vnd.jupyter.widget-view+json": {
       "version_major": 2,
       "version_minor": 0,
       "model_id": "540b9e58cc87499ea85f823b9f1feb0c"
      }
     },
     "metadata": {},
     "output_type": "display_data"
    },
    {
     "data": {
      "text/plain": [
       "Validation: |          | 0/? [00:00<?, ?it/s]"
      ],
      "application/vnd.jupyter.widget-view+json": {
       "version_major": 2,
       "version_minor": 0,
       "model_id": "3482ef7b4ecc49d0a94a29e4974eb085"
      }
     },
     "metadata": {},
     "output_type": "display_data"
    },
    {
     "name": "stderr",
     "output_type": "stream",
     "text": [
      "`Trainer.fit` stopped: `max_epochs=10` reached.\n"
     ]
    }
   ],
   "execution_count": 217
  },
  {
   "metadata": {},
   "cell_type": "code",
   "outputs": [],
   "execution_count": null,
   "source": "",
   "id": "60e13d0b3fb43640"
  }
 ],
 "metadata": {
  "kernelspec": {
   "display_name": "Python 3",
   "language": "python",
   "name": "python3"
  },
  "language_info": {
   "codemirror_mode": {
    "name": "ipython",
    "version": 2
   },
   "file_extension": ".py",
   "mimetype": "text/x-python",
   "name": "python",
   "nbconvert_exporter": "python",
   "pygments_lexer": "ipython2",
   "version": "2.7.6"
  }
 },
 "nbformat": 4,
 "nbformat_minor": 5
}
