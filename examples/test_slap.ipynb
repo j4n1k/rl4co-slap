{
 "cells": [
  {
   "cell_type": "code",
   "id": "initial_id",
   "metadata": {
    "collapsed": true,
    "ExecuteTime": {
     "end_time": "2024-08-12T08:55:00.134707Z",
     "start_time": "2024-08-12T08:54:59.991312Z"
    }
   },
   "source": [
    "%load_ext autoreload\n",
    "%autoreload 2\n",
    "\n",
    "import torch\n",
    "import torch.nn as nn\n",
    "from rl4co.envs import SLAPEnv, RL4COEnvBase\n",
    "from rl4co.envs.warehousing.slap.generator import SLAPGenerator\n",
    "from rl4co.models import AttentionModelPolicy, REINFORCE\n",
    "from rl4co.utils.trainer import RL4COTrainer\n",
    "from rl4co.utils.ops import gather_by_index\n"
   ],
   "outputs": [
    {
     "name": "stdout",
     "output_type": "stream",
     "text": [
      "The autoreload extension is already loaded. To reload it, use:\n",
      "  %reload_ext autoreload\n"
     ]
    }
   ],
   "execution_count": 104
  },
  {
   "metadata": {
    "ExecuteTime": {
     "end_time": "2024-08-12T08:55:01.075074Z",
     "start_time": "2024-08-12T08:55:00.985782Z"
    }
   },
   "cell_type": "code",
   "source": [
    "class SLAPInitEmbedding(nn.Module):\n",
    "    \"\"\"Initial embedding \n",
    "    Embed the following node features to the embedding space:\n",
    "        - locs: x, y coordinates of the nodes (cells)\n",
    "        - probe: index of the (single) probe cell. We embed the euclidean distance from the probe to all cells.\n",
    "    \"\"\"\n",
    "\n",
    "    def __init__(self, embed_dim, linear_bias=True):\n",
    "        super(SLAPInitEmbedding, self).__init__()\n",
    "        node_dim = 1  # x, y, dist_depot\n",
    "        self.init_embed = nn.Linear(node_dim, embed_dim, linear_bias)  # locs\n",
    "        # self.init_freq = nn.Linear(1, embed_dim, linear_bias)\n",
    "        self.init_embed_depot = nn.Linear(2, embed_dim, linear_bias)\n",
    "\n",
    "    def __forwards(self, td):\n",
    "        # node_embeddings = self.init_embed(td[\"locs\"])\n",
    "        # node_embeddings = self.init_embed(td[\"locs\"])     \n",
    "        depot = td[\"locs\"][:, :1, :]\n",
    "        storage_locs = td[\"locs\"][:, 1:, :]\n",
    "        dist_mat = self._get_distance_matrix(td[\"locs\"])\n",
    "        depot_idx = 0\n",
    "        depot_to_all_distances = dist_mat[:,depot_idx, :]\n",
    "        depot_to_all_distances = torch.cat([\n",
    "            depot_to_all_distances[:, :depot_idx],  # Distances before depot index\n",
    "            depot_to_all_distances[:, depot_idx + 1:]\n",
    "        ], dim=1)\n",
    "        node_embeddings = self.init_embed(\n",
    "            torch.cat((storage_locs, depot_to_all_distances[..., None]), -1)\n",
    "        )\n",
    "        depot_embedding = self.init_embed_depot(depot)\n",
    "        out = torch.cat((depot_embedding, node_embeddings), -2)\n",
    "        return out\n",
    "    \n",
    "    def _forward(self, td):\n",
    "        dist_mat = self._get_distance_matrix(td[\"locs\"])\n",
    "        depot_idx = 0\n",
    "        depot_to_all_distances = dist_mat[:,depot_idx, :]\n",
    "        node_embeddings = self.init_embed(\n",
    "            torch.cat((td[\"locs\"], depot_to_all_distances[..., None]), -1)\n",
    "        )\n",
    "        print(node_embeddings.shape)\n",
    "        return node_embeddings\n",
    "    \n",
    "    def forward(self, td):\n",
    "        dist_mat = self._get_distance_matrix(td[\"locs\"])\n",
    "        depot_idx = 0\n",
    "        depot_to_all_distances = dist_mat[:,depot_idx, :]\n",
    "        node_embeddings = self.init_embed(depot_to_all_distances[..., None])\n",
    "        return node_embeddings\n",
    "    \n",
    "    def _distance_depot(self, locs, depot):\n",
    "        pass\n",
    "        \n",
    "    @staticmethod\n",
    "    def _get_distance_matrix(locs: torch.Tensor):\n",
    "        \"\"\"Compute the Manhattan distance matrix for the given coordinates.\n",
    "\n",
    "        Args:\n",
    "            locs: Tensor of shape [..., n, dim]\n",
    "        \"\"\"\n",
    "        if locs.dtype != torch.float32 and locs.dtype != torch.float64:\n",
    "            locs = locs.to(torch.float32)\n",
    "\n",
    "            # Compute pairwise differences\n",
    "        diff = locs[..., :, None, :] - locs[..., None, :, :]\n",
    "\n",
    "        # Compute Manhattan distance\n",
    "        distance_matrix = torch.sum(torch.abs(diff), dim=-1)\n",
    "        return distance_matrix\n",
    "\n",
    "    "
   ],
   "id": "adba91e79727a62a",
   "outputs": [],
   "execution_count": 105
  },
  {
   "metadata": {
    "ExecuteTime": {
     "end_time": "2024-08-12T08:55:01.579524Z",
     "start_time": "2024-08-12T08:55:01.497627Z"
    }
   },
   "cell_type": "code",
   "source": [
    "from rl4co.models.nn.env_embeddings.context import EnvContext\n",
    "\n",
    "\n",
    "class SLAPContext(EnvContext):\n",
    "    \"\"\"Context embedding for the Decap Placement Problem (DPP), EDA (electronic design automation).\n",
    "    Project the following to the embedding space:\n",
    "        - current cell embedding\n",
    "    \"\"\"\n",
    "\n",
    "    def __init__(self, embed_dim):\n",
    "        super(SLAPContext, self).__init__(embed_dim)\n",
    "\n",
    "    def forward(self, embeddings, td):\n",
    "        \"\"\"Context cannot be defined by a single node embedding for DPP, hence 0.\n",
    "        We modify the dynamic embedding instead to capture placed items\n",
    "        \"\"\"\n",
    "        return embeddings.new_zeros(embeddings.size(0), self.embed_dim)"
   ],
   "id": "2fc675529fc444ab",
   "outputs": [],
   "execution_count": 106
  },
  {
   "metadata": {
    "ExecuteTime": {
     "end_time": "2024-08-12T08:55:01.972211Z",
     "start_time": "2024-08-12T08:55:01.888359Z"
    }
   },
   "cell_type": "code",
   "source": [
    "class StaticEmbedding(nn.Module):\n",
    "    def __init__(self, *args, **kwargs):\n",
    "        super(StaticEmbedding, self).__init__()\n",
    "\n",
    "    def forward(self, td):\n",
    "        return 0, 0, 0"
   ],
   "id": "b5c43c1902d79ec9",
   "outputs": [],
   "execution_count": 107
  },
  {
   "metadata": {
    "ExecuteTime": {
     "end_time": "2024-08-12T08:55:02.418682Z",
     "start_time": "2024-08-12T08:55:02.328570Z"
    }
   },
   "cell_type": "code",
   "source": [
    "class SLAPDynamicEmbedding(nn.Module):\n",
    "    \"\"\"Dynamic embedding for the Split Delivery Vehicle Routing Problem (SDVRP).\n",
    "    Embed the following node features to the embedding space:\n",
    "        - demand_with_depot: demand of the customers and the depot\n",
    "    The demand with depot is used to modify the query, key and value vectors of the attention mechanism\n",
    "    based on the current state of the environment (which is changing during the rollout).\n",
    "    \"\"\"\n",
    "\n",
    "    def __init__(self, embed_dim, linear_bias=False):\n",
    "        super(SLAPDynamicEmbedding, self).__init__()\n",
    "        self.projection = nn.Linear(1, 3 * embed_dim, bias=linear_bias)\n",
    "\n",
    "    def forward(self, td):\n",
    "        next_product = td[\"to_choose\"][0, 0].view(1).to(torch.int)\n",
    "        # next_product = next_product.to(torch.int)\n",
    "        # indices = torch.tensor([0])\n",
    "        batch_size = td[\"freq\"].shape[0]\n",
    "        next_product_freq = torch.index_select(td[\"freq\"], 1, next_product).view(batch_size,1)\n",
    "        # next_product_freq = td[\"freq\"][\n",
    "        #     torch.arange(td[\"freq\"].size(0)\n",
    "        #                  ).unsqueeze(0),\n",
    "        #     next_product].to(torch.int)\n",
    "        # print(td[\"freq\"].shape)\n",
    "        # print(next_product.shape)\n",
    "        # n_locs = td[\"depot_loc_dist\"].shape[1]\n",
    "        # val1 = next_product_freq[0, 0, 0].item()\n",
    "        # val2 = next_product_freq[0, 1, 0].item()\n",
    "        # first_row = torch.full((n_locs,), val1, dtype=torch.int32)  # Shape: [100]\n",
    "        # second_row = torch.full((n_locs,), val2, dtype=torch.int32)  # Shape: [100]\n",
    "\n",
    "        # final_tensor = torch.stack((first_row, second_row), dim=0)\n",
    "        # print(f\"{final_tensor.shape} / {td['depot_loc_dist'].shape}\")\n",
    "        ratio = td[\"depot_loc_dist\"] / next_product_freq\n",
    "        # print(ratio)\n",
    "        ratio[..., 0] = 0\n",
    "        glimpse_key_dynamic, glimpse_val_dynamic, logit_key_dynamic = self.projection(\n",
    "            ratio[..., None]\n",
    "        ).chunk(3, dim=-1)\n",
    "        return glimpse_key_dynamic, glimpse_val_dynamic, logit_key_dynamic\n",
    "    \n",
    "    @staticmethod\n",
    "    def _get_distance_matrix(locs: torch.Tensor):\n",
    "        \"\"\"Compute the Manhattan distance matrix for the given coordinates.\n",
    "\n",
    "        Args:\n",
    "            locs: Tensor of shape [..., n, dim]\n",
    "        \"\"\"\n",
    "        if locs.dtype != torch.float32 and locs.dtype != torch.float64:\n",
    "            locs = locs.to(torch.float32)\n",
    "\n",
    "            # Compute pairwise differences\n",
    "        diff = locs[..., :, None, :] - locs[..., None, :, :]\n",
    "\n",
    "        # Compute Manhattan distance\n",
    "        distance_matrix = torch.sum(torch.abs(diff), dim=-1)\n",
    "        return distance_matrix"
   ],
   "id": "401deab2f9a2a368",
   "outputs": [],
   "execution_count": 108
  },
  {
   "metadata": {
    "ExecuteTime": {
     "end_time": "2024-08-12T08:55:03.326911Z",
     "start_time": "2024-08-12T08:55:03.233237Z"
    }
   },
   "cell_type": "code",
   "source": [
    "env = SLAPEnv(generator_params={'n_aisles': 10,\n",
    "                                'n_locs': 10})"
   ],
   "id": "4f3a45c512a65aac",
   "outputs": [],
   "execution_count": 109
  },
  {
   "metadata": {
    "ExecuteTime": {
     "end_time": "2024-08-12T14:29:41.423496Z",
     "start_time": "2024-08-12T14:29:33.939369Z"
    }
   },
   "cell_type": "code",
   "source": [
    "from rl4co.models import AttentionModel\n",
    "emb_dim = 128\n",
    "policy = AttentionModelPolicy(env_name=env.name, # this is actually not needed since we are initializing the embeddings!\n",
    "                              embed_dim=emb_dim,\n",
    "                              init_embedding=SLAPInitEmbedding(emb_dim),\n",
    "                              context_embedding=SLAPContext(emb_dim),\n",
    "                              dynamic_embedding=StaticEmbedding(emb_dim)\n",
    ")\n",
    "\n",
    "model = AttentionModel(env, \n",
    "                       policy=policy,\n",
    "                       baseline='rollout',\n",
    "                       train_data_size=20,\n",
    "                       val_data_size=20)"
   ],
   "id": "b61e11773ea1760b",
   "outputs": [
    {
     "ename": "ValueError",
     "evalue": "Unknown environment name 'slap'. Available init embeddings: dict_keys(['tsp', 'atsp', 'matnet', 'cvrp', 'cvrptw', 'svrp', 'sdvrp', 'pctsp', 'spctsp', 'op', 'dpp', 'mdpp', 'pdp', 'pdp_ruin_repair', 'tsp_kopt', 'mtsp', 'smtwtp', 'mdcpdp', 'fjsp', 'jssp', 'mtvrp'])",
     "output_type": "error",
     "traceback": [
      "\u001B[1;31m---------------------------------------------------------------------------\u001B[0m",
      "\u001B[1;31mValueError\u001B[0m                                Traceback (most recent call last)",
      "Cell \u001B[1;32mIn[218], line 10\u001B[0m\n\u001B[0;32m      2\u001B[0m emb_dim \u001B[38;5;241m=\u001B[39m \u001B[38;5;241m128\u001B[39m\n\u001B[0;32m      3\u001B[0m policy \u001B[38;5;241m=\u001B[39m AttentionModelPolicy(env_name\u001B[38;5;241m=\u001B[39menv\u001B[38;5;241m.\u001B[39mname, \u001B[38;5;66;03m# this is actually not needed since we are initializing the embeddings!\u001B[39;00m\n\u001B[0;32m      4\u001B[0m                               embed_dim\u001B[38;5;241m=\u001B[39memb_dim,\n\u001B[0;32m      5\u001B[0m                               init_embedding\u001B[38;5;241m=\u001B[39mSLAPInitEmbedding(emb_dim),\n\u001B[0;32m      6\u001B[0m                               context_embedding\u001B[38;5;241m=\u001B[39mSLAPContext(emb_dim),\n\u001B[0;32m      7\u001B[0m                               dynamic_embedding\u001B[38;5;241m=\u001B[39mStaticEmbedding(emb_dim)\n\u001B[0;32m      8\u001B[0m )\n\u001B[1;32m---> 10\u001B[0m model \u001B[38;5;241m=\u001B[39m \u001B[43mAttentionModel\u001B[49m\u001B[43m(\u001B[49m\u001B[43menv\u001B[49m\u001B[43m,\u001B[49m\u001B[43m \u001B[49m\n\u001B[0;32m     11\u001B[0m \u001B[43m                       \u001B[49m\u001B[43mbaseline\u001B[49m\u001B[38;5;241;43m=\u001B[39;49m\u001B[38;5;124;43m'\u001B[39;49m\u001B[38;5;124;43mrollout\u001B[39;49m\u001B[38;5;124;43m'\u001B[39;49m\u001B[43m,\u001B[49m\n\u001B[0;32m     12\u001B[0m \u001B[43m                       \u001B[49m\u001B[43mtrain_data_size\u001B[49m\u001B[38;5;241;43m=\u001B[39;49m\u001B[38;5;241;43m20\u001B[39;49m\u001B[43m,\u001B[49m\n\u001B[0;32m     13\u001B[0m \u001B[43m                       \u001B[49m\u001B[43mval_data_size\u001B[49m\u001B[38;5;241;43m=\u001B[39;49m\u001B[38;5;241;43m20\u001B[39;49m\u001B[43m)\u001B[49m\n",
      "File \u001B[1;32m~\\Documents\\Projekte\\rl4co-slap\\rl4co\\models\\zoo\\am\\model.py:32\u001B[0m, in \u001B[0;36mAttentionModel.__init__\u001B[1;34m(self, env, policy, baseline, policy_kwargs, baseline_kwargs, **kwargs)\u001B[0m\n\u001B[0;32m     22\u001B[0m \u001B[38;5;28;01mdef\u001B[39;00m \u001B[38;5;21m__init__\u001B[39m(\n\u001B[0;32m     23\u001B[0m     \u001B[38;5;28mself\u001B[39m,\n\u001B[0;32m     24\u001B[0m     env: RL4COEnvBase,\n\u001B[1;32m   (...)\u001B[0m\n\u001B[0;32m     29\u001B[0m     \u001B[38;5;241m*\u001B[39m\u001B[38;5;241m*\u001B[39mkwargs,\n\u001B[0;32m     30\u001B[0m ):\n\u001B[0;32m     31\u001B[0m     \u001B[38;5;28;01mif\u001B[39;00m policy \u001B[38;5;129;01mis\u001B[39;00m \u001B[38;5;28;01mNone\u001B[39;00m:\n\u001B[1;32m---> 32\u001B[0m         policy \u001B[38;5;241m=\u001B[39m \u001B[43mAttentionModelPolicy\u001B[49m\u001B[43m(\u001B[49m\u001B[43menv_name\u001B[49m\u001B[38;5;241;43m=\u001B[39;49m\u001B[43menv\u001B[49m\u001B[38;5;241;43m.\u001B[39;49m\u001B[43mname\u001B[49m\u001B[43m,\u001B[49m\u001B[43m \u001B[49m\u001B[38;5;241;43m*\u001B[39;49m\u001B[38;5;241;43m*\u001B[39;49m\u001B[43mpolicy_kwargs\u001B[49m\u001B[43m)\u001B[49m\n\u001B[0;32m     34\u001B[0m     \u001B[38;5;28msuper\u001B[39m()\u001B[38;5;241m.\u001B[39m\u001B[38;5;21m__init__\u001B[39m(env, policy, baseline, baseline_kwargs, \u001B[38;5;241m*\u001B[39m\u001B[38;5;241m*\u001B[39mkwargs)\n",
      "File \u001B[1;32m~\\Documents\\Projekte\\rl4co-slap\\rl4co\\models\\zoo\\am\\policy.py:82\u001B[0m, in \u001B[0;36mAttentionModelPolicy.__init__\u001B[1;34m(self, encoder, decoder, embed_dim, num_encoder_layers, num_heads, normalization, feedforward_hidden, env_name, encoder_network, init_embedding, context_embedding, dynamic_embedding, use_graph_context, linear_bias_decoder, sdpa_fn, sdpa_fn_encoder, sdpa_fn_decoder, mask_inner, out_bias_pointer_attn, check_nan, temperature, tanh_clipping, mask_logits, train_decode_type, val_decode_type, test_decode_type, moe_kwargs, **unused_kwargs)\u001B[0m\n\u001B[0;32m     50\u001B[0m \u001B[38;5;28;01mdef\u001B[39;00m \u001B[38;5;21m__init__\u001B[39m(\n\u001B[0;32m     51\u001B[0m     \u001B[38;5;28mself\u001B[39m,\n\u001B[0;32m     52\u001B[0m     encoder: nn\u001B[38;5;241m.\u001B[39mModule \u001B[38;5;241m=\u001B[39m \u001B[38;5;28;01mNone\u001B[39;00m,\n\u001B[1;32m   (...)\u001B[0m\n\u001B[0;32m     79\u001B[0m     \u001B[38;5;241m*\u001B[39m\u001B[38;5;241m*\u001B[39munused_kwargs,\n\u001B[0;32m     80\u001B[0m ):\n\u001B[0;32m     81\u001B[0m     \u001B[38;5;28;01mif\u001B[39;00m encoder \u001B[38;5;129;01mis\u001B[39;00m \u001B[38;5;28;01mNone\u001B[39;00m:\n\u001B[1;32m---> 82\u001B[0m         encoder \u001B[38;5;241m=\u001B[39m \u001B[43mAttentionModelEncoder\u001B[49m\u001B[43m(\u001B[49m\n\u001B[0;32m     83\u001B[0m \u001B[43m            \u001B[49m\u001B[43membed_dim\u001B[49m\u001B[38;5;241;43m=\u001B[39;49m\u001B[43membed_dim\u001B[49m\u001B[43m,\u001B[49m\n\u001B[0;32m     84\u001B[0m \u001B[43m            \u001B[49m\u001B[43mnum_heads\u001B[49m\u001B[38;5;241;43m=\u001B[39;49m\u001B[43mnum_heads\u001B[49m\u001B[43m,\u001B[49m\n\u001B[0;32m     85\u001B[0m \u001B[43m            \u001B[49m\u001B[43mnum_layers\u001B[49m\u001B[38;5;241;43m=\u001B[39;49m\u001B[43mnum_encoder_layers\u001B[49m\u001B[43m,\u001B[49m\n\u001B[0;32m     86\u001B[0m \u001B[43m            \u001B[49m\u001B[43menv_name\u001B[49m\u001B[38;5;241;43m=\u001B[39;49m\u001B[43menv_name\u001B[49m\u001B[43m,\u001B[49m\n\u001B[0;32m     87\u001B[0m \u001B[43m            \u001B[49m\u001B[43mnormalization\u001B[49m\u001B[38;5;241;43m=\u001B[39;49m\u001B[43mnormalization\u001B[49m\u001B[43m,\u001B[49m\n\u001B[0;32m     88\u001B[0m \u001B[43m            \u001B[49m\u001B[43mfeedforward_hidden\u001B[49m\u001B[38;5;241;43m=\u001B[39;49m\u001B[43mfeedforward_hidden\u001B[49m\u001B[43m,\u001B[49m\n\u001B[0;32m     89\u001B[0m \u001B[43m            \u001B[49m\u001B[43mnet\u001B[49m\u001B[38;5;241;43m=\u001B[39;49m\u001B[43mencoder_network\u001B[49m\u001B[43m,\u001B[49m\n\u001B[0;32m     90\u001B[0m \u001B[43m            \u001B[49m\u001B[43minit_embedding\u001B[49m\u001B[38;5;241;43m=\u001B[39;49m\u001B[43minit_embedding\u001B[49m\u001B[43m,\u001B[49m\n\u001B[0;32m     91\u001B[0m \u001B[43m            \u001B[49m\u001B[43msdpa_fn\u001B[49m\u001B[38;5;241;43m=\u001B[39;49m\u001B[43msdpa_fn\u001B[49m\u001B[43m \u001B[49m\u001B[38;5;28;43;01mif\u001B[39;49;00m\u001B[43m \u001B[49m\u001B[43msdpa_fn_encoder\u001B[49m\u001B[43m \u001B[49m\u001B[38;5;129;43;01mis\u001B[39;49;00m\u001B[43m \u001B[49m\u001B[38;5;28;43;01mNone\u001B[39;49;00m\u001B[43m \u001B[49m\u001B[38;5;28;43;01melse\u001B[39;49;00m\u001B[43m \u001B[49m\u001B[43msdpa_fn_encoder\u001B[49m\u001B[43m,\u001B[49m\n\u001B[0;32m     92\u001B[0m \u001B[43m            \u001B[49m\u001B[43mmoe_kwargs\u001B[49m\u001B[38;5;241;43m=\u001B[39;49m\u001B[43mmoe_kwargs\u001B[49m\u001B[43m[\u001B[49m\u001B[38;5;124;43m\"\u001B[39;49m\u001B[38;5;124;43mencoder\u001B[39;49m\u001B[38;5;124;43m\"\u001B[39;49m\u001B[43m]\u001B[49m\u001B[43m,\u001B[49m\n\u001B[0;32m     93\u001B[0m \u001B[43m        \u001B[49m\u001B[43m)\u001B[49m\n\u001B[0;32m     95\u001B[0m     \u001B[38;5;28;01mif\u001B[39;00m decoder \u001B[38;5;129;01mis\u001B[39;00m \u001B[38;5;28;01mNone\u001B[39;00m:\n\u001B[0;32m     96\u001B[0m         decoder \u001B[38;5;241m=\u001B[39m AttentionModelDecoder(\n\u001B[0;32m     97\u001B[0m             embed_dim\u001B[38;5;241m=\u001B[39membed_dim,\n\u001B[0;32m     98\u001B[0m             num_heads\u001B[38;5;241m=\u001B[39mnum_heads,\n\u001B[1;32m   (...)\u001B[0m\n\u001B[0;32m    108\u001B[0m             moe_kwargs\u001B[38;5;241m=\u001B[39mmoe_kwargs[\u001B[38;5;124m\"\u001B[39m\u001B[38;5;124mdecoder\u001B[39m\u001B[38;5;124m\"\u001B[39m],\n\u001B[0;32m    109\u001B[0m         )\n",
      "File \u001B[1;32m~\\Documents\\Projekte\\rl4co-slap\\rl4co\\models\\zoo\\am\\encoder.py:51\u001B[0m, in \u001B[0;36mAttentionModelEncoder.__init__\u001B[1;34m(self, embed_dim, init_embedding, env_name, num_heads, num_layers, normalization, feedforward_hidden, net, sdpa_fn, moe_kwargs)\u001B[0m\n\u001B[0;32m     47\u001B[0m     env_name \u001B[38;5;241m=\u001B[39m env_name\u001B[38;5;241m.\u001B[39mname\n\u001B[0;32m     48\u001B[0m \u001B[38;5;28mself\u001B[39m\u001B[38;5;241m.\u001B[39menv_name \u001B[38;5;241m=\u001B[39m env_name\n\u001B[0;32m     50\u001B[0m \u001B[38;5;28mself\u001B[39m\u001B[38;5;241m.\u001B[39minit_embedding \u001B[38;5;241m=\u001B[39m (\n\u001B[1;32m---> 51\u001B[0m     \u001B[43menv_init_embedding\u001B[49m\u001B[43m(\u001B[49m\u001B[38;5;28;43mself\u001B[39;49m\u001B[38;5;241;43m.\u001B[39;49m\u001B[43menv_name\u001B[49m\u001B[43m,\u001B[49m\u001B[43m \u001B[49m\u001B[43m{\u001B[49m\u001B[38;5;124;43m\"\u001B[39;49m\u001B[38;5;124;43membed_dim\u001B[39;49m\u001B[38;5;124;43m\"\u001B[39;49m\u001B[43m:\u001B[49m\u001B[43m \u001B[49m\u001B[43membed_dim\u001B[49m\u001B[43m}\u001B[49m\u001B[43m)\u001B[49m\n\u001B[0;32m     52\u001B[0m     \u001B[38;5;28;01mif\u001B[39;00m init_embedding \u001B[38;5;129;01mis\u001B[39;00m \u001B[38;5;28;01mNone\u001B[39;00m\n\u001B[0;32m     53\u001B[0m     \u001B[38;5;28;01melse\u001B[39;00m init_embedding\n\u001B[0;32m     54\u001B[0m )\n\u001B[0;32m     56\u001B[0m \u001B[38;5;28mself\u001B[39m\u001B[38;5;241m.\u001B[39mnet \u001B[38;5;241m=\u001B[39m (\n\u001B[0;32m     57\u001B[0m     GraphAttentionNetwork(\n\u001B[0;32m     58\u001B[0m         num_heads,\n\u001B[1;32m   (...)\u001B[0m\n\u001B[0;32m     67\u001B[0m     \u001B[38;5;28;01melse\u001B[39;00m net\n\u001B[0;32m     68\u001B[0m )\n",
      "File \u001B[1;32m~\\Documents\\Projekte\\rl4co-slap\\rl4co\\models\\nn\\env_embeddings\\init.py:43\u001B[0m, in \u001B[0;36menv_init_embedding\u001B[1;34m(env_name, config)\u001B[0m\n\u001B[0;32m     18\u001B[0m embedding_registry \u001B[38;5;241m=\u001B[39m {\n\u001B[0;32m     19\u001B[0m     \u001B[38;5;124m\"\u001B[39m\u001B[38;5;124mtsp\u001B[39m\u001B[38;5;124m\"\u001B[39m: TSPInitEmbedding,\n\u001B[0;32m     20\u001B[0m     \u001B[38;5;124m\"\u001B[39m\u001B[38;5;124matsp\u001B[39m\u001B[38;5;124m\"\u001B[39m: TSPInitEmbedding,\n\u001B[1;32m   (...)\u001B[0m\n\u001B[0;32m     39\u001B[0m     \u001B[38;5;124m\"\u001B[39m\u001B[38;5;124mmtvrp\u001B[39m\u001B[38;5;124m\"\u001B[39m: MTVRPInitEmbedding,\n\u001B[0;32m     40\u001B[0m }\n\u001B[0;32m     42\u001B[0m \u001B[38;5;28;01mif\u001B[39;00m env_name \u001B[38;5;129;01mnot\u001B[39;00m \u001B[38;5;129;01min\u001B[39;00m embedding_registry:\n\u001B[1;32m---> 43\u001B[0m     \u001B[38;5;28;01mraise\u001B[39;00m \u001B[38;5;167;01mValueError\u001B[39;00m(\n\u001B[0;32m     44\u001B[0m         \u001B[38;5;124mf\u001B[39m\u001B[38;5;124m\"\u001B[39m\u001B[38;5;124mUnknown environment name \u001B[39m\u001B[38;5;124m'\u001B[39m\u001B[38;5;132;01m{\u001B[39;00menv_name\u001B[38;5;132;01m}\u001B[39;00m\u001B[38;5;124m'\u001B[39m\u001B[38;5;124m. Available init embeddings: \u001B[39m\u001B[38;5;132;01m{\u001B[39;00membedding_registry\u001B[38;5;241m.\u001B[39mkeys()\u001B[38;5;132;01m}\u001B[39;00m\u001B[38;5;124m\"\u001B[39m\n\u001B[0;32m     45\u001B[0m     )\n\u001B[0;32m     47\u001B[0m \u001B[38;5;28;01mreturn\u001B[39;00m embedding_registry[env_name](\u001B[38;5;241m*\u001B[39m\u001B[38;5;241m*\u001B[39mconfig)\n",
      "\u001B[1;31mValueError\u001B[0m: Unknown environment name 'slap'. Available init embeddings: dict_keys(['tsp', 'atsp', 'matnet', 'cvrp', 'cvrptw', 'svrp', 'sdvrp', 'pctsp', 'spctsp', 'op', 'dpp', 'mdpp', 'pdp', 'pdp_ruin_repair', 'tsp_kopt', 'mtsp', 'smtwtp', 'mdcpdp', 'fjsp', 'jssp', 'mtvrp'])"
     ]
    }
   ],
   "execution_count": 218
  },
  {
   "metadata": {
    "ExecuteTime": {
     "end_time": "2024-08-12T08:55:04.983577Z",
     "start_time": "2024-08-12T08:55:04.635510Z"
    }
   },
   "cell_type": "code",
   "source": [
    "device = torch.device(\"cuda\" if torch.cuda.is_available() else \"cpu\")\n",
    "td_init = env.reset(batch_size=[3]).to(device)\n",
    "policy = model.policy.to(device)\n",
    "out = policy(td_init.clone(), env, phase=\"test\", decode_type=\"greedy\", return_actions=True)\n",
    "actions_untrained = out['actions'].cpu().detach()\n",
    "rewards_untrained = out['reward'].cpu().detach()\n",
    "\n",
    "for i in range(2):\n",
    "    print(f\"Problem {i+1} | Cost: {-rewards_untrained[i]:.3f}\")\n",
    "    env.render(td_init[i], actions=actions_untrained[i])"
   ],
   "id": "ada0c5996d6f94f9",
   "outputs": [
    {
     "name": "stdout",
     "output_type": "stream",
     "text": [
      "Problem 1 | Cost: 1248.618\n"
     ]
    },
    {
     "data": {
      "text/plain": [
       "<Figure size 640x480 with 1 Axes>"
      ],
      "image/png": "[encoded data removed]"
     },
     "metadata": {},
     "output_type": "display_data"
    },
    {
     "name": "stdout",
     "output_type": "stream",
     "text": [
      "Problem 2 | Cost: 961.572\n"
     ]
    },
    {
     "data": {
      "text/plain": [
       "<Figure size 640x480 with 1 Axes>"
      ],
      "image/png": "[encoded data removed]"
     },
     "metadata": {},
     "output_type": "display_data"
    }
   ],
   "execution_count": 111
  },
  {
   "metadata": {
    "ExecuteTime": {
     "end_time": "2024-08-09T11:37:47.370312Z",
     "start_time": "2024-08-09T11:37:14.984967Z"
    }
   },
   "cell_type": "code",
   "source": [
    "trainer = RL4COTrainer(max_epochs=30, devices=\"auto\")\n",
    "trainer.fit(model)"
   ],
   "id": "855c1f2d6c29ba28",
   "outputs": [
    {
     "name": "stderr",
     "output_type": "stream",
     "text": [
      "Using bfloat16 Automatic Mixed Precision (AMP)\n",
      "GPU available: False, used: False\n",
      "TPU available: False, using: 0 TPU cores\n",
      "HPU available: False, using: 0 HPUs\n",
      "val_file not set. Generating dataset instead\n",
      "test_file not set. Generating dataset instead\n",
      "\n",
      "  | Name     | Type                 | Params | Mode \n",
      "----------------------------------------------------------\n",
      "0 | env      | SLAPEnv              | 0      | train\n",
      "1 | policy   | AttentionModelPolicy | 693 K  | eval \n",
      "2 | baseline | WarmupBaseline       | 693 K  | train\n",
      "----------------------------------------------------------\n",
      "1.4 M     Trainable params\n",
      "0         Non-trainable params\n",
      "1.4 M     Total params\n",
      "5.550     Total estimated model params size (MB)\n"
     ]
    },
    {
     "data": {
      "text/plain": [
       "Sanity Checking: |          | 0/? [00:00<?, ?it/s]"
      ],
      "application/vnd.jupyter.widget-view+json": {
       "version_major": 2,
       "version_minor": 0,
       "model_id": "4adc63e36aa4475397184a327c75a6f9"
      }
     },
     "metadata": {},
     "output_type": "display_data"
    },
    {
     "data": {
      "text/plain": [
       "Training: |          | 0/? [00:00<?, ?it/s]"
      ],
      "application/vnd.jupyter.widget-view+json": {
       "version_major": 2,
       "version_minor": 0,
       "model_id": "66c1e23dede24873aab40536205d6c1b"
      }
     },
     "metadata": {},
     "output_type": "display_data"
    },
    {
     "data": {
      "text/plain": [
       "Validation: |          | 0/? [00:00<?, ?it/s]"
      ],
      "application/vnd.jupyter.widget-view+json": {
       "version_major": 2,
       "version_minor": 0,
       "model_id": "b40bdda6f8bb413b89683d9c7a131d46"
      }
     },
     "metadata": {},
     "output_type": "display_data"
    },
    {
     "data": {
      "text/plain": [
       "Validation: |          | 0/? [00:00<?, ?it/s]"
      ],
      "application/vnd.jupyter.widget-view+json": {
       "version_major": 2,
       "version_minor": 0,
       "model_id": "5c63d18db478473bab8ec7cce3fade59"
      }
     },
     "metadata": {},
     "output_type": "display_data"
    },
    {
     "data": {
      "text/plain": [
       "Validation: |          | 0/? [00:00<?, ?it/s]"
      ],
      "application/vnd.jupyter.widget-view+json": {
       "version_major": 2,
       "version_minor": 0,
       "model_id": "db9bfe6c8b4a4d0c98e06bf459f0c9d7"
      }
     },
     "metadata": {},
     "output_type": "display_data"
    },
    {
     "data": {
      "text/plain": [
       "Validation: |          | 0/? [00:00<?, ?it/s]"
      ],
      "application/vnd.jupyter.widget-view+json": {
       "version_major": 2,
       "version_minor": 0,
       "model_id": "9ed689c4b87241b297e89c38d6bfb291"
      }
     },
     "metadata": {},
     "output_type": "display_data"
    },
    {
     "data": {
      "text/plain": [
       "Validation: |          | 0/? [00:00<?, ?it/s]"
      ],
      "application/vnd.jupyter.widget-view+json": {
       "version_major": 2,
       "version_minor": 0,
       "model_id": "866985ffcb634fdba8e9c900c54652ae"
      }
     },
     "metadata": {},
     "output_type": "display_data"
    },
    {
     "data": {
      "text/plain": [
       "Validation: |          | 0/? [00:00<?, ?it/s]"
      ],
      "application/vnd.jupyter.widget-view+json": {
       "version_major": 2,
       "version_minor": 0,
       "model_id": "b3174484e073421e98b00299cceea176"
      }
     },
     "metadata": {},
     "output_type": "display_data"
    },
    {
     "data": {
      "text/plain": [
       "Validation: |          | 0/? [00:00<?, ?it/s]"
      ],
      "application/vnd.jupyter.widget-view+json": {
       "version_major": 2,
       "version_minor": 0,
       "model_id": "3dc8848f783b4019ad93d5db59114002"
      }
     },
     "metadata": {},
     "output_type": "display_data"
    },
    {
     "data": {
      "text/plain": [
       "Validation: |          | 0/? [00:00<?, ?it/s]"
      ],
      "application/vnd.jupyter.widget-view+json": {
       "version_major": 2,
       "version_minor": 0,
       "model_id": "0439478d5b3041c09876ddbbb1d1f4dc"
      }
     },
     "metadata": {},
     "output_type": "display_data"
    },
    {
     "data": {
      "text/plain": [
       "Validation: |          | 0/? [00:00<?, ?it/s]"
      ],
      "application/vnd.jupyter.widget-view+json": {
       "version_major": 2,
       "version_minor": 0,
       "model_id": "a47b7941fe8b4d1bbfc2cb855f6e285f"
      }
     },
     "metadata": {},
     "output_type": "display_data"
    },
    {
     "data": {
      "text/plain": [
       "Validation: |          | 0/? [00:00<?, ?it/s]"
      ],
      "application/vnd.jupyter.widget-view+json": {
       "version_major": 2,
       "version_minor": 0,
       "model_id": "caf03e407cf541909b42250abc8ba637"
      }
     },
     "metadata": {},
     "output_type": "display_data"
    },
    {
     "data": {
      "text/plain": [
       "Validation: |          | 0/? [00:00<?, ?it/s]"
      ],
      "application/vnd.jupyter.widget-view+json": {
       "version_major": 2,
       "version_minor": 0,
       "model_id": "9eae8d0b863a43308c24cdde16049549"
      }
     },
     "metadata": {},
     "output_type": "display_data"
    },
    {
     "data": {
      "text/plain": [
       "Validation: |          | 0/? [00:00<?, ?it/s]"
      ],
      "application/vnd.jupyter.widget-view+json": {
       "version_major": 2,
       "version_minor": 0,
       "model_id": "1f2cf606b4ae4e4e8fda17d37f81abbc"
      }
     },
     "metadata": {},
     "output_type": "display_data"
    },
    {
     "data": {
      "text/plain": [
       "Validation: |          | 0/? [00:00<?, ?it/s]"
      ],
      "application/vnd.jupyter.widget-view+json": {
       "version_major": 2,
       "version_minor": 0,
       "model_id": "4777bb98e5a74e45930ba85f1271af6b"
      }
     },
     "metadata": {},
     "output_type": "display_data"
    },
    {
     "data": {
      "text/plain": [
       "Validation: |          | 0/? [00:00<?, ?it/s]"
      ],
      "application/vnd.jupyter.widget-view+json": {
       "version_major": 2,
       "version_minor": 0,
       "model_id": "e9a6421e3f064421aba815d1c0c2ccdb"
      }
     },
     "metadata": {},
     "output_type": "display_data"
    },
    {
     "data": {
      "text/plain": [
       "Validation: |          | 0/? [00:00<?, ?it/s]"
      ],
      "application/vnd.jupyter.widget-view+json": {
       "version_major": 2,
       "version_minor": 0,
       "model_id": "ea63262b897a4c9c9933c9a44a6fb81b"
      }
     },
     "metadata": {},
     "output_type": "display_data"
    },
    {
     "data": {
      "text/plain": [
       "Validation: |          | 0/? [00:00<?, ?it/s]"
      ],
      "application/vnd.jupyter.widget-view+json": {
       "version_major": 2,
       "version_minor": 0,
       "model_id": "4a20c31c11984b7986c7d8cb30d97859"
      }
     },
     "metadata": {},
     "output_type": "display_data"
    },
    {
     "data": {
      "text/plain": [
       "Validation: |          | 0/? [00:00<?, ?it/s]"
      ],
      "application/vnd.jupyter.widget-view+json": {
       "version_major": 2,
       "version_minor": 0,
       "model_id": "f8f82b74f31f4e238f45578ff831ef5a"
      }
     },
     "metadata": {},
     "output_type": "display_data"
    },
    {
     "data": {
      "text/plain": [
       "Validation: |          | 0/? [00:00<?, ?it/s]"
      ],
      "application/vnd.jupyter.widget-view+json": {
       "version_major": 2,
       "version_minor": 0,
       "model_id": "45a51ef0490d4b6cbc746815683275a8"
      }
     },
     "metadata": {},
     "output_type": "display_data"
    },
    {
     "data": {
      "text/plain": [
       "Validation: |          | 0/? [00:00<?, ?it/s]"
      ],
      "application/vnd.jupyter.widget-view+json": {
       "version_major": 2,
       "version_minor": 0,
       "model_id": "5282f6030ad24258b009efa6207d5728"
      }
     },
     "metadata": {},
     "output_type": "display_data"
    },
    {
     "data": {
      "text/plain": [
       "Validation: |          | 0/? [00:00<?, ?it/s]"
      ],
      "application/vnd.jupyter.widget-view+json": {
       "version_major": 2,
       "version_minor": 0,
       "model_id": "34be9e54b2654fa1ad725dc1b391466f"
      }
     },
     "metadata": {},
     "output_type": "display_data"
    },
    {
     "data": {
      "text/plain": [
       "Validation: |          | 0/? [00:00<?, ?it/s]"
      ],
      "application/vnd.jupyter.widget-view+json": {
       "version_major": 2,
       "version_minor": 0,
       "model_id": "14bcdb85b3c746bfb2c178a9ab86db92"
      }
     },
     "metadata": {},
     "output_type": "display_data"
    },
    {
     "data": {
      "text/plain": [
       "Validation: |          | 0/? [00:00<?, ?it/s]"
      ],
      "application/vnd.jupyter.widget-view+json": {
       "version_major": 2,
       "version_minor": 0,
       "model_id": "95b31cdc7e814431965fe03d68748763"
      }
     },
     "metadata": {},
     "output_type": "display_data"
    },
    {
     "data": {
      "text/plain": [
       "Validation: |          | 0/? [00:00<?, ?it/s]"
      ],
      "application/vnd.jupyter.widget-view+json": {
       "version_major": 2,
       "version_minor": 0,
       "model_id": "cd3712fedf3340dfbe755aa1bdb1a918"
      }
     },
     "metadata": {},
     "output_type": "display_data"
    },
    {
     "data": {
      "text/plain": [
       "Validation: |          | 0/? [00:00<?, ?it/s]"
      ],
      "application/vnd.jupyter.widget-view+json": {
       "version_major": 2,
       "version_minor": 0,
       "model_id": "b96904a8330f4af6a80eabb743508adb"
      }
     },
     "metadata": {},
     "output_type": "display_data"
    },
    {
     "data": {
      "text/plain": [
       "Validation: |          | 0/? [00:00<?, ?it/s]"
      ],
      "application/vnd.jupyter.widget-view+json": {
       "version_major": 2,
       "version_minor": 0,
       "model_id": "cf386d5789de49e29cd28490a4a813f7"
      }
     },
     "metadata": {},
     "output_type": "display_data"
    },
    {
     "data": {
      "text/plain": [
       "Validation: |          | 0/? [00:00<?, ?it/s]"
      ],
      "application/vnd.jupyter.widget-view+json": {
       "version_major": 2,
       "version_minor": 0,
       "model_id": "69988be80a074751bfa2cc781c315b9e"
      }
     },
     "metadata": {},
     "output_type": "display_data"
    },
    {
     "data": {
      "text/plain": [
       "Validation: |          | 0/? [00:00<?, ?it/s]"
      ],
      "application/vnd.jupyter.widget-view+json": {
       "version_major": 2,
       "version_minor": 0,
       "model_id": "5e865cd5c87844cb92e701d193df9a3a"
      }
     },
     "metadata": {},
     "output_type": "display_data"
    },
    {
     "data": {
      "text/plain": [
       "Validation: |          | 0/? [00:00<?, ?it/s]"
      ],
      "application/vnd.jupyter.widget-view+json": {
       "version_major": 2,
       "version_minor": 0,
       "model_id": "266e8931832f4c0592a9204ed1df8215"
      }
     },
     "metadata": {},
     "output_type": "display_data"
    },
    {
     "data": {
      "text/plain": [
       "Validation: |          | 0/? [00:00<?, ?it/s]"
      ],
      "application/vnd.jupyter.widget-view+json": {
       "version_major": 2,
       "version_minor": 0,
       "model_id": "fa30ea38bc3e41898ed45a1d9cae070c"
      }
     },
     "metadata": {},
     "output_type": "display_data"
    },
    {
     "data": {
      "text/plain": [
       "Validation: |          | 0/? [00:00<?, ?it/s]"
      ],
      "application/vnd.jupyter.widget-view+json": {
       "version_major": 2,
       "version_minor": 0,
       "model_id": "76a5c56fbe4d42cfbb2764c7d4bc8a5d"
      }
     },
     "metadata": {},
     "output_type": "display_data"
    },
    {
     "name": "stderr",
     "output_type": "stream",
     "text": [
      "`Trainer.fit` stopped: `max_epochs=30` reached.\n"
     ]
    }
   ],
   "execution_count": 129
  },
  {
   "metadata": {
    "ExecuteTime": {
     "end_time": "2024-08-12T08:55:09.065651Z",
     "start_time": "2024-08-12T08:55:08.983735Z"
    }
   },
   "cell_type": "code",
   "source": [
    "import torch\n",
    "from torchrl.data.tensor_specs import DiscreteTensorSpec, BinaryDiscreteTensorSpec, UnboundedContinuousTensorSpec, CompositeSpec\n",
    "from torchrl.envs.transforms import ActionMask, TransformedEnv\n",
    "from torchrl.envs.common import EnvBase\n",
    "from rl4co.models.nn.mlp import MLP\n",
    "\n",
    "from typing import Tuple, Any, Optional, Union\n",
    "from tensordict import TensorDict\n",
    "from rl4co.models.common.constructive.base import NoEncoder\n",
    "from rl4co.models import ConstructivePolicy"
   ],
   "id": "7c1a79a9ae1314ff",
   "outputs": [],
   "execution_count": 113
  },
  {
   "metadata": {
    "ExecuteTime": {
     "end_time": "2024-08-12T08:55:09.724499Z",
     "start_time": "2024-08-12T08:55:09.641388Z"
    }
   },
   "cell_type": "code",
   "source": "mlp = MLP(input_dim=100, output_dim=100)",
   "id": "e12baee51cf5328d",
   "outputs": [],
   "execution_count": 114
  },
  {
   "metadata": {
    "ExecuteTime": {
     "end_time": "2024-08-12T08:55:10.140559Z",
     "start_time": "2024-08-12T08:55:10.053081Z"
    }
   },
   "cell_type": "code",
   "source": "td_init",
   "id": "a3c1b2ffb431922",
   "outputs": [
    {
     "data": {
      "text/plain": [
       "TensorDict(\n",
       "    fields={\n",
       "        action_mask: Tensor(shape=torch.Size([3, 100]), device=cpu, dtype=torch.bool, is_shared=False),\n",
       "        assignment: Tensor(shape=torch.Size([3, 20]), device=cpu, dtype=torch.int32, is_shared=False),\n",
       "        depot_loc_dist: Tensor(shape=torch.Size([3, 100]), device=cpu, dtype=torch.float32, is_shared=False),\n",
       "        dist_mat: Tensor(shape=torch.Size([3, 100, 100]), device=cpu, dtype=torch.float32, is_shared=False),\n",
       "        done: Tensor(shape=torch.Size([3, 1]), device=cpu, dtype=torch.bool, is_shared=False),\n",
       "        freq: Tensor(shape=torch.Size([3, 20, 1]), device=cpu, dtype=torch.float32, is_shared=False),\n",
       "        i: Tensor(shape=torch.Size([3, 1]), device=cpu, dtype=torch.int64, is_shared=False),\n",
       "        locs: Tensor(shape=torch.Size([3, 100, 2]), device=cpu, dtype=torch.float32, is_shared=False),\n",
       "        picklist: Tensor(shape=torch.Size([3, 20, 5]), device=cpu, dtype=torch.int64, is_shared=False),\n",
       "        ratio: Tensor(shape=torch.Size([3, 100]), device=cpu, dtype=torch.float32, is_shared=False),\n",
       "        reward: Tensor(shape=torch.Size([3, 1]), device=cpu, dtype=torch.float32, is_shared=False),\n",
       "        terminated: Tensor(shape=torch.Size([3, 1]), device=cpu, dtype=torch.bool, is_shared=False),\n",
       "        to_choose: Tensor(shape=torch.Size([3, 20]), device=cpu, dtype=torch.float32, is_shared=False)},\n",
       "    batch_size=torch.Size([3]),\n",
       "    device=cpu,\n",
       "    is_shared=False)"
      ]
     },
     "execution_count": 115,
     "metadata": {},
     "output_type": "execute_result"
    }
   ],
   "execution_count": 115
  },
  {
   "metadata": {
    "ExecuteTime": {
     "end_time": "2024-08-12T08:55:11.823036Z",
     "start_time": "2024-08-12T08:55:11.728292Z"
    }
   },
   "cell_type": "code",
   "source": [
    "from rl4co.utils.ops import calculate_entropy\n",
    "from rl4co.envs import get_env\n",
    "from rl4co.utils.decoding import DecodingStrategy, get_decoding_strategy, log, get_log_likelihood\n",
    "\n",
    "\n",
    "class MLPPolicy(ConstructivePolicy):\n",
    "    \"\"\"Template class for an autoregressive policy, simple wrapper around\n",
    "    :class:`rl4co.models.common.constructive.base.ConstructivePolicy`.\n",
    "\n",
    "    Note:\n",
    "        While a decoder is required, an encoder is optional and will be initialized to\n",
    "        :class:`rl4co.models.common.constructive.autoregressive.encoder.NoEncoder`.\n",
    "        This can be used in decoder-only models in which at each step actions do not depend on\n",
    "        previously encoded states.\n",
    "    \"\"\"\n",
    "\n",
    "    def __init__(\n",
    "        self,\n",
    "        encoder,\n",
    "        decoder: MLP,\n",
    "        env_name: str = \"tsp\",\n",
    "        temperature: float = 1.0,\n",
    "        tanh_clipping: float = 0,\n",
    "        mask_logits: bool = True,\n",
    "        train_decode_type: str = \"sampling\",\n",
    "        val_decode_type: str = \"greedy\",\n",
    "        test_decode_type: str = \"greedy\",\n",
    "        **unused_kw,\n",
    "    ):\n",
    "        # We raise an error for the user if no decoder was provided\n",
    "        if decoder is None:\n",
    "            raise ValueError(\"MLPPolicy requires a decoder to be provided.\")\n",
    "\n",
    "        super(MLPPolicy, self).__init__(\n",
    "            encoder=encoder,\n",
    "            decoder=decoder,\n",
    "            env_name=env_name,\n",
    "            temperature=temperature,\n",
    "            tanh_clipping=tanh_clipping,\n",
    "            mask_logits=mask_logits,\n",
    "            train_decode_type=train_decode_type,\n",
    "            val_decode_type=val_decode_type,\n",
    "            test_decode_type=test_decode_type,\n",
    "            **unused_kw,\n",
    "        )\n",
    "    \n",
    "    def pre_decoder_hook(\n",
    "        self, td: TensorDict, env=None, hidden: Any = None, num_starts: int = 0\n",
    "    ) -> Tuple[TensorDict, Any]:\n",
    "        hidden = (hidden,) if not isinstance(hidden, tuple) else hidden\n",
    "\n",
    "        # if num_starts > 1:\n",
    "        #     # NOTE: when using pomo, we need this\n",
    "        #     hidden = tuple(map(lambda x: batchify(x, num_starts), hidden))\n",
    "\n",
    "        return td, env, hidden\n",
    "    \n",
    "    def forward(\n",
    "        self,\n",
    "        td: TensorDict,\n",
    "        env = None,\n",
    "        phase: str = \"train\",\n",
    "        calc_reward: bool = True,\n",
    "        return_actions: bool = False,\n",
    "        return_entropy: bool = False,\n",
    "        return_hidden: bool = False,\n",
    "        return_init_embeds: bool = False,\n",
    "        return_sum_log_likelihood: bool = True,\n",
    "        actions=None,\n",
    "        max_steps=1_000_000,\n",
    "        **decoding_kwargs,\n",
    "    ) -> dict:\n",
    "        # logits = self.decoder(td[\"depot_loc_dist\"])\n",
    "        mask = td[\"action_mask\"]\n",
    "        hidden, init_embeds = self.encoder(td)\n",
    "        self.num_starts = 0\n",
    "\n",
    "        # Instantiate environment if needed\n",
    "        # if isinstance(env, str) or env is None:\n",
    "        #     env_name = self.env_name if env is None else env\n",
    "        #     log.info(f\"Instantiated environment not provided; instantiating {env_name}\")\n",
    "        #     env = get_env(env_name)\n",
    "\n",
    "        # Get decode type depending on phase and whether actions are passed for evaluation\n",
    "        decode_type = decoding_kwargs.pop(\"decode_type\", None)\n",
    "        if actions is not None:\n",
    "            decode_type = \"evaluate\"\n",
    "        elif decode_type is None:\n",
    "            decode_type = getattr(self, f\"{phase}_decode_type\")\n",
    "\n",
    "        # Setup decoding strategy\n",
    "        # we pop arguments that are not part of the decoding strategy\n",
    "        decode_strategy: DecodingStrategy = get_decoding_strategy(\n",
    "            decode_type,\n",
    "            temperature=decoding_kwargs.pop(\"temperature\", self.temperature),\n",
    "            tanh_clipping=decoding_kwargs.pop(\"tanh_clipping\", self.tanh_clipping),\n",
    "            mask_logits=decoding_kwargs.pop(\"mask_logits\", self.mask_logits),\n",
    "            store_all_logp=decoding_kwargs.pop(\"store_all_logp\", return_entropy),\n",
    "            **decoding_kwargs,\n",
    "        )\n",
    "\n",
    "        # Pre-decoding hook: used for the initial step(s) of the decoding strategy\n",
    "\n",
    "        # Additionally call a decoder hook if needed before main decoding\n",
    "\n",
    "        # Main decoding: loop until all sequences are done\n",
    "        step = 0\n",
    "        while not td[\"done\"].all():\n",
    "            logits = self.decoder(td[\"depot_loc_dist\"])\n",
    "            td = decode_strategy.step(\n",
    "                logits,\n",
    "                mask,\n",
    "                td,\n",
    "                action=actions[..., step] if actions is not None else None,\n",
    "            )\n",
    "            td = env.step(td)[\"next\"]\n",
    "            step += 1\n",
    "            if step > max_steps:\n",
    "                log.error(\n",
    "                    f\"Exceeded maximum number of steps ({max_steps}) duing decoding\"\n",
    "                )\n",
    "                break\n",
    "        # Post-decoding hook: used for the final step(s) of the decoding strategy\n",
    "        decode_strategy.num_starts = 0\n",
    "        logprobs, actions, td, env = decode_strategy.post_decoder_hook(td, env)\n",
    "\n",
    "        # Output dictionary construction\n",
    "        if calc_reward:\n",
    "            td.set(\"reward\", env.get_reward(td, actions))\n",
    "\n",
    "        outdict = {\n",
    "            \"reward\": td[\"reward\"],\n",
    "            \"log_likelihood\": get_log_likelihood(\n",
    "                logprobs, actions, td.get(\"mask\", None), return_sum_log_likelihood\n",
    "            ),\n",
    "        }\n",
    "\n",
    "        if return_actions:\n",
    "            outdict[\"actions\"] = actions\n",
    "        if return_entropy:\n",
    "            outdict[\"entropy\"] = calculate_entropy(logprobs)\n",
    "        if return_hidden:\n",
    "            outdict[\"hidden\"] = hidden\n",
    "        if return_init_embeds:\n",
    "            outdict[\"init_embeds\"] = init_embeds\n",
    "\n",
    "        return outdict\n",
    "\n",
    "    "
   ],
   "id": "219224e0f3b3210c",
   "outputs": [],
   "execution_count": 116
  },
  {
   "metadata": {
    "ExecuteTime": {
     "end_time": "2024-08-12T11:29:08.954446Z",
     "start_time": "2024-08-12T11:29:08.865277Z"
    }
   },
   "cell_type": "code",
   "source": [
    "# Import necessary packages\n",
    "import torch.nn as nn\n",
    "from torch import Tensor\n",
    "from tensordict import TensorDict\n",
    "from typing import Tuple, Union\n",
    "from rl4co.models.nn.env_embeddings import env_init_embedding\n",
    "\n",
    "\n",
    "class BaseEncoder(nn.Module):\n",
    "    def __init__(\n",
    "            self,\n",
    "            env_name: str,\n",
    "            embed_dim: int,\n",
    "            init_embedding: nn.Module = None,\n",
    "        ):\n",
    "        super(BaseEncoder, self).__init__()\n",
    "        self.env_name = env_name\n",
    "        \n",
    "        # Init embedding for each environment\n",
    "        self.init_embedding = (\n",
    "            env_init_embedding(self.env_name, {\"embed_dim\": embed_dim})\n",
    "            if init_embedding is None\n",
    "            else init_embedding\n",
    "        )\n",
    "\n",
    "    def forward(\n",
    "        self, td: TensorDict, mask: Union[Tensor, None] = None\n",
    "    ) -> Tuple[Tensor, Tensor]:\n",
    "        \"\"\"\n",
    "        Args:\n",
    "            td: Input TensorDict containing the environment state\n",
    "            mask: Mask to apply to the attention\n",
    "\n",
    "        Returns:\n",
    "            h: Latent representation of the input\n",
    "            init_h: Initial embedding of the input\n",
    "        \"\"\"\n",
    "        init_h = self.init_embedding(td)\n",
    "        h = None\n",
    "        return init_h, h"
   ],
   "id": "4713a59f5e722ceb",
   "outputs": [],
   "execution_count": 207
  },
  {
   "metadata": {
    "ExecuteTime": {
     "end_time": "2024-08-12T11:29:09.316554Z",
     "start_time": "2024-08-12T11:29:09.228715Z"
    }
   },
   "cell_type": "code",
   "source": [
    "emb_dim = 128\n",
    "base_encoder = BaseEncoder(\"slap\", emb_dim, init_embedding=SLAPInitEmbedding(emb_dim))"
   ],
   "id": "2cbe41ed0362970c",
   "outputs": [],
   "execution_count": 208
  },
  {
   "metadata": {
    "ExecuteTime": {
     "end_time": "2024-08-12T11:29:09.651423Z",
     "start_time": "2024-08-12T11:29:09.558086Z"
    }
   },
   "cell_type": "code",
   "source": [
    "from torch import Tensor\n",
    "from rl4co.models.rl.common.critic import CriticNetwork\n",
    "\n",
    "\n",
    "class PPOCriticNetwork(nn.Module):\n",
    "    \"\"\"Create a critic network given an encoder (e.g. as the one in the policy network)\n",
    "    with a value head to transform the embeddings to a scalar value.\n",
    "\n",
    "    Args:\n",
    "        encoder: Encoder module to encode the input\n",
    "        value_head: Value head to transform the embeddings to a scalar value\n",
    "        embed_dim: Dimension of the embeddings of the value head\n",
    "        hidden_dim: Dimension of the hidden layer of the value head\n",
    "    \"\"\"\n",
    "\n",
    "    def __init__(\n",
    "        self,\n",
    "        value_head: Optional[nn.Module] = None,\n",
    "        embed_dim: int = 128,\n",
    "        hidden_dim: int = 100,\n",
    "    ):\n",
    "        super(PPOCriticNetwork, self).__init__()\n",
    "        self.encoder = nn.Sequential(\n",
    "                nn.Linear(100, hidden_dim), nn.ReLU(), nn.Linear(hidden_dim, embed_dim)\n",
    "            )\n",
    "        if value_head is None:\n",
    "            # check if embed dim of encoder is different, if so, use it\n",
    "            value_head = nn.Sequential(\n",
    "                nn.Linear(embed_dim, hidden_dim), nn.ReLU(), nn.Linear(hidden_dim, 1)\n",
    "            )\n",
    "        self.value_head = value_head\n",
    "\n",
    "    def forward(self, x: Union[Tensor, TensorDict], hidden=None) -> Tensor:\n",
    "        \"\"\"Forward pass of the critic network: encode the imput in embedding space and return the value\n",
    "\n",
    "        Args:\n",
    "            x: Input containing the environment state. Can be a Tensor or a TensorDict\n",
    "\n",
    "        Returns:\n",
    "            Value of the input state\n",
    "        \"\"\"\n",
    "        h = self.encoder(x[\"depot_loc_dist\"])\n",
    "        return self.value_head(h).mean(1)  # [batch_size, N] -> [batch_size]"
   ],
   "id": "fa4309c2b72c4719",
   "outputs": [],
   "execution_count": 209
  },
  {
   "metadata": {
    "ExecuteTime": {
     "end_time": "2024-08-12T11:29:10.029492Z",
     "start_time": "2024-08-12T11:29:09.940906Z"
    }
   },
   "cell_type": "code",
   "source": "critic = PPOCriticNetwork()",
   "id": "6a6a98642983328a",
   "outputs": [],
   "execution_count": 210
  },
  {
   "metadata": {
    "ExecuteTime": {
     "end_time": "2024-08-12T11:29:14.070387Z",
     "start_time": "2024-08-12T11:29:13.983358Z"
    }
   },
   "cell_type": "code",
   "source": "mlppolicy = MLPPolicy(encoder=base_encoder, decoder=mlp)",
   "id": "8b6eeec3ad91501a",
   "outputs": [],
   "execution_count": 211
  },
  {
   "metadata": {
    "ExecuteTime": {
     "end_time": "2024-08-12T11:29:14.511250Z",
     "start_time": "2024-08-12T11:29:14.417955Z"
    }
   },
   "cell_type": "code",
   "source": [
    "from rl4co.models import PPO\n",
    "model = PPO(env, policy=mlppolicy, train_data_size=4,\n",
    "                       val_data_size=4)"
   ],
   "id": "a0405f5872d71de",
   "outputs": [],
   "execution_count": 212
  },
  {
   "metadata": {
    "ExecuteTime": {
     "end_time": "2024-08-12T11:29:17.682769Z",
     "start_time": "2024-08-12T11:29:17.591722Z"
    }
   },
   "cell_type": "code",
   "source": "model.critic.encoder(td_init)",
   "id": "ec624c1780e4375e",
   "outputs": [
    {
     "data": {
      "text/plain": [
       "(tensor([[[  0.4466,   0.2076,   0.5965,  ...,   0.8847,   0.1810,   0.5060],\n",
       "          [  0.4012,   0.8650,   0.5903,  ...,   0.1616,   1.0407,   1.0385],\n",
       "          [  0.3557,   1.5223,   0.5841,  ...,  -0.5616,   1.9004,   1.5710],\n",
       "          ...,\n",
       "          [ -0.8524,  19.0086,   0.4196,  ..., -19.7979,  24.7674,  15.7355],\n",
       "          [ -0.8978,  19.6660,   0.4134,  ..., -20.5211,  25.6271,  16.2680],\n",
       "          [ -0.9432,  20.3234,   0.4072,  ..., -21.2443,  26.4867,  16.8006]],\n",
       " \n",
       "         [[  0.4466,   0.2076,   0.5965,  ...,   0.8847,   0.1810,   0.5060],\n",
       "          [  0.4012,   0.8650,   0.5903,  ...,   0.1616,   1.0407,   1.0385],\n",
       "          [  0.3557,   1.5223,   0.5841,  ...,  -0.5616,   1.9004,   1.5710],\n",
       "          ...,\n",
       "          [ -0.8524,  19.0086,   0.4196,  ..., -19.7979,  24.7674,  15.7355],\n",
       "          [ -0.8978,  19.6660,   0.4134,  ..., -20.5211,  25.6271,  16.2680],\n",
       "          [ -0.9432,  20.3234,   0.4072,  ..., -21.2443,  26.4867,  16.8006]],\n",
       " \n",
       "         [[  0.4466,   0.2076,   0.5965,  ...,   0.8847,   0.1810,   0.5060],\n",
       "          [  0.4012,   0.8650,   0.5903,  ...,   0.1616,   1.0407,   1.0385],\n",
       "          [  0.3557,   1.5223,   0.5841,  ...,  -0.5616,   1.9004,   1.5710],\n",
       "          ...,\n",
       "          [ -0.8524,  19.0086,   0.4196,  ..., -19.7979,  24.7674,  15.7355],\n",
       "          [ -0.8978,  19.6660,   0.4134,  ..., -20.5211,  25.6271,  16.2680],\n",
       "          [ -0.9432,  20.3234,   0.4072,  ..., -21.2443,  26.4867,  16.8006]]],\n",
       "        grad_fn=<AddBackward0>),\n",
       " None)"
      ]
     },
     "execution_count": 213,
     "metadata": {},
     "output_type": "execute_result"
    }
   ],
   "execution_count": 213
  },
  {
   "metadata": {
    "ExecuteTime": {
     "end_time": "2024-08-12T11:29:18.873982Z",
     "start_time": "2024-08-12T11:29:18.784025Z"
    }
   },
   "cell_type": "code",
   "source": "h, _ = model.critic.encoder(td_init)  # [batch_size, N, embed_dim] -> [batch_size, N]",
   "id": "334e99dec89c3a51",
   "outputs": [],
   "execution_count": 214
  },
  {
   "metadata": {
    "ExecuteTime": {
     "end_time": "2024-08-12T11:29:26.694171Z",
     "start_time": "2024-08-12T11:29:26.598017Z"
    }
   },
   "cell_type": "code",
   "source": "model.critic.value_head(h).mean(1)\n",
   "id": "18663d9744b75144",
   "outputs": [
    {
     "data": {
      "text/plain": [
       "tensor([[-0.2937],\n",
       "        [-0.2937],\n",
       "        [-0.2937]], grad_fn=<MeanBackward1>)"
      ]
     },
     "execution_count": 216,
     "metadata": {},
     "output_type": "execute_result"
    }
   ],
   "execution_count": 216
  },
  {
   "metadata": {
    "ExecuteTime": {
     "end_time": "2024-08-12T11:29:42.239426Z",
     "start_time": "2024-08-12T11:29:29.555906Z"
    }
   },
   "cell_type": "code",
   "source": [
    "trainer = RL4COTrainer(max_epochs=10, devices=\"auto\")\n",
    "trainer.fit(model)"
   ],
   "id": "a3b176efb55019e1",
   "outputs": [
    {
     "name": "stderr",
     "output_type": "stream",
     "text": [
      "Using bfloat16 Automatic Mixed Precision (AMP)\n",
      "GPU available: False, used: False\n",
      "TPU available: False, using: 0 TPU cores\n",
      "HPU available: False, using: 0 HPUs\n",
      "Overriding gradient_clip_val to None for 'automatic_optimization=False' models\n",
      "val_file not set. Generating dataset instead\n",
      "test_file not set. Generating dataset instead\n",
      "\n",
      "  | Name   | Type          | Params | Mode \n",
      "-------------------------------------------------\n",
      "0 | env    | SLAPEnv       | 0      | train\n",
      "1 | policy | MLPPolicy     | 12.5 K | train\n",
      "2 | critic | CriticNetwork | 67.2 K | train\n",
      "-------------------------------------------------\n",
      "79.7 K    Trainable params\n",
      "0         Non-trainable params\n",
      "79.7 K    Total params\n",
      "0.319     Total estimated model params size (MB)\n"
     ]
    },
    {
     "data": {
      "text/plain": [
       "Sanity Checking: |          | 0/? [00:00<?, ?it/s]"
      ],
      "application/vnd.jupyter.widget-view+json": {
       "version_major": 2,
       "version_minor": 0,
       "model_id": "21f46cd15e7b4e6880fe32ee86f888d2"
      }
     },
     "metadata": {},
     "output_type": "display_data"
    },
    {
     "data": {
      "text/plain": [
       "Training: |          | 0/? [00:00<?, ?it/s]"
      ],
      "application/vnd.jupyter.widget-view+json": {
       "version_major": 2,
       "version_minor": 0,
       "model_id": "fd4148d55d364cd1889d1514d5d135c7"
      }
     },
     "metadata": {},
     "output_type": "display_data"
    },
    {
     "data": {
      "text/plain": [
       "Validation: |          | 0/? [00:00<?, ?it/s]"
      ],
      "application/vnd.jupyter.widget-view+json": {
       "version_major": 2,
       "version_minor": 0,
       "model_id": "e6c3135ce8924f7d9ab6b1e41461d26a"
      }
     },
     "metadata": {},
     "output_type": "display_data"
    },
    {
     "data": {
      "text/plain": [
       "Validation: |          | 0/? [00:00<?, ?it/s]"
      ],
      "application/vnd.jupyter.widget-view+json": {
       "version_major": 2,
       "version_minor": 0,
       "model_id": "30e0acf442694d9db79f380b5664c860"
      }
     },
     "metadata": {},
     "output_type": "display_data"
    },
    {
     "data": {
      "text/plain": [
       "Validation: |          | 0/? [00:00<?, ?it/s]"
      ],
      "application/vnd.jupyter.widget-view+json": {
       "version_major": 2,
       "version_minor": 0,
       "model_id": "c21add8b94fa431598b473bed7eae641"
      }
     },
     "metadata": {},
     "output_type": "display_data"
    },
    {
     "data": {
      "text/plain": [
       "Validation: |          | 0/? [00:00<?, ?it/s]"
      ],
      "application/vnd.jupyter.widget-view+json": {
       "version_major": 2,
       "version_minor": 0,
       "model_id": "dd92c178b8e449b9bbebb47e4f06f31d"
      }
     },
     "metadata": {},
     "output_type": "display_data"
    },
    {
     "data": {
      "text/plain": [
       "Validation: |          | 0/? [00:00<?, ?it/s]"
      ],
      "application/vnd.jupyter.widget-view+json": {
       "version_major": 2,
       "version_minor": 0,
       "model_id": "ef99db70a51e4d35858f55e35fa3edb2"
      }
     },
     "metadata": {},
     "output_type": "display_data"
    },
    {
     "data": {
      "text/plain": [
       "Validation: |          | 0/? [00:00<?, ?it/s]"
      ],
      "application/vnd.jupyter.widget-view+json": {
       "version_major": 2,
       "version_minor": 0,
       "model_id": "f52a7040363a4e4cb00ec083c7bbb252"
      }
     },
     "metadata": {},
     "output_type": "display_data"
    },
    {
     "data": {
      "text/plain": [
       "Validation: |          | 0/? [00:00<?, ?it/s]"
      ],
      "application/vnd.jupyter.widget-view+json": {
       "version_major": 2,
       "version_minor": 0,
       "model_id": "7a9ef685266a4029849ed158f294aa4c"
      }
     },
     "metadata": {},
     "output_type": "display_data"
    },
    {
     "data": {
      "text/plain": [
       "Validation: |          | 0/? [00:00<?, ?it/s]"
      ],
      "application/vnd.jupyter.widget-view+json": {
       "version_major": 2,
       "version_minor": 0,
       "model_id": "9af75404d3364558b599ab03c79a96d4"
      }
     },
     "metadata": {},
     "output_type": "display_data"
    },
    {
     "data": {
      "text/plain": [
       "Validation: |          | 0/? [00:00<?, ?it/s]"
      ],
      "application/vnd.jupyter.widget-view+json": {
       "version_major": 2,
       "version_minor": 0,
       "model_id": "540b9e58cc87499ea85f823b9f1feb0c"
      }
     },
     "metadata": {},
     "output_type": "display_data"
    },
    {
     "data": {
      "text/plain": [
       "Validation: |          | 0/? [00:00<?, ?it/s]"
      ],
      "application/vnd.jupyter.widget-view+json": {
       "version_major": 2,
       "version_minor": 0,
       "model_id": "3482ef7b4ecc49d0a94a29e4974eb085"
      }
     },
     "metadata": {},
     "output_type": "display_data"
    },
    {
     "name": "stderr",
     "output_type": "stream",
     "text": [
      "`Trainer.fit` stopped: `max_epochs=10` reached.\n"
     ]
    }
   ],
   "execution_count": 217
  },
  {
   "metadata": {},
   "cell_type": "code",
   "outputs": [],
   "execution_count": null,
   "source": "",
   "id": "60e13d0b3fb43640"
  }
 ],
 "metadata": {
  "kernelspec": {
   "display_name": "Python 3",
   "language": "python",
   "name": "python3"
  },
  "language_info": {
   "codemirror_mode": {
    "name": "ipython",
    "version": 2
   },
   "file_extension": ".py",
   "mimetype": "text/x-python",
   "name": "python",
   "nbconvert_exporter": "python",
   "pygments_lexer": "ipython2",
   "version": "2.7.6"
  }
 },
 "nbformat": 4,
 "nbformat_minor": 5
}
