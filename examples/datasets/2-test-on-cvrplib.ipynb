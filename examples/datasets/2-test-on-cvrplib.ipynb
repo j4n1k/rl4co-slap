{
 "cells": [
  {
   "cell_type": "markdown",
   "metadata": {},
   "source": [
    "# Test Model on VRPLib\n",
    "\n",
    "In this notebook, we will test the trained model's performance on the VRPLib benchmark. We will use the trained model from the previous notebook.\n",
    "\n",
    "[VRPLIB](http://vrp.galgos.inf.puc-rio.br/index.php/en/) is a collection of instances related to the CVRP, which is a classic optimization challenge in the field of logistics and transportation. \n",
    "\n",
    "## Before we start\n",
    "\n",
    "To use the VRPLib, we strongly recomment to use the Python `vrplib` tool:\n",
    "\n",
    "[VRPLib](https://github.com/leonlan/VRPLIB) is a Python package for working with Vehicle Routing Problem (VRP) instances. This tool can help us easily load the VRPLib instances and visualize the results."
   ]
  },
  {
   "cell_type": "markdown",
   "metadata": {},
   "source": [
    "## Installation\n",
    "\n",
    "Uncomment the following line to install the package from PyPI. Remember to choose a GPU runtime for faster training!\n",
    "\n",
    "> Note: You may need to restart the runtime in Colab after this\n"
   ]
  },
  {
   "cell_type": "code",
   "execution_count": null,
   "metadata": {},
   "outputs": [],
   "source": [
    "# !pip install rl4co[graph] # include torch-geometric\n",
    "\n",
    "## NOTE: to install latest version from Github (may be unstable) install from source instead:\n",
    "# !pip install git+https://github.com/ai4co/rl4co.git"
   ]
  },
  {
   "cell_type": "code",
   "metadata": {
    "ExecuteTime": {
     "end_time": "2024-10-08T11:44:00.069257Z",
     "start_time": "2024-10-08T11:43:54.836385Z"
    }
   },
   "source": [
    "# Install the `tsplib95` package\n",
    "!pip install vrplib"
   ],
   "outputs": [
    {
     "name": "stdout",
     "output_type": "stream",
     "text": [
      "Requirement already satisfied: vrplib in c:\\users\\zm0714\\documents\\projekte\\rl4co-slap\\venv\\lib\\site-packages (1.4.0)\n",
      "Requirement already satisfied: numpy<2.0.0,>=1.19.3 in c:\\users\\zm0714\\documents\\projekte\\rl4co-slap\\venv\\lib\\site-packages (from vrplib) (1.26.4)\n"
     ]
    },
    {
     "name": "stderr",
     "output_type": "stream",
     "text": [
      "\n",
      "[notice] A new release of pip is available: 23.2.1 -> 24.2\n",
      "[notice] To update, run: python.exe -m pip install --upgrade pip\n"
     ]
    }
   ],
   "execution_count": 1
  },
  {
   "cell_type": "markdown",
   "metadata": {},
   "source": [
    "## Imports"
   ]
  },
  {
   "cell_type": "code",
   "metadata": {
    "ExecuteTime": {
     "end_time": "2024-10-08T11:44:26.553550Z",
     "start_time": "2024-10-08T11:44:15.661470Z"
    }
   },
   "source": [
    "%load_ext autoreload\n",
    "%autoreload 2\n",
    "\n",
    "import os\n",
    "import re\n",
    "import torch\n",
    "import vrplib\n",
    "\n",
    "from rl4co.envs import TSPEnv, CVRPEnv\n",
    "from rl4co.models.zoo.am import AttentionModel\n",
    "from rl4co.utils.trainer import RL4COTrainer\n",
    "from rl4co.utils.decoding import get_log_likelihood\n",
    "from rl4co.models.zoo import EAS, EASLay, EASEmb, ActiveSearch\n",
    "\n",
    "from tqdm import tqdm\n",
    "from math import ceil\n",
    "from einops import repeat"
   ],
   "outputs": [
    {
     "name": "stderr",
     "output_type": "stream",
     "text": [
      "C:\\Users\\zm0714\\Documents\\Projekte\\rl4co-slap\\venv\\Lib\\site-packages\\torchrl\\data\\replay_buffers\\samplers.py:37: UserWarning: Failed to import torchrl C++ binaries. Some modules (eg, prioritized replay buffers) may not work with your installation. If you installed TorchRL from PyPI, please report the bug on TorchRL github. If you installed TorchRL locally and/or in development mode, check that you have all the required compiling packages.\n",
      "  warnings.warn(EXTENSION_WARNING)\n",
      "C:\\Users\\zm0714\\Documents\\Projekte\\rl4co-slap\\venv\\Lib\\site-packages\\lightning\\fabric\\__init__.py:41: Deprecated call to `pkg_resources.declare_namespace('lightning.fabric')`.\n",
      "Implementing implicit namespace packages (as specified in PEP 420) is preferred to `pkg_resources.declare_namespace`. See https://setuptools.pypa.io/en/latest/references/keywords.html#keyword-namespace-packages\n",
      "C:\\Users\\zm0714\\Documents\\Projekte\\rl4co-slap\\venv\\Lib\\site-packages\\pkg_resources\\__init__.py:2350: DeprecationWarning: Deprecated call to `pkg_resources.declare_namespace('lightning')`.\n",
      "Implementing implicit namespace packages (as specified in PEP 420) is preferred to `pkg_resources.declare_namespace`. See https://setuptools.pypa.io/en/latest/references/keywords.html#keyword-namespace-packages\n",
      "  declare_namespace(parent)\n",
      "C:\\Users\\zm0714\\Documents\\Projekte\\rl4co-slap\\venv\\Lib\\site-packages\\lightning\\pytorch\\__init__.py:37: Deprecated call to `pkg_resources.declare_namespace('lightning.pytorch')`.\n",
      "Implementing implicit namespace packages (as specified in PEP 420) is preferred to `pkg_resources.declare_namespace`. See https://setuptools.pypa.io/en/latest/references/keywords.html#keyword-namespace-packages\n",
      "C:\\Users\\zm0714\\Documents\\Projekte\\rl4co-slap\\venv\\Lib\\site-packages\\pkg_resources\\__init__.py:2350: DeprecationWarning: Deprecated call to `pkg_resources.declare_namespace('lightning')`.\n",
      "Implementing implicit namespace packages (as specified in PEP 420) is preferred to `pkg_resources.declare_namespace`. See https://setuptools.pypa.io/en/latest/references/keywords.html#keyword-namespace-packages\n",
      "  declare_namespace(parent)\n"
     ]
    }
   ],
   "execution_count": 2
  },
  {
   "cell_type": "markdown",
   "metadata": {},
   "source": [
    "## Load a trained model"
   ]
  },
  {
   "cell_type": "code",
   "metadata": {
    "ExecuteTime": {
     "end_time": "2024-10-08T11:44:29.445854Z",
     "start_time": "2024-10-08T11:44:28.605121Z"
    }
   },
   "source": [
    "# Load from checkpoint; alternatively, simply instantiate a new model\n",
    "# Note the model is trained for CVRP problem\n",
    "checkpoint_path = \"../cvrp-20.ckpt\" # modify the path to your checkpoint file\n",
    "\n",
    "device = torch.device(\"cuda\" if torch.cuda.is_available() else \"cpu\")\n",
    "\n",
    "# load checkpoint\n",
    "# checkpoint = torch.load(checkpoint_path)\n",
    "\n",
    "lit_model = AttentionModel.load_from_checkpoint(checkpoint_path, load_baseline=False)\n",
    "policy, env = lit_model.policy, lit_model.env\n",
    "policy = policy.to(device)"
   ],
   "outputs": [
    {
     "ename": "FileNotFoundError",
     "evalue": "[Errno 2] No such file or directory: 'C:/Users/zm0714/Documents/Projekte/rl4co-slap/examples/datasets/../cvrp-20.ckpt'",
     "output_type": "error",
     "traceback": [
      "\u001B[1;31m---------------------------------------------------------------------------\u001B[0m",
      "\u001B[1;31mFileNotFoundError\u001B[0m                         Traceback (most recent call last)",
      "Cell \u001B[1;32mIn[3], line 10\u001B[0m\n\u001B[0;32m      5\u001B[0m device \u001B[38;5;241m=\u001B[39m torch\u001B[38;5;241m.\u001B[39mdevice(\u001B[38;5;124m\"\u001B[39m\u001B[38;5;124mcuda\u001B[39m\u001B[38;5;124m\"\u001B[39m \u001B[38;5;28;01mif\u001B[39;00m torch\u001B[38;5;241m.\u001B[39mcuda\u001B[38;5;241m.\u001B[39mis_available() \u001B[38;5;28;01melse\u001B[39;00m \u001B[38;5;124m\"\u001B[39m\u001B[38;5;124mcpu\u001B[39m\u001B[38;5;124m\"\u001B[39m)\n\u001B[0;32m      7\u001B[0m \u001B[38;5;66;03m# load checkpoint\u001B[39;00m\n\u001B[0;32m      8\u001B[0m \u001B[38;5;66;03m# checkpoint = torch.load(checkpoint_path)\u001B[39;00m\n\u001B[1;32m---> 10\u001B[0m lit_model \u001B[38;5;241m=\u001B[39m \u001B[43mAttentionModel\u001B[49m\u001B[38;5;241;43m.\u001B[39;49m\u001B[43mload_from_checkpoint\u001B[49m\u001B[43m(\u001B[49m\u001B[43mcheckpoint_path\u001B[49m\u001B[43m,\u001B[49m\u001B[43m \u001B[49m\u001B[43mload_baseline\u001B[49m\u001B[38;5;241;43m=\u001B[39;49m\u001B[38;5;28;43;01mFalse\u001B[39;49;00m\u001B[43m)\u001B[49m\n\u001B[0;32m     11\u001B[0m policy, env \u001B[38;5;241m=\u001B[39m lit_model\u001B[38;5;241m.\u001B[39mpolicy, lit_model\u001B[38;5;241m.\u001B[39menv\n\u001B[0;32m     12\u001B[0m policy \u001B[38;5;241m=\u001B[39m policy\u001B[38;5;241m.\u001B[39mto(device)\n",
      "File \u001B[1;32m~\\Documents\\Projekte\\rl4co-slap\\rl4co\\models\\rl\\reinforce\\reinforce.py:189\u001B[0m, in \u001B[0;36mREINFORCE.load_from_checkpoint\u001B[1;34m(cls, checkpoint_path, map_location, hparams_file, strict, load_baseline, **kwargs)\u001B[0m\n\u001B[0;32m    186\u001B[0m     strict \u001B[38;5;241m=\u001B[39m \u001B[38;5;28;01mFalse\u001B[39;00m\n\u001B[0;32m    188\u001B[0m \u001B[38;5;66;03m# Do not use strict\u001B[39;00m\n\u001B[1;32m--> 189\u001B[0m loaded \u001B[38;5;241m=\u001B[39m \u001B[43m_load_from_checkpoint\u001B[49m\u001B[43m(\u001B[49m\n\u001B[0;32m    190\u001B[0m \u001B[43m    \u001B[49m\u001B[38;5;28;43mcls\u001B[39;49m\u001B[43m,\u001B[49m\n\u001B[0;32m    191\u001B[0m \u001B[43m    \u001B[49m\u001B[43mcheckpoint_path\u001B[49m\u001B[43m,\u001B[49m\n\u001B[0;32m    192\u001B[0m \u001B[43m    \u001B[49m\u001B[43mmap_location\u001B[49m\u001B[43m,\u001B[49m\n\u001B[0;32m    193\u001B[0m \u001B[43m    \u001B[49m\u001B[43mhparams_file\u001B[49m\u001B[43m,\u001B[49m\n\u001B[0;32m    194\u001B[0m \u001B[43m    \u001B[49m\u001B[43mstrict\u001B[49m\u001B[43m,\u001B[49m\n\u001B[0;32m    195\u001B[0m \u001B[43m    \u001B[49m\u001B[38;5;241;43m*\u001B[39;49m\u001B[38;5;241;43m*\u001B[39;49m\u001B[43mkwargs\u001B[49m\u001B[43m,\u001B[49m\n\u001B[0;32m    196\u001B[0m \u001B[43m\u001B[49m\u001B[43m)\u001B[49m\n\u001B[0;32m    198\u001B[0m \u001B[38;5;66;03m# Load baseline state dict\u001B[39;00m\n\u001B[0;32m    199\u001B[0m \u001B[38;5;28;01mif\u001B[39;00m load_baseline:\n\u001B[0;32m    200\u001B[0m     \u001B[38;5;66;03m# setup baseline first\u001B[39;00m\n",
      "File \u001B[1;32m~\\Documents\\Projekte\\rl4co-slap\\venv\\Lib\\site-packages\\lightning\\pytorch\\core\\saving.py:63\u001B[0m, in \u001B[0;36m_load_from_checkpoint\u001B[1;34m(cls, checkpoint_path, map_location, hparams_file, strict, **kwargs)\u001B[0m\n\u001B[0;32m     61\u001B[0m map_location \u001B[38;5;241m=\u001B[39m map_location \u001B[38;5;129;01mor\u001B[39;00m _default_map_location\n\u001B[0;32m     62\u001B[0m \u001B[38;5;28;01mwith\u001B[39;00m pl_legacy_patch():\n\u001B[1;32m---> 63\u001B[0m     checkpoint \u001B[38;5;241m=\u001B[39m \u001B[43mpl_load\u001B[49m\u001B[43m(\u001B[49m\u001B[43mcheckpoint_path\u001B[49m\u001B[43m,\u001B[49m\u001B[43m \u001B[49m\u001B[43mmap_location\u001B[49m\u001B[38;5;241;43m=\u001B[39;49m\u001B[43mmap_location\u001B[49m\u001B[43m)\u001B[49m\n\u001B[0;32m     65\u001B[0m \u001B[38;5;66;03m# convert legacy checkpoints to the new format\u001B[39;00m\n\u001B[0;32m     66\u001B[0m checkpoint \u001B[38;5;241m=\u001B[39m _pl_migrate_checkpoint(\n\u001B[0;32m     67\u001B[0m     checkpoint, checkpoint_path\u001B[38;5;241m=\u001B[39m(checkpoint_path \u001B[38;5;28;01mif\u001B[39;00m \u001B[38;5;28misinstance\u001B[39m(checkpoint_path, (\u001B[38;5;28mstr\u001B[39m, Path)) \u001B[38;5;28;01melse\u001B[39;00m \u001B[38;5;28;01mNone\u001B[39;00m)\n\u001B[0;32m     68\u001B[0m )\n",
      "File \u001B[1;32m~\\Documents\\Projekte\\rl4co-slap\\venv\\Lib\\site-packages\\lightning\\fabric\\utilities\\cloud_io.py:56\u001B[0m, in \u001B[0;36m_load\u001B[1;34m(path_or_url, map_location)\u001B[0m\n\u001B[0;32m     51\u001B[0m     \u001B[38;5;28;01mreturn\u001B[39;00m torch\u001B[38;5;241m.\u001B[39mhub\u001B[38;5;241m.\u001B[39mload_state_dict_from_url(\n\u001B[0;32m     52\u001B[0m         \u001B[38;5;28mstr\u001B[39m(path_or_url),\n\u001B[0;32m     53\u001B[0m         map_location\u001B[38;5;241m=\u001B[39mmap_location,  \u001B[38;5;66;03m# type: ignore[arg-type]\u001B[39;00m\n\u001B[0;32m     54\u001B[0m     )\n\u001B[0;32m     55\u001B[0m fs \u001B[38;5;241m=\u001B[39m get_filesystem(path_or_url)\n\u001B[1;32m---> 56\u001B[0m \u001B[38;5;28;01mwith\u001B[39;00m \u001B[43mfs\u001B[49m\u001B[38;5;241;43m.\u001B[39;49m\u001B[43mopen\u001B[49m\u001B[43m(\u001B[49m\u001B[43mpath_or_url\u001B[49m\u001B[43m,\u001B[49m\u001B[43m \u001B[49m\u001B[38;5;124;43m\"\u001B[39;49m\u001B[38;5;124;43mrb\u001B[39;49m\u001B[38;5;124;43m\"\u001B[39;49m\u001B[43m)\u001B[49m \u001B[38;5;28;01mas\u001B[39;00m f:\n\u001B[0;32m     57\u001B[0m     \u001B[38;5;28;01mreturn\u001B[39;00m torch\u001B[38;5;241m.\u001B[39mload(f, map_location\u001B[38;5;241m=\u001B[39mmap_location)\n",
      "File \u001B[1;32m~\\Documents\\Projekte\\rl4co-slap\\venv\\Lib\\site-packages\\fsspec\\spec.py:1303\u001B[0m, in \u001B[0;36mAbstractFileSystem.open\u001B[1;34m(self, path, mode, block_size, cache_options, compression, **kwargs)\u001B[0m\n\u001B[0;32m   1301\u001B[0m \u001B[38;5;28;01melse\u001B[39;00m:\n\u001B[0;32m   1302\u001B[0m     ac \u001B[38;5;241m=\u001B[39m kwargs\u001B[38;5;241m.\u001B[39mpop(\u001B[38;5;124m\"\u001B[39m\u001B[38;5;124mautocommit\u001B[39m\u001B[38;5;124m\"\u001B[39m, \u001B[38;5;129;01mnot\u001B[39;00m \u001B[38;5;28mself\u001B[39m\u001B[38;5;241m.\u001B[39m_intrans)\n\u001B[1;32m-> 1303\u001B[0m     f \u001B[38;5;241m=\u001B[39m \u001B[38;5;28;43mself\u001B[39;49m\u001B[38;5;241;43m.\u001B[39;49m\u001B[43m_open\u001B[49m\u001B[43m(\u001B[49m\n\u001B[0;32m   1304\u001B[0m \u001B[43m        \u001B[49m\u001B[43mpath\u001B[49m\u001B[43m,\u001B[49m\n\u001B[0;32m   1305\u001B[0m \u001B[43m        \u001B[49m\u001B[43mmode\u001B[49m\u001B[38;5;241;43m=\u001B[39;49m\u001B[43mmode\u001B[49m\u001B[43m,\u001B[49m\n\u001B[0;32m   1306\u001B[0m \u001B[43m        \u001B[49m\u001B[43mblock_size\u001B[49m\u001B[38;5;241;43m=\u001B[39;49m\u001B[43mblock_size\u001B[49m\u001B[43m,\u001B[49m\n\u001B[0;32m   1307\u001B[0m \u001B[43m        \u001B[49m\u001B[43mautocommit\u001B[49m\u001B[38;5;241;43m=\u001B[39;49m\u001B[43mac\u001B[49m\u001B[43m,\u001B[49m\n\u001B[0;32m   1308\u001B[0m \u001B[43m        \u001B[49m\u001B[43mcache_options\u001B[49m\u001B[38;5;241;43m=\u001B[39;49m\u001B[43mcache_options\u001B[49m\u001B[43m,\u001B[49m\n\u001B[0;32m   1309\u001B[0m \u001B[43m        \u001B[49m\u001B[38;5;241;43m*\u001B[39;49m\u001B[38;5;241;43m*\u001B[39;49m\u001B[43mkwargs\u001B[49m\u001B[43m,\u001B[49m\n\u001B[0;32m   1310\u001B[0m \u001B[43m    \u001B[49m\u001B[43m)\u001B[49m\n\u001B[0;32m   1311\u001B[0m     \u001B[38;5;28;01mif\u001B[39;00m compression \u001B[38;5;129;01mis\u001B[39;00m \u001B[38;5;129;01mnot\u001B[39;00m \u001B[38;5;28;01mNone\u001B[39;00m:\n\u001B[0;32m   1312\u001B[0m         \u001B[38;5;28;01mfrom\u001B[39;00m \u001B[38;5;21;01mfsspec\u001B[39;00m\u001B[38;5;21;01m.\u001B[39;00m\u001B[38;5;21;01mcompression\u001B[39;00m \u001B[38;5;28;01mimport\u001B[39;00m compr\n",
      "File \u001B[1;32m~\\Documents\\Projekte\\rl4co-slap\\venv\\Lib\\site-packages\\fsspec\\implementations\\local.py:191\u001B[0m, in \u001B[0;36mLocalFileSystem._open\u001B[1;34m(self, path, mode, block_size, **kwargs)\u001B[0m\n\u001B[0;32m    189\u001B[0m \u001B[38;5;28;01mif\u001B[39;00m \u001B[38;5;28mself\u001B[39m\u001B[38;5;241m.\u001B[39mauto_mkdir \u001B[38;5;129;01mand\u001B[39;00m \u001B[38;5;124m\"\u001B[39m\u001B[38;5;124mw\u001B[39m\u001B[38;5;124m\"\u001B[39m \u001B[38;5;129;01min\u001B[39;00m mode:\n\u001B[0;32m    190\u001B[0m     \u001B[38;5;28mself\u001B[39m\u001B[38;5;241m.\u001B[39mmakedirs(\u001B[38;5;28mself\u001B[39m\u001B[38;5;241m.\u001B[39m_parent(path), exist_ok\u001B[38;5;241m=\u001B[39m\u001B[38;5;28;01mTrue\u001B[39;00m)\n\u001B[1;32m--> 191\u001B[0m \u001B[38;5;28;01mreturn\u001B[39;00m \u001B[43mLocalFileOpener\u001B[49m\u001B[43m(\u001B[49m\u001B[43mpath\u001B[49m\u001B[43m,\u001B[49m\u001B[43m \u001B[49m\u001B[43mmode\u001B[49m\u001B[43m,\u001B[49m\u001B[43m \u001B[49m\u001B[43mfs\u001B[49m\u001B[38;5;241;43m=\u001B[39;49m\u001B[38;5;28;43mself\u001B[39;49m\u001B[43m,\u001B[49m\u001B[43m \u001B[49m\u001B[38;5;241;43m*\u001B[39;49m\u001B[38;5;241;43m*\u001B[39;49m\u001B[43mkwargs\u001B[49m\u001B[43m)\u001B[49m\n",
      "File \u001B[1;32m~\\Documents\\Projekte\\rl4co-slap\\venv\\Lib\\site-packages\\fsspec\\implementations\\local.py:355\u001B[0m, in \u001B[0;36mLocalFileOpener.__init__\u001B[1;34m(self, path, mode, autocommit, fs, compression, **kwargs)\u001B[0m\n\u001B[0;32m    353\u001B[0m \u001B[38;5;28mself\u001B[39m\u001B[38;5;241m.\u001B[39mcompression \u001B[38;5;241m=\u001B[39m get_compression(path, compression)\n\u001B[0;32m    354\u001B[0m \u001B[38;5;28mself\u001B[39m\u001B[38;5;241m.\u001B[39mblocksize \u001B[38;5;241m=\u001B[39m io\u001B[38;5;241m.\u001B[39mDEFAULT_BUFFER_SIZE\n\u001B[1;32m--> 355\u001B[0m \u001B[38;5;28;43mself\u001B[39;49m\u001B[38;5;241;43m.\u001B[39;49m\u001B[43m_open\u001B[49m\u001B[43m(\u001B[49m\u001B[43m)\u001B[49m\n",
      "File \u001B[1;32m~\\Documents\\Projekte\\rl4co-slap\\venv\\Lib\\site-packages\\fsspec\\implementations\\local.py:360\u001B[0m, in \u001B[0;36mLocalFileOpener._open\u001B[1;34m(self)\u001B[0m\n\u001B[0;32m    358\u001B[0m \u001B[38;5;28;01mif\u001B[39;00m \u001B[38;5;28mself\u001B[39m\u001B[38;5;241m.\u001B[39mf \u001B[38;5;129;01mis\u001B[39;00m \u001B[38;5;28;01mNone\u001B[39;00m \u001B[38;5;129;01mor\u001B[39;00m \u001B[38;5;28mself\u001B[39m\u001B[38;5;241m.\u001B[39mf\u001B[38;5;241m.\u001B[39mclosed:\n\u001B[0;32m    359\u001B[0m     \u001B[38;5;28;01mif\u001B[39;00m \u001B[38;5;28mself\u001B[39m\u001B[38;5;241m.\u001B[39mautocommit \u001B[38;5;129;01mor\u001B[39;00m \u001B[38;5;124m\"\u001B[39m\u001B[38;5;124mw\u001B[39m\u001B[38;5;124m\"\u001B[39m \u001B[38;5;129;01mnot\u001B[39;00m \u001B[38;5;129;01min\u001B[39;00m \u001B[38;5;28mself\u001B[39m\u001B[38;5;241m.\u001B[39mmode:\n\u001B[1;32m--> 360\u001B[0m         \u001B[38;5;28mself\u001B[39m\u001B[38;5;241m.\u001B[39mf \u001B[38;5;241m=\u001B[39m \u001B[38;5;28;43mopen\u001B[39;49m\u001B[43m(\u001B[49m\u001B[38;5;28;43mself\u001B[39;49m\u001B[38;5;241;43m.\u001B[39;49m\u001B[43mpath\u001B[49m\u001B[43m,\u001B[49m\u001B[43m \u001B[49m\u001B[43mmode\u001B[49m\u001B[38;5;241;43m=\u001B[39;49m\u001B[38;5;28;43mself\u001B[39;49m\u001B[38;5;241;43m.\u001B[39;49m\u001B[43mmode\u001B[49m\u001B[43m)\u001B[49m\n\u001B[0;32m    361\u001B[0m         \u001B[38;5;28;01mif\u001B[39;00m \u001B[38;5;28mself\u001B[39m\u001B[38;5;241m.\u001B[39mcompression:\n\u001B[0;32m    362\u001B[0m             compress \u001B[38;5;241m=\u001B[39m compr[\u001B[38;5;28mself\u001B[39m\u001B[38;5;241m.\u001B[39mcompression]\n",
      "\u001B[1;31mFileNotFoundError\u001B[0m: [Errno 2] No such file or directory: 'C:/Users/zm0714/Documents/Projekte/rl4co-slap/examples/datasets/../cvrp-20.ckpt'"
     ]
    }
   ],
   "execution_count": 3
  },
  {
   "cell_type": "markdown",
   "metadata": {},
   "source": [
    "## Download vrp problems"
   ]
  },
  {
   "cell_type": "code",
   "metadata": {
    "ExecuteTime": {
     "end_time": "2024-10-08T11:45:04.165548Z",
     "start_time": "2024-10-08T11:44:40.191663Z"
    }
   },
   "source": [
    "problem_names = vrplib.list_names(low=50, high=200, vrp_type='cvrp') \n",
    "\n",
    "instances = [] # Collect Set A, B, E, F, M datasets\n",
    "for name in problem_names:\n",
    "    if 'A' in name:\n",
    "        instances.append(name)\n",
    "    elif 'B' in name:\n",
    "        instances.append(name)\n",
    "    elif 'E' in name:\n",
    "        instances.append(name)\n",
    "    elif 'F' in name:\n",
    "        instances.append(name)\n",
    "    elif 'M' in name and 'CMT' not in name:\n",
    "        instances.append(name)\n",
    "\n",
    "# Modify the path you want to save \n",
    "# Note: we don't have to create this folder in advance\n",
    "path_to_save = './vrplib/' \n",
    "\n",
    "try:\n",
    "    os.makedirs(path_to_save)\n",
    "    for instance in tqdm(instances):\n",
    "        vrplib.download_instance(instance, path_to_save)\n",
    "        vrplib.download_solution(instance, path_to_save)\n",
    "except: # already exist\n",
    "    pass "
   ],
   "outputs": [
    {
     "name": "stderr",
     "output_type": "stream",
     "text": [
      "C:\\Users\\zm0714\\Documents\\Projekte\\rl4co-slap\\venv\\Lib\\site-packages\\vrplib\\download\\list_names.py:58: DeprecationWarning: read_text is deprecated. Use files() instead. Refer to https://importlib-resources.readthedocs.io/en/latest/using.html#migrating-from-legacy for migration advice.\n",
      "  fi = pkg_resource.read_text(__package__, \"instance_data.csv\")\n",
      "C:\\Users\\zm0714\\AppData\\Local\\Programs\\Python\\Python311\\Lib\\importlib\\resources\\_legacy.py:80: DeprecationWarning: open_text is deprecated. Use files() instead. Refer to https://importlib-resources.readthedocs.io/en/latest/using.html#migrating-from-legacy for migration advice.\n",
      "  with open_text(package, resource, encoding, errors) as fp:\n",
      "C:\\Users\\zm0714\\Documents\\Projekte\\rl4co-slap\\venv\\Lib\\site-packages\\vrplib\\download\\list_names.py:32: DeprecationWarning: The function 'list_names' is deprecated and will be removed in the next major version (vrplib v2.0.0).\n",
      "  warnings.warn(msg, DeprecationWarning)\n",
      "  0%|          | 0/37 [00:00<?, ?it/s]C:\\Users\\zm0714\\Documents\\Projekte\\rl4co-slap\\venv\\Lib\\site-packages\\vrplib\\download\\download_instance.py:29: DeprecationWarning: The function 'download_instance' is deprecated and will be removed in the next major version (vrplib v2.0.0).\n",
      "  warnings.warn(msg, DeprecationWarning)\n",
      "C:\\Users\\zm0714\\Documents\\Projekte\\rl4co-slap\\venv\\Lib\\site-packages\\vrplib\\download\\download_solution.py:29: DeprecationWarning: The function 'download_solution' is deprecated and will be removed in the next major version (vrplib v2.0.0).\n",
      "  warnings.warn(msg, DeprecationWarning)\n",
      "100%|██████████| 37/37 [00:23<00:00,  1.55it/s]\n"
     ]
    }
   ],
   "execution_count": 4
  },
  {
   "cell_type": "code",
   "metadata": {
    "ExecuteTime": {
     "end_time": "2024-10-08T11:45:13.839111Z",
     "start_time": "2024-10-08T11:45:13.735404Z"
    }
   },
   "source": [
    "# Utils function\n",
    "def normalize_coord(coord:torch.Tensor) -> torch.Tensor:\n",
    "    x, y = coord[:, 0], coord[:, 1]\n",
    "    x_min, x_max = x.min(), x.max()\n",
    "    y_min, y_max = y.min(), y.max()\n",
    "    \n",
    "    x_scaled = (x - x_min) / (x_max - x_min) \n",
    "    y_scaled = (y - y_min) / (y_max - y_min)\n",
    "    coord_scaled = torch.stack([x_scaled, y_scaled], dim=1)\n",
    "    return coord_scaled "
   ],
   "outputs": [],
   "execution_count": 5
  },
  {
   "metadata": {
    "ExecuteTime": {
     "end_time": "2024-10-08T11:45:41.176979Z",
     "start_time": "2024-10-08T11:45:41.077746Z"
    }
   },
   "cell_type": "code",
   "source": [
    "for instance in instances:\n",
    "    problem = vrplib.read_instance(os.path.join(path_to_save, instance+'.vrp'))"
   ],
   "outputs": [],
   "execution_count": 7
  },
  {
   "cell_type": "markdown",
   "metadata": {},
   "source": [
    "## Test the greedy"
   ]
  },
  {
   "cell_type": "code",
   "execution_count": 18,
   "metadata": {},
   "outputs": [
    {
     "name": "stdout",
     "output_type": "stream",
     "text": [
      "Problem: A-n53-k7        Cost: 1371       Optimal Cost: 1010      \t Gap: 35.74%\n",
      "Problem: A-n54-k7        Cost: 1426       Optimal Cost: 1167      \t Gap: 22.19%\n",
      "Problem: A-n55-k9        Cost: 1333       Optimal Cost: 1073      \t Gap: 24.23%\n",
      "Problem: A-n60-k9        Cost: 1728       Optimal Cost: 1354      \t Gap: 27.62%\n",
      "Problem: A-n61-k9        Cost: 1297       Optimal Cost: 1034      \t Gap: 25.44%\n",
      "Problem: A-n62-k8        Cost: 1818       Optimal Cost: 1288      \t Gap: 41.15%\n",
      "Problem: A-n63-k9        Cost: 2166       Optimal Cost: 1616      \t Gap: 34.03%\n",
      "Problem: A-n63-k10       Cost: 1698       Optimal Cost: 1314      \t Gap: 29.22%\n",
      "Problem: A-n64-k9        Cost: 1805       Optimal Cost: 1401      \t Gap: 28.84%\n",
      "Problem: A-n65-k9        Cost: 1592       Optimal Cost: 1174      \t Gap: 35.60%\n",
      "Problem: A-n69-k9        Cost: 1641       Optimal Cost: 1159      \t Gap: 41.59%\n",
      "Problem: A-n80-k10       Cost: 2230       Optimal Cost: 1763      \t Gap: 26.49%\n",
      "Problem: B-n51-k7        Cost: 1270       Optimal Cost: 1032      \t Gap: 23.06%\n",
      "Problem: B-n52-k7        Cost: 994        Optimal Cost: 747       \t Gap: 33.07%\n",
      "Problem: B-n56-k7        Cost: 931        Optimal Cost: 707       \t Gap: 31.68%\n",
      "Problem: B-n57-k7        Cost: 1422       Optimal Cost: 1153      \t Gap: 23.33%\n",
      "Problem: B-n57-k9        Cost: 1889       Optimal Cost: 1598      \t Gap: 18.21%\n",
      "Problem: B-n63-k10       Cost: 1807       Optimal Cost: 1496      \t Gap: 20.79%\n",
      "Problem: B-n64-k9        Cost: 1150       Optimal Cost: 861       \t Gap: 33.57%\n",
      "Problem: B-n66-k9        Cost: 1746       Optimal Cost: 1316      \t Gap: 32.67%\n",
      "Problem: B-n67-k10       Cost: 1368       Optimal Cost: 1032      \t Gap: 32.56%\n",
      "Problem: B-n68-k9        Cost: 1737       Optimal Cost: 1272      \t Gap: 36.56%\n",
      "Problem: B-n78-k10       Cost: 1706       Optimal Cost: 1221      \t Gap: 39.72%\n",
      "Problem: E-n51-k5        Cost: 690        Optimal Cost: 521       \t Gap: 32.44%\n",
      "Problem: E-n76-k7        Cost: 1019       Optimal Cost: 682       \t Gap: 49.41%\n",
      "Problem: E-n76-k8        Cost: 1031       Optimal Cost: 735       \t Gap: 40.27%\n",
      "Problem: E-n76-k10       Cost: 1156       Optimal Cost: 830       \t Gap: 39.28%\n",
      "Problem: E-n76-k14       Cost: 1335       Optimal Cost: 1021      \t Gap: 30.75%\n",
      "Problem: E-n101-k8       Cost: 1265       Optimal Cost: 815       \t Gap: 55.21%\n",
      "Problem: E-n101-k14      Cost: 1567       Optimal Cost: 1067      \t Gap: 46.86%\n",
      "Problem: F-n72-k4        Cost: 425        Optimal Cost: 237       \t Gap: 79.32%\n",
      "Problem: F-n135-k7       Cost: 4219       Optimal Cost: 1162      \t Gap: 263.08%\n",
      "Problem: M-n101-k10      Cost: 1388       Optimal Cost: 820       \t Gap: 69.27%\n",
      "Problem: M-n121-k7       Cost: 1746       Optimal Cost: 1034      \t Gap: 68.86%\n",
      "Problem: M-n151-k12      Cost: 1906       Optimal Cost: 1015      \t Gap: 87.78%\n",
      "Problem: M-n200-k16      Cost: 2509       Optimal Cost: 1274      \t Gap: 96.94%\n",
      "Problem: M-n200-k17      Cost: 2339       Optimal Cost: 1275      \t Gap: 83.45%\n"
     ]
    }
   ],
   "source": [
    "for instance in instances:\n",
    "    problem = vrplib.read_instance(os.path.join(path_to_save, instance+'.vrp'))\n",
    "\n",
    "    coords = torch.tensor(problem['node_coord']).float()\n",
    "    coords_norm = normalize_coord(coords)\n",
    "    demand = torch.tensor(problem['demand'][1:]).float()\n",
    "    capacity = problem['capacity']\n",
    "    n = coords.shape[0]\n",
    "\n",
    "    # Prepare the tensordict\n",
    "    batch_size = 2\n",
    "    td = env.reset(batch_size=(batch_size,)).to(device)\n",
    "    td['locs'] = repeat(coords_norm, 'n d -> b n d', b=batch_size, d=2)\n",
    "    td['demand'] = repeat(demand, 'n -> b n', b=batch_size) / capacity\n",
    "    td['visited'] = torch.zeros((batch_size, 1, n), dtype=torch.uint8)\n",
    "    action_mask = torch.ones(batch_size, n, dtype=torch.bool)\n",
    "    action_mask[:, 0] = False\n",
    "    td['action_mask']  = action_mask\n",
    "\n",
    "    # Get the solution from the policy\n",
    "    with torch.no_grad():\n",
    "        out = policy(td.clone(), decode_type='greedy', return_actions=True)\n",
    "\n",
    "    # Calculate the cost on the original scale\n",
    "    td['locs'] = repeat(coords, 'n d -> b n d', b=batch_size, d=2)\n",
    "    neg_reward = env.get_reward(td, out['actions'])\n",
    "    cost = ceil(-1 * neg_reward[0].item())\n",
    "\n",
    "    # Load the optimal cost\n",
    "    solution = vrplib.read_solution(os.path.join(path_to_save, instance+'.sol'))\n",
    "    optimal_cost = solution['cost']\n",
    "\n",
    "    # Calculate the gap and print\n",
    "    gap = (cost - optimal_cost) / optimal_cost\n",
    "    print(f'Problem: {instance:<15} Cost: {cost:<10} Optimal Cost: {optimal_cost:<10}\\t Gap: {gap:.2%}')"
   ]
  },
  {
   "cell_type": "markdown",
   "metadata": {},
   "source": [
    "## Test the Augmentation"
   ]
  },
  {
   "cell_type": "code",
   "execution_count": 20,
   "metadata": {},
   "outputs": [
    {
     "name": "stdout",
     "output_type": "stream",
     "text": [
      "Problem: A-n53-k7        Cost: 1123       Optimal Cost: 1010      \t Gap: 11.19%\n",
      "Problem: A-n54-k7        Cost: 1305       Optimal Cost: 1167      \t Gap: 11.83%\n",
      "Problem: A-n55-k9        Cost: 1199       Optimal Cost: 1073      \t Gap: 11.74%\n",
      "Problem: A-n60-k9        Cost: 1534       Optimal Cost: 1354      \t Gap: 13.29%\n",
      "Problem: A-n61-k9        Cost: 1187       Optimal Cost: 1034      \t Gap: 14.80%\n",
      "Problem: A-n62-k8        Cost: 1474       Optimal Cost: 1288      \t Gap: 14.44%\n",
      "Problem: A-n63-k9        Cost: 1820       Optimal Cost: 1616      \t Gap: 12.62%\n",
      "Problem: A-n63-k10       Cost: 1505       Optimal Cost: 1314      \t Gap: 14.54%\n",
      "Problem: A-n64-k9        Cost: 1582       Optimal Cost: 1401      \t Gap: 12.92%\n",
      "Problem: A-n65-k9        Cost: 1332       Optimal Cost: 1174      \t Gap: 13.46%\n",
      "Problem: A-n69-k9        Cost: 1305       Optimal Cost: 1159      \t Gap: 12.60%\n",
      "Problem: A-n80-k10       Cost: 2044       Optimal Cost: 1763      \t Gap: 15.94%\n",
      "Problem: B-n51-k7        Cost: 1073       Optimal Cost: 1032      \t Gap: 3.97%\n",
      "Problem: B-n52-k7        Cost: 815        Optimal Cost: 747       \t Gap: 9.10%\n",
      "Problem: B-n56-k7        Cost: 792        Optimal Cost: 707       \t Gap: 12.02%\n",
      "Problem: B-n57-k7        Cost: 1219       Optimal Cost: 1153      \t Gap: 5.72%\n",
      "Problem: B-n57-k9        Cost: 1744       Optimal Cost: 1598      \t Gap: 9.14%\n",
      "Problem: B-n63-k10       Cost: 1611       Optimal Cost: 1496      \t Gap: 7.69%\n",
      "Problem: B-n64-k9        Cost: 931        Optimal Cost: 861       \t Gap: 8.13%\n",
      "Problem: B-n66-k9        Cost: 1427       Optimal Cost: 1316      \t Gap: 8.43%\n",
      "Problem: B-n67-k10       Cost: 1122       Optimal Cost: 1032      \t Gap: 8.72%\n",
      "Problem: B-n68-k9        Cost: 1382       Optimal Cost: 1272      \t Gap: 8.65%\n",
      "Problem: B-n78-k10       Cost: 1437       Optimal Cost: 1221      \t Gap: 17.69%\n",
      "Problem: E-n51-k5        Cost: 606        Optimal Cost: 521       \t Gap: 16.31%\n",
      "Problem: E-n76-k7        Cost: 816        Optimal Cost: 682       \t Gap: 19.65%\n",
      "Problem: E-n76-k8        Cost: 892        Optimal Cost: 735       \t Gap: 21.36%\n",
      "Problem: E-n76-k10       Cost: 943        Optimal Cost: 830       \t Gap: 13.61%\n",
      "Problem: E-n76-k14       Cost: 1160       Optimal Cost: 1021      \t Gap: 13.61%\n",
      "Problem: E-n101-k8       Cost: 1042       Optimal Cost: 815       \t Gap: 27.85%\n",
      "Problem: E-n101-k14      Cost: 1302       Optimal Cost: 1067      \t Gap: 22.02%\n",
      "Problem: F-n72-k4        Cost: 286        Optimal Cost: 237       \t Gap: 20.68%\n",
      "Problem: F-n135-k7       Cost: 1570       Optimal Cost: 1162      \t Gap: 35.11%\n",
      "Problem: M-n101-k10      Cost: 1037       Optimal Cost: 820       \t Gap: 26.46%\n",
      "Problem: M-n121-k7       Cost: 1283       Optimal Cost: 1034      \t Gap: 24.08%\n",
      "Problem: M-n151-k12      Cost: 1407       Optimal Cost: 1015      \t Gap: 38.62%\n",
      "Problem: M-n200-k16      Cost: 1811       Optimal Cost: 1274      \t Gap: 42.15%\n",
      "Problem: M-n200-k17      Cost: 1812       Optimal Cost: 1275      \t Gap: 42.12%\n"
     ]
    }
   ],
   "source": [
    "# Import augmented utils\n",
    "from rl4co.data.transforms import (\n",
    "    StateAugmentation as SymmetricStateAugmentation)\n",
    "from rl4co.utils.ops import batchify, unbatchify\n",
    "\n",
    "num_augment = 100\n",
    "augmentation = SymmetricStateAugmentation(num_augment=num_augment)\n",
    "\n",
    "for instance in instances:\n",
    "    problem = vrplib.read_instance(os.path.join(path_to_save, instance+'.vrp'))\n",
    "\n",
    "    coords = torch.tensor(problem['node_coord']).float()\n",
    "    coords_norm = normalize_coord(coords)\n",
    "    demand = torch.tensor(problem['demand'][1:]).float()\n",
    "    capacity = problem['capacity']\n",
    "    n = coords.shape[0]\n",
    "\n",
    "    # Prepare the tensordict\n",
    "    batch_size = 2\n",
    "    td = env.reset(batch_size=(batch_size,)).to(device)\n",
    "    td['locs'] = repeat(coords_norm, 'n d -> b n d', b=batch_size, d=2)\n",
    "    td['demand'] = repeat(demand, 'n -> b n', b=batch_size) / capacity\n",
    "    td['visited'] = torch.zeros((batch_size, 1, n), dtype=torch.uint8)\n",
    "    action_mask = torch.ones(batch_size, n, dtype=torch.bool)\n",
    "    action_mask[:, 0] = False\n",
    "    td['action_mask']  = action_mask\n",
    "    \n",
    "    # Augmentation\n",
    "    td = augmentation(td)\n",
    "\n",
    "    # Get the solution from the policy\n",
    "    with torch.no_grad():\n",
    "        out = policy(\n",
    "            td.clone(), decode_type='greedy', num_starts=0, return_actions=True\n",
    "        )\n",
    "\n",
    "    # Calculate the cost on the original scale\n",
    "    coords_repeat = repeat(coords, 'n d -> b n d', b=batch_size, d=2)\n",
    "    td['locs'] = batchify(coords_repeat, num_augment)\n",
    "    reward = env.get_reward(td, out['actions'])\n",
    "    reward = unbatchify(reward, num_augment)\n",
    "    cost = ceil(-1 * torch.max(reward).item())\n",
    "\n",
    "    # Load the optimal cost\n",
    "    solution = vrplib.read_solution(os.path.join(path_to_save, instance+'.sol'))\n",
    "    optimal_cost = solution['cost']\n",
    "\n",
    "    # Calculate the gap and print\n",
    "    gap = (cost - optimal_cost) / optimal_cost\n",
    "    print(f'Problem: {instance:<15} Cost: {cost:<10} Optimal Cost: {optimal_cost:<10}\\t Gap: {gap:.2%}')"
   ]
  },
  {
   "cell_type": "markdown",
   "metadata": {},
   "source": [
    "## Test the Sampling"
   ]
  },
  {
   "cell_type": "code",
   "execution_count": 21,
   "metadata": {},
   "outputs": [
    {
     "name": "stdout",
     "output_type": "stream",
     "text": [
      "Problem: A-n53-k7        Cost: 1191       Optimal Cost: 1010      \t Gap: 17.92%\n",
      "Problem: A-n54-k7        Cost: 1328       Optimal Cost: 1167      \t Gap: 13.80%\n",
      "Problem: A-n55-k9        Cost: 1286       Optimal Cost: 1073      \t Gap: 19.85%\n",
      "Problem: A-n60-k9        Cost: 1631       Optimal Cost: 1354      \t Gap: 20.46%\n",
      "Problem: A-n61-k9        Cost: 1230       Optimal Cost: 1034      \t Gap: 18.96%\n",
      "Problem: A-n62-k8        Cost: 1505       Optimal Cost: 1288      \t Gap: 16.85%\n",
      "Problem: A-n63-k9        Cost: 1840       Optimal Cost: 1616      \t Gap: 13.86%\n",
      "Problem: A-n63-k10       Cost: 1590       Optimal Cost: 1314      \t Gap: 21.00%\n",
      "Problem: A-n64-k9        Cost: 1643       Optimal Cost: 1401      \t Gap: 17.27%\n",
      "Problem: A-n65-k9        Cost: 1381       Optimal Cost: 1174      \t Gap: 17.63%\n",
      "Problem: A-n69-k9        Cost: 1451       Optimal Cost: 1159      \t Gap: 25.19%\n",
      "Problem: A-n80-k10       Cost: 2170       Optimal Cost: 1763      \t Gap: 23.09%\n",
      "Problem: B-n51-k7        Cost: 1187       Optimal Cost: 1032      \t Gap: 15.02%\n",
      "Problem: B-n52-k7        Cost: 884        Optimal Cost: 747       \t Gap: 18.34%\n",
      "Problem: B-n56-k7        Cost: 853        Optimal Cost: 707       \t Gap: 20.65%\n",
      "Problem: B-n57-k7        Cost: 1314       Optimal Cost: 1153      \t Gap: 13.96%\n",
      "Problem: B-n57-k9        Cost: 1744       Optimal Cost: 1598      \t Gap: 9.14%\n",
      "Problem: B-n63-k10       Cost: 1698       Optimal Cost: 1496      \t Gap: 13.50%\n",
      "Problem: B-n64-k9        Cost: 1045       Optimal Cost: 861       \t Gap: 21.37%\n",
      "Problem: B-n66-k9        Cost: 1506       Optimal Cost: 1316      \t Gap: 14.44%\n",
      "Problem: B-n67-k10       Cost: 1254       Optimal Cost: 1032      \t Gap: 21.51%\n",
      "Problem: B-n68-k9        Cost: 1510       Optimal Cost: 1272      \t Gap: 18.71%\n",
      "Problem: B-n78-k10       Cost: 1514       Optimal Cost: 1221      \t Gap: 24.00%\n",
      "Problem: E-n51-k5        Cost: 613        Optimal Cost: 521       \t Gap: 17.66%\n",
      "Problem: E-n76-k7        Cost: 882        Optimal Cost: 682       \t Gap: 29.33%\n",
      "Problem: E-n76-k8        Cost: 952        Optimal Cost: 735       \t Gap: 29.52%\n",
      "Problem: E-n76-k10       Cost: 1015       Optimal Cost: 830       \t Gap: 22.29%\n",
      "Problem: E-n76-k14       Cost: 1185       Optimal Cost: 1021      \t Gap: 16.06%\n",
      "Problem: E-n101-k8       Cost: 1189       Optimal Cost: 815       \t Gap: 45.89%\n",
      "Problem: E-n101-k14      Cost: 1420       Optimal Cost: 1067      \t Gap: 33.08%\n",
      "Problem: F-n72-k4        Cost: 344        Optimal Cost: 237       \t Gap: 45.15%\n",
      "Problem: F-n135-k7       Cost: 3130       Optimal Cost: 1162      \t Gap: 169.36%\n",
      "Problem: M-n101-k10      Cost: 1221       Optimal Cost: 820       \t Gap: 48.90%\n",
      "Problem: M-n121-k7       Cost: 1538       Optimal Cost: 1034      \t Gap: 48.74%\n",
      "Problem: M-n151-k12      Cost: 1688       Optimal Cost: 1015      \t Gap: 66.31%\n",
      "Problem: M-n200-k16      Cost: 2252       Optimal Cost: 1274      \t Gap: 76.77%\n",
      "Problem: M-n200-k17      Cost: 2260       Optimal Cost: 1275      \t Gap: 77.25%\n"
     ]
    }
   ],
   "source": [
    "# Parameters for sampling\n",
    "num_samples = 100\n",
    "softmax_temp = 0.05\n",
    "\n",
    "for instance in instances:\n",
    "    problem = vrplib.read_instance(os.path.join(path_to_save, instance+'.vrp'))\n",
    "\n",
    "    coords = torch.tensor(problem['node_coord']).float()\n",
    "    coords_norm = normalize_coord(coords)\n",
    "    demand = torch.tensor(problem['demand'][1:]).float()\n",
    "    capacity = problem['capacity']\n",
    "    n = coords.shape[0]\n",
    "\n",
    "    # Prepare the tensordict\n",
    "    batch_size = 2\n",
    "    td = env.reset(batch_size=(batch_size,)).to(device)\n",
    "    td['locs'] = repeat(coords_norm, 'n d -> b n d', b=batch_size, d=2)\n",
    "    td['demand'] = repeat(demand, 'n -> b n', b=batch_size) / capacity\n",
    "    td['visited'] = torch.zeros((batch_size, 1, n), dtype=torch.uint8)\n",
    "    action_mask = torch.ones(batch_size, n, dtype=torch.bool)\n",
    "    action_mask[:, 0] = False\n",
    "    td['action_mask']  = action_mask\n",
    "    \n",
    "    # Sampling\n",
    "    td = batchify(td, num_samples)\n",
    "\n",
    "    # Get the solution from the policy\n",
    "    with torch.no_grad():\n",
    "        out = policy(\n",
    "            td.clone(), decode_type='sampling', num_starts=0, return_actions=True\n",
    "        )\n",
    "\n",
    "    # Calculate the cost on the original scale\n",
    "    coords_repeat = repeat(coords, 'n d -> b n d', b=batch_size, d=2)\n",
    "    td['locs'] = batchify(coords_repeat, num_samples)\n",
    "    reward = env.get_reward(td, out['actions'])\n",
    "    reward = unbatchify(reward, num_samples)\n",
    "    cost = ceil(-1 * torch.max(reward).item())\n",
    "\n",
    "    # Load the optimal cost\n",
    "    solution = vrplib.read_solution(os.path.join(path_to_save, instance+'.sol'))\n",
    "    optimal_cost = solution['cost']\n",
    "\n",
    "    # Calculate the gap and print\n",
    "    gap = (cost - optimal_cost) / optimal_cost\n",
    "    print(f'Problem: {instance:<15} Cost: {cost:<10} Optimal Cost: {optimal_cost:<10}\\t Gap: {gap:.2%}')"
   ]
  }
 ],
 "metadata": {
  "kernelspec": {
   "display_name": "rl4co-user",
   "language": "python",
   "name": "python3"
  },
  "language_info": {
   "codemirror_mode": {
    "name": "ipython",
    "version": 3
   },
   "file_extension": ".py",
   "mimetype": "text/x-python",
   "name": "python",
   "nbconvert_exporter": "python",
   "pygments_lexer": "ipython3",
   "version": "3.10.0"
  }
 },
 "nbformat": 4,
 "nbformat_minor": 2
}
